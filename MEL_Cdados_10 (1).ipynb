{
 "cells": [
  {
   "cell_type": "code",
   "execution_count": 3,
   "id": "4ee9c334",
   "metadata": {},
   "outputs": [],
   "source": [
    "#Imports\n",
    "\n",
    "%matplotlib inline\n",
    "import pandas as pd\n",
    "import matplotlib.pyplot as plt\n",
    "import numpy as np\n",
    "import math\n",
    "from scipy import stats \n",
    "from IPython.display import display"
   ]
  },
  {
   "cell_type": "markdown",
   "id": "c15eaa67",
   "metadata": {},
   "source": [
    "Comandos Gerais de Utilidade:\n",
    "\n",
    ".to_frame()--> deixar dataframe formatado, visualmente bonito\n",
    ".transpose() --> inverter linhas colunas (deixar dataframe deitado)"
   ]
  },
  {
   "cell_type": "markdown",
   "id": "335de2fa",
   "metadata": {},
   "source": [
    "Variáveis "
   ]
  },
  {
   "cell_type": "markdown",
   "id": "a348409d",
   "metadata": {},
   "source": [
    "1 Variável : variável qualitativa e quantitativa"
   ]
  },
  {
   "cell_type": "markdown",
   "id": "4f672384",
   "metadata": {},
   "source": [
    "# Variável QUALITATIVA\n",
    "Palavras\n",
    "\n",
    "São categóricas, palavras que podem ser NOMINAIS ou ORDINAIS\n",
    "\n",
    "Nominais: nenhuma ordem natural entre valores\n",
    "Ordinais: possível estabelecer uma ordem"
   ]
  },
  {
   "cell_type": "markdown",
   "id": "89f9617e",
   "metadata": {},
   "source": [
    "dataframe.value_counts() ---> Tabela com frequênias absolutas \n",
    "\n",
    "dataframe.value_counts(True) --> Tabela com frequências relativas\n",
    "\n",
    "dataframe.dtypes --> mostar o tipo de cada variável de um dataframe"
   ]
  },
  {
   "cell_type": "markdown",
   "id": "72bc5a1d",
   "metadata": {},
   "source": [
    "# Variável QUANTITATIVA "
   ]
  },
  {
   "cell_type": "markdown",
   "id": "8884b858",
   "metadata": {},
   "source": [
    "Números, quantificáveis\n",
    "\n",
    "DISCRETA ou CONTINUA\n",
    "\n",
    ".describe() --> mostra medidas resumos de uma variável (min,max,media,mediana, q1 (percentual, separa os 25% menores valores dos demais), q3 (separa os 75% menores valores dos demais 25% maiores))\n",
    "\n",
    "pd.cut() --> transforma a variável quantitativa em qualitativa"
   ]
  },
  {
   "cell_type": "markdown",
   "id": "ac5bb37d",
   "metadata": {},
   "source": [
    "HISTOGRAMA\n",
    "\n",
    "plt.figure(figsize = (x,y))\n",
    "\n",
    "*argumento do subplot: janela gráfica com (X linhas, X colunas, posição que o histograma a seguir será colocado)\n",
    "\n",
    "plt.subplot (2,2,1)\n",
    "plt.hist(dados[vquant], density=True)\n",
    "plt.title()\n",
    "\n",
    "*utilizando bins como argumento --> recebe uma lista com as faixas (que desejamos dividir as amplitudes_ np.arange(0,100,2)) ou um número inteiro (divisão automática))\n",
    "plt.tight_layout()\n",
    "plt.show()\n"
   ]
  },
  {
   "cell_type": "markdown",
   "id": "ae0b34b6",
   "metadata": {},
   "source": [
    "# RELAÇÃO: Qualitativa x Quantitativa"
   ]
  },
  {
   "cell_type": "markdown",
   "id": "06df61f2",
   "metadata": {},
   "source": [
    "- Relação entre variáveis qualitativas:\n",
    "    \n",
    "    pd.crosstab() -> tabela cruzada de frequências de 2 variáveis qualitativas\n",
    "    pd.crosstab(dataframe['X'], dataframe['Y'])\n",
    "    argumento importante (normalize): (depende do questionamento do problema)\n",
    "       pd.crosstab(dataframe[quali1], dataframe[quali2], normalize= True/False/columns)\n",
    "       \n",
    "       normalize= True --> frequência RELATIVA do total geral\n",
    "       normalize= False --> frequência ABSOLUTA \n",
    "       normalize= 'columns' --> frequências relativas por total de coluna de cada categoria de quali 2\n",
    "    \n",
    "- Relação entre variáveis quantitativas e qualitativas:\n",
    "    \n",
    "    .groupby(by=Valor QUALITATIVO) -> separa o dataframe nas categorias existentes na variável qualitativa\n",
    "    \n",
    "    dataframe.groupby('X').Y.describe\n",
    "        sendo x= variável qualitativa\n",
    "        sendo y= variável quantitativa\n",
    "    \n",
    "- Relação entre variáveis quantitativas:\n",
    "associação linear\n",
    "   \n",
    "    - Covariância -->\n",
    "    dataframe.vquantitativa1.cov(df.vquantitativa2)\n",
    "    \n",
    "    Análise de Sinal\n",
    "    \n",
    "        Positiva: a medida que a variável quantitativa 1 aumenta, a variável quantitativa 2 aumenta também\n",
    "        (reta crescente)\n",
    "        \n",
    "        Negativa: a medida que a variável quantitativa 1 aumenta, a variável quantitativa 2 diminui \n",
    "        (reta descrescente)\n",
    "        \n",
    "    - Correlação --> \n",
    "    dataframe.vquantitativa1.corr(df.vquantitativa2)\n",
    "    \n",
    "    Análise de Sinal e Intensidade\n",
    "        \n",
    "        Intensidade :\n",
    "        Fraca: 0<=correlação<=0,3\n",
    "        Moderada: 0,3<correlação<=0,7\n",
    "        Forte: 0,7<correlaçã<=1\n",
    "        \n",
    "    SCATTER PLOT (gráfico de dispersão)\n",
    "    "
   ]
  },
  {
   "cell_type": "markdown",
   "id": "eea31849",
   "metadata": {},
   "source": [
    "Medidas de Posição (média, moda, mediana) X Histograma\n",
    "\n",
    "Análise:\n",
    "    \n",
    "    Assimentria a direita: média > mediana > moda  \n",
    "    Assimetria a esquerda: moda > mediana > média\n",
    "    Simetria: media = mediana = moda\n"
   ]
  },
  {
   "cell_type": "markdown",
   "id": "1e48dd6f",
   "metadata": {},
   "source": [
    "# Probabilidade"
   ]
  },
  {
   "cell_type": "markdown",
   "id": "bca251f9",
   "metadata": {},
   "source": [
    "Espaço amostral = omega\n",
    "P(Ac) = 1 - P(A)\n",
    "(evento P(Ac) complementar ao evento A (P(A)))\n",
    "\n",
    "Probabilidade Condicional (probabilidade de um evendo acontecer SABENDO QUE outro aconteceu)\n",
    "\n",
    "P(A|B) = P(AnB)/ P(B)\n",
    "\n",
    "Independência entre eventos:\n",
    "\n",
    "    P(A|B) = P(A) ou P(B)\n",
    "    O conhecimento sobre a ocorrência do outro não altera a expectativa sobre a probabilidade de ocorrência do evento\n",
    "    \n",
    "    Se A e B tem o mesmo espaço amostral e são independentes, então:\n",
    "    \n",
    "    P(AnB) = P(A).P(B)\n",
    "    \n",
    "Distribuição Conjunta: avaliação comportamento do conjunto de 2 variáveis\n",
    "Distribuição Marginal: avaliação comportamento individual de cada variável\n",
    "\n",
    "Eventos Independentes: P(AnB) = P(A).P(B)\n",
    "!=\n",
    "Eventos Disjuntos: P(AnB)=0\n",
    "    \n",
    "    "
   ]
  },
  {
   "cell_type": "markdown",
   "id": "894f4a79",
   "metadata": {},
   "source": [
    "# Teorema de Bayes"
   ]
  },
  {
   "cell_type": "markdown",
   "id": "ad8ac0ae",
   "metadata": {},
   "source": [
    "P(A|B) = P(B|A).P(A)/P(B)\n",
    "\n",
    "2 EVENTOS : \n",
    "    A -> evento que queremos classificar como algo\n",
    "    B -> evidência"
   ]
  },
  {
   "cell_type": "markdown",
   "id": "5a8b17b6",
   "metadata": {},
   "source": [
    "# Variáveis Aleatórias Discretas"
   ]
  },
  {
   "cell_type": "markdown",
   "id": "b15da1e5",
   "metadata": {},
   "source": [
    "Uma variável aleatória discreta X que assume vários valores\n",
    "\n",
    "P(X=x) --> função de probabilidade\n",
    "Somatória de todas as probailidades dos valores que X pode asusmir é 1!\n",
    "\n",
    "\n",
    "MÉDIA/ ESPERANÇA (valor esperado)\n",
    "      \n",
    "      Cálculo FOR python:\n",
    "      y = [valores de y]\n",
    "      Prob_Yigual = [valores com a probabilidade de Y=y]\n",
    "      E_Y = 0\n",
    "      for i in range(len(y)):\n",
    "            E_Y += y[i]*Prob_Yigualy[i]\n",
    "\n",
    "VARIÂNCIA\n",
    "\n",
    "    Cálculo FOR python:\n",
    "        x = [lista valores de x]\n",
    "        Var_X = 0\n",
    "        for i in range(len(x)):\n",
    "            Var_X += (x[i]-E_X)**2*Prob_Xigualx[i]"
   ]
  },
  {
   "cell_type": "markdown",
   "id": "702e0725",
   "metadata": {},
   "source": [
    "# Distribuição de Bernoulli"
   ]
  },
  {
   "cell_type": "markdown",
   "id": "edbeaa91",
   "metadata": {},
   "source": [
    "- Apenas 2 resultados possíveis\n",
    "- SUCESSO ou FRACASSO \n",
    "- Espaço amostral: soma do sucesso e do fracasso\n",
    "- Variável aleatpiria (X) pode assumir apenas dois valores (ou de sucesso ou de fracasso)\n",
    "\n",
    "P(X=x) = p^x (1-p)^(1-x) \n",
    "sendo x=0 ou x=1"
   ]
  },
  {
   "cell_type": "markdown",
   "id": "bb8336d9",
   "metadata": {},
   "source": [
    "# Distribuição Binomial"
   ]
  },
  {
   "cell_type": "markdown",
   "id": "fc3dd05c",
   "metadata": {},
   "source": [
    "- Repetições Independentes \n",
    "- Amostra constituida por uma sequência de sucessos e de fracassos\n",
    "- Contabilizar sucessos em n tentativas\n",
    "- Probabilidade de sucesso = p --> probabilidade de fracasso = 1-p\n",
    "\n",
    "Utiliza-se a árvore da probabilidade \n",
    "\n",
    "P(Y=y) = (n y) . p^y (1-p)^(n-y)\n",
    "\n",
    "n = número de tentativas\n",
    "y = número de sucessos\n",
    "P(Y=y) =probabilidade de y sucessos em n tentativas\n",
    "p = probabilidade de sucesso em cada tentativa\n",
    "(n y ) = análise combinatória = n!/y!(n-y)!\n",
    "\n"
   ]
  },
  {
   "cell_type": "markdown",
   "id": "400c9525",
   "metadata": {},
   "source": [
    "PYTHON\n",
    "\n",
    "from scipy import stats\n",
    "\n",
    "- P(Y=y) --> stats.binom.pmf(y,n,p)\n",
    "- P(Y<=y) -->stats.binom.cdf(y,n,p) \n",
    "- E(Y) --> stats.binom.mean(n,p) *esperança\n",
    "\n",
    "\n",
    "- Var(Y) --> stats.binom.var(n,p) *variância\n",
    "- DP(Y) --> stats.binom.std(n,p) *desvio padrão"
   ]
  },
  {
   "cell_type": "markdown",
   "id": "4b33502e",
   "metadata": {},
   "source": [
    "# Poisson"
   ]
  },
  {
   "cell_type": "markdown",
   "id": "50d118e9",
   "metadata": {},
   "source": [
    "- Modela o número de sucessos em um espaço contínuo (tempo, área, distância...)\n",
    "- Eventos são independentes\n",
    "\n",
    "P(X=x) = e^-mi . mi^x/ x!\n",
    "mi = número médio de eventos ocorrendo no intervalo"
   ]
  },
  {
   "cell_type": "markdown",
   "id": "4cecb3ea",
   "metadata": {},
   "source": [
    "PYTHON\n",
    "\n",
    "form scipy import stats\n",
    "\n",
    "- P(X=k)--> stats.poisson.pmf(k,mi) *palavras chave: exatamente...\n",
    "- p(x<=K) --> stats.poisson.cdf(k,mi) *palavras chave: no máximo, no mínimo, pelo menos.. // mais de não involve o número \n",
    "- E(X) --> stats.poisson.mean(mi)\n",
    "- Var(X) --> stats.poisson.var(mi)\n",
    "- DP(X) --> stats.poisson.std(mi)"
   ]
  },
  {
   "cell_type": "markdown",
   "id": "ff55a6ca",
   "metadata": {},
   "source": [
    "# PÓS PIs --> Modelos Probabilísticos Cotínuos "
   ]
  },
  {
   "cell_type": "markdown",
   "id": "836c0884",
   "metadata": {},
   "source": [
    "--> Distribuição Uniforme e Exponencial: AULA 16 "
   ]
  },
  {
   "cell_type": "code",
   "execution_count": null,
   "id": "704dcec2",
   "metadata": {},
   "outputs": [],
   "source": [
    "# o que faz pd.cut?\n",
    "# o que faz .probplot ?"
   ]
  },
  {
   "cell_type": "code",
   "execution_count": null,
   "id": "78cde874",
   "metadata": {},
   "outputs": [],
   "source": [
    "# VARIÁVEL ALEATÓRIA DISCRETA:\n",
    "    # Possibilidades (conjunto finito, enumerável)\n",
    "\n",
    "\n",
    "# VARIÁVEL ALEATÓRIA CONTÍNUA:\n",
    "    # Possibilidades (pertencem a um intervalo)\n",
    "    \n",
    "    \n",
    "# DISTRIBUIÇÃO CONTÍNUA DE PROBABILIDADES_\n",
    "\n",
    "# --> Variável pode assumir número infinito de valore pois é contínua\n",
    "\n",
    "# Probability Density Function (pdf)\n",
    "\n",
    "# Cumulative Distribution Function (cdf)\n",
    "\n",
    "# VARIÂNCIA X DESVIO PADRÃO X ESPERANÇA\n",
    "\n",
    "# variância = desvpad²\n",
    "\n",
    "# LEMBRANDO: (IMPORTANTE)\n",
    "# P(A|B) = P(B|A).P(A)/P(B)\n",
    "# P(A|B) = P(AnB)/P(B)\n",
    "\n",
    "# DISTRIBUIÇÃO UNIFORME \n",
    "# sendo que:\n",
    "# a --> ponto de partida (dado)\n",
    "# b --> ponto de chegada (dado)\n",
    "Esperança = mi = a+b/2\n",
    "Variância = (b-a)²/12\n",
    "\n",
    "# DISTRIBUIÇÃO EXPONENCIAL \n",
    "\n",
    "Esperanca = mi = 1/lambda\n",
    "Variância = sigma² = 1/lambda\n",
    "\n"
   ]
  },
  {
   "cell_type": "code",
   "execution_count": null,
   "id": "3e26e61b",
   "metadata": {},
   "outputs": [],
   "source": [
    "# TIPOS DE FUNÇÃO DENSIDADE\n",
    "\n",
    "- UNIFORME \n",
    "\n",
    "argumentos = (x, loc=a, scale= b-a)\n",
    "stats.uniform.pdf  -->\n",
    "stats.uniform.ppf --> a partir da área (%) achar o ponto \n",
    "stats.uniform.cdf --> a partir do ponto achar a área\n",
    "\n",
    "argumentos = (loc=a, scale=b-a)\n",
    "stats.uniform.mean\n",
    "stats.uniform.var\n",
    "stats.uniform.std\n",
    "\n",
    "\n",
    "- EXPONENCIAL \n",
    "\n",
    "argumentos = (x, scale = mi) \n",
    "stats.expon.pdf -> construir gráfico de fx, tendo intervalo de x\n",
    "stats.expon.ppf -> a partir da área achar ponto\n",
    "stats.expon.cdf -> a partir do ponto achar área\n",
    "\n",
    "argumentos = (scale=mi)\n",
    "stats.expon.mean -> média\n",
    "stats.expon.var -> variança\n",
    "stats.expon.std -> desvio padrão"
   ]
  },
  {
   "cell_type": "code",
   "execution_count": null,
   "id": "aed57c5a",
   "metadata": {},
   "outputs": [],
   "source": [
    "# GRÁFICO DE DENSIDADE DE PROBABILIDADE: UNIFORME\n",
    "\n",
    "# 1º lista de valores do eixo x\n",
    "# exemplo: # Gerando 1000 valores para o eixo x de 0 a 10\n",
    "# x = np.linspace(0, 10, 1000) ou x=np.arange(0,10,0.001)\n",
    "\n",
    "# 2º calculando fx a partir de pdf\n",
    "# fx = stats.uniform.pdf(x, loc=a, scale=b-a)\n",
    "\n",
    "# 3º montando o gráfico de fx X x por meio do plot \n",
    "# # exemplo\n",
    "# plt.plot(x,fx)\n",
    "# plt.title('Gráfico de Densidade Relativa, função uniforme a=100 e b=200')\n",
    "# plt.xlabel('x: bla')\n",
    "# plt.ylabel('f(x): fdp ou pdf')\n",
    "# plt.show()\n",
    "\n",
    "# GRÁFICO DE DENSIDADE DE PROBABILIDADE: EXPONENCIAL\n",
    "\n",
    "# 1º lista de valores do eixo x\n",
    "# 2º calculando fx a partir de pdf\n",
    "# 3º plotanto o gráfico com plot\n",
    "# plt.plot(x, fx)\n",
    "# plt.ylabel('f(x): fdp ou pdf')\n",
    "# plt.xlabel('x: valores de x')\n",
    "# plt.title('Gráfico de densidade de probabilidade, função exponencial, média=mi')\n",
    "# plt.show()"
   ]
  },
  {
   "cell_type": "markdown",
   "id": "f21b7408",
   "metadata": {},
   "source": [
    "--> Distribuição Normal: AULA 17/ AULA 18"
   ]
  },
  {
   "cell_type": "code",
   "execution_count": null,
   "id": "71a0b6ca",
   "metadata": {},
   "outputs": [],
   "source": [
    "# A distribuição normal segue uma simetria em que \n",
    "# E(X) = mi\n",
    "# Var(x) = sigma²\n",
    "# Média= mi, moda = mi, mediana =mi\n",
    "\n",
    "# Médias diferentes, mesmo desvio padrão: desloca-se o gráfico da normal no eixo x (com mesma faixa no eixo y)\n",
    "# Médias iguais e desvio padrões diferentes: descloca-se o gráfico no eixo y (alturas modificadas) com mesmo alinhamento no eixo x \n",
    "\n",
    "# A distribuição normal pode ser encontrada de 3 formas:\n",
    "# Cálculo da Integral (área abaixo da curva de probabilidade)\n",
    "# Software \n",
    "# Padronização da curva normal (utilizando a tabela--> estimativa não exata sobre probabilidade de um ponto no eixo x)\n",
    "\n",
    "# NORMAL PADRÃO DEFINIDA\n",
    "# TODA NORMAL POSSUI ESSA RELAÇÃO ABAIXO DE:\n",
    "# Z = X-mi/ sigma \n",
    "# Normal cujos argumentos são média=11 e variância(sigma²)=0\n",
    "\n",
    "# Para calcular áreas sob curvas normais que não seguem o comportamento da normal padrãode  (mi=1 e sigma²=0) é necessário converter x em z e depois calcular no python\n",
    "# ou após converter x em z procurar o valor numa tabela normal padrão"
   ]
  },
  {
   "cell_type": "code",
   "execution_count": null,
   "id": "6dc7524e",
   "metadata": {},
   "outputs": [],
   "source": [
    "- NORMAL\n",
    "\n",
    "argumentos= (x, loc=mi, scale=sigma)\n",
    "\n",
    "stats.norm.ppf --> área(quero achar o ponto)\n",
    "stats.norm.cdf --> ponto (quero achar a área)\n",
    "stats.norm.pdf --> construção fx\n",
    "\n",
    "stats.norm.var --> variança\n",
    "stats.norm.mean --> média\n",
    "stats.norm.std--> desvio padrão (sigma)"
   ]
  },
  {
   "cell_type": "markdown",
   "id": "612443bb",
   "metadata": {},
   "source": [
    "--> AULA 19"
   ]
  },
  {
   "cell_type": "markdown",
   "id": "6979c128",
   "metadata": {},
   "source": [
    "--> Propriedades variância, esperança considerando combinação linear entre variáveis aleatórias"
   ]
  },
  {
   "cell_type": "code",
   "execution_count": null,
   "id": "ffdbe0ad",
   "metadata": {},
   "outputs": [],
   "source": [
    "X --> variável aleatória qualquer \n",
    "\n",
    "# ESPERANÇA \n",
    "E(X+d) = E(x) + d # propriedade 1\n",
    "E(cX) = E(X) * c # propriedade 2\n",
    "\n",
    "E(cX + d) = E(X)*c + d #combinação das duas propriedades\n",
    "\n",
    "# VARINÃNCIA\n",
    "Var(X+d) = Var(X) # propriedade 1\n",
    "Var(cX)= c² * Var(X) # propriedade 2\n",
    "\n",
    "Var(cX + d) = c² * Var(X) #combinação das duas propriedades\n"
   ]
  },
  {
   "cell_type": "code",
   "execution_count": null,
   "id": "d4756362",
   "metadata": {},
   "outputs": [],
   "source": [
    "X e Y --> variáveis aleatórias quaisquer (dependentes ou independentes)\n",
    "\n",
    "# ESPERANÇA\n",
    "E(X+Y) = E(X) + E(Y)\n",
    "E(X-Y) = E(X)-E(Y)\n",
    "\n",
    "# VARIÂNCIA\n",
    "Var(X+Y)= Var(X) + Var(Y) + 2*Cov(X,Y)\n",
    "Var(X-Y)= Var(X) + Var(Y) - 2*Cov(X,Y) "
   ]
  },
  {
   "cell_type": "code",
   "execution_count": null,
   "id": "6d6c724c",
   "metadata": {},
   "outputs": [],
   "source": [
    "X e Y --> variáveis aleatórias INDEPENDENTES\n",
    "# Apenas a propriedade da variância é modificada\n",
    "\n",
    "Se X e Y são independentes: Cov(X,Y) = 0\n",
    "    Mas, não é sempre que quando a covariância entre 2 variáveis resulta em 0 que trata-se de variáveis independentes\n",
    "\n",
    "Nas propriedade, exclui-se 2Cov(X,Y)\n",
    "\n",
    "# VARIÂNCIA\n",
    "Var(X+Y)= Var(X) + Var(Y) + 2*Cov(X,Y)\n",
    "Var(X-Y)= Var(X) + Var(Y) - 2*Cov(X,Y) \n",
    "\n",
    "# DESVIO PADRÃO = RAÍZ QUADRADA DA VARIÂNCIA\n",
    "    "
   ]
  },
  {
   "cell_type": "code",
   "execution_count": null,
   "id": "cb5d53a6",
   "metadata": {},
   "outputs": [],
   "source": [
    "X e Y --> variáveis aleatórias com a e b constantes (dependentes ou independentes)\n",
    "aX, bY\n",
    "\n",
    "# ESPERANÇA\n",
    "E(aX+bY) = a*E(X) + b*E(Y)\n",
    "E(aX-bY) = a*E(X) - b*E(Y)\n",
    "\n",
    "# VARIÂNCIA\n",
    "Var(aX+bY) = a²*Var(X) + b²*Var(Y) + 2*a*b*Cov(X,Y)\n",
    "Var(aX-bY) = a²*Var(X) + b²*Var(Y) - 2*a*b*Cov(X,Y)\n",
    "\n",
    "# assim como no exemplo das variáveis X e Y sem constantes, caso as variáveis sejam independentes a covariância entre elas é nula, portanto apenas muda-se a variância, eliminando a parte que envolve a covariância"
   ]
  },
  {
   "cell_type": "code",
   "execution_count": 7,
   "id": "f3611e30",
   "metadata": {},
   "outputs": [
    {
     "data": {
      "text/plain": [
       "5.2815515655446"
      ]
     },
     "execution_count": 7,
     "metadata": {},
     "output_type": "execute_result"
    }
   ],
   "source": [
    "# Rascunho\n",
    "\n",
    "mi = 4\n",
    "sigma = 1\n",
    "ats.norm.ppf(0.9,loc=mi,scale=sigma)\n",
    "\n"
   ]
  },
  {
   "cell_type": "code",
   "execution_count": 10,
   "id": "9b76ca17",
   "metadata": {},
   "outputs": [
    {
     "data": {
      "image/png": "[encoded data removed]",
      "text/plain": [
       "<Figure size 432x288 with 1 Axes>"
      ]
     },
     "metadata": {
      "needs_background": "light"
     },
     "output_type": "display_data"
    }
   ],
   "source": [
    "\n",
    "# 1º lista de valores do eixo x\n",
    "# exemplo: # Gerando 1000 valores para o eixo x de 0 a 10\n",
    "# x = np.linspace(0, 10, 1000) ou x=np.arange(0,10,0.001)\n",
    "\n",
    "# 2º calculando fx a partir de pdf\n",
    "# fx = stats.uniform.pdf(x, loc=a, scale=b-a)\n",
    "\n",
    "# 3º montando o gráfico de fx X x por meio do plot \n",
    "# # exemplo\n",
    "# plt.plot(x,fx)\n",
    "# plt.title('Gráfico de Densidade Relativa, função uniforme a=100 e b=200')\n",
    "# plt.xlabel('x: bla')\n",
    "# plt.ylabel('f(x): fdp ou pdf')\n",
    "# plt.show()\n",
    "\n",
    "x = np.linspace(0, 8, 1000)\n",
    "fx = stats.norm.pdf(x, loc=mi, scale=sigma)\n",
    "\n",
    "plt.plot(x,fx)\n",
    "plt.title('Gráfico de Densidade Relativa, função uniforme a=100 e b=200')\n",
    "plt.xlabel('x: bla')\n",
    "plt.ylabel('f(x): fdp ou pdf')\n",
    "plt.show()\n"
   ]
  },
  {
   "cell_type": "markdown",
   "id": "c42e6466",
   "metadata": {},
   "source": [
    "# PF--> TLC, Teste de Hipótese, Regressão Linear"
   ]
  },
  {
   "cell_type": "markdown",
   "id": "2bb480a6",
   "metadata": {},
   "source": [
    "--> AULA 20: TLC"
   ]
  },
  {
   "cell_type": "code",
   "execution_count": null,
   "id": "64ddcdf5",
   "metadata": {},
   "outputs": [],
   "source": [
    "# Estatística: observações de uma amostra aleatória, da qual parte-se para prever informações a respeito de uma população\n",
    "# Distribuição de probabilidades de uma estatística: distribuição amostral\n",
    "\n",
    "# sendo n o tamanho da amostra\n",
    "\n",
    "# MÉDIA AMOSTRAL --> mi de Xbarra\n",
    "# Variância amostral --> sigma² de Xbarra\n",
    "\n",
    "# DISTRIBUIÇÃO EXATA NOMRAL\n",
    "\n",
    "# Caso o valor de n seja suficientemente grande, pode-se considerar \n",
    "(mi, sigma/(n)**(1/2))\n",
    "\n",
    "\n",
    "# Xbarra não seguirá comportamento normal quando n (tamanho da amostra) for pequeno \n"
   ]
  },
  {
   "cell_type": "code",
   "execution_count": null,
   "id": "c0b957e6",
   "metadata": {},
   "outputs": [],
   "source": [
    "- NORMAL, de acorod com o TLC (n grande, geralmente >30)\n",
    "\n",
    "argumentos= (x, loc=mi, scale=sigma/n**(1/2))\n",
    "\n",
    "stats.norm.ppf --> área(quero achar o ponto)\n",
    "stats.norm.cdf --> ponto (quero achar a área)\n",
    "stats.norm.pdf --> construção fx\n",
    "stats.norm.interval --> região de valores amostrais que contemlpam x% dos valores mais próximos de mi\n",
    "\n",
    "stats.norm.var --> variança\n",
    "stats.norm.mean --> média\n",
    "stats.norm.std--> desvio padrão (sigma)"
   ]
  },
  {
   "cell_type": "code",
   "execution_count": null,
   "id": "16a5eca7",
   "metadata": {},
   "outputs": [],
   "source": [
    "# GRÁFICOS A SEREM INCLUSOS\n",
    "\n",
    "- PROBPLOT\n",
    "# Tipos de pergunta:\n",
    "# Verificar graficamente se a distribuição da variável é normal\n",
    "# ao seguir a linha, aproxima-se do comportamento de uma normal\n",
    "#valores da amostra:\n",
    "    # dados['parâmetro']\n",
    "    # \n",
    "stats.probplot(valores_da_amostra, dist=\"norm\", plot=plt);"
   ]
  },
  {
   "cell_type": "code",
   "execution_count": null,
   "id": "f9e71303",
   "metadata": {},
   "outputs": [],
   "source": [
    "- GRÁFICO DISTRIBUIÇÃO NORMAL\n",
    "\n",
    "# --> esse linspace \n",
    "eixo_xb = np.linspace ((mi-(3*sigma)), (mi+(3*sigma)), 1000) # pode-se utilizar iso como o alcance do eixo x apenas pois a distribuição é normal!\n",
    "fxb = stats.norm.pdf(eixo_xb, loc=mi, scale=sigma/n**(1/2))\n",
    "\n",
    "plt.plot(eixo_xb,fxb)\n"
   ]
  },
  {
   "cell_type": "markdown",
   "id": "eec7254e",
   "metadata": {},
   "source": [
    "--> AULA 21: Margem de erro "
   ]
  },
  {
   "cell_type": "code",
   "execution_count": null,
   "id": "24b9bad3",
   "metadata": {},
   "outputs": [],
   "source": [
    "# Teoria\n",
    "# coeficiente de confiança (gama)\n",
    "# margem de erro (e) = Xarra - mi\n",
    "Z = (Xbarra-mi)/(sigma/n**(1/2))\n",
    "# Número de desvios padrão afastados da média, em uma distribuição normal padrão.\n",
    "\n",
    "\n",
    "# cálculo tamanho amostral (n) \n",
    "n = ((Z *sigma)/(Xbarra-mi))**2\n",
    "\n",
    "# distribuição da normal padrão -->\n",
    "\n",
    "# exercício d aula 21 exercícios --> copiar aqui lógica\n",
    "\n",
    "\n",
    "\n",
    "\n",
    "---------------------------------\n",
    "# c= stats.norm.ppf(1-0.05, loc=mi, scale= sigma/n**(1/2))\n",
    "\n",
    "# Rejeita-se H0 se Xbarra> c\n",
    "# c --> ponto de corte (valor crítico)\n"
   ]
  },
  {
   "cell_type": "code",
   "execution_count": null,
   "id": "103c9ccc",
   "metadata": {},
   "outputs": [],
   "source": [
    "# Códigos \n",
    "\n",
    "# MARGEM DE ERRO, Z, TAMANHO DA AMOSTRA\n",
    "e = Xbarra-mi0 # margem de erro \n",
    "z = (Xbarra-mi0)/(sigma/(n**(1/2))) #utilizado para cálculo da margem de erro quando média pe desconhecida\n",
    "n = ((z*sigma)/(Xbarra-mi0))**2 # tamanho da amostra\n",
    "\n",
    "# z é definido com base no coeficiente de confiança (aplha)\n",
    "# exemplo: sendo alpha 5%, ficaria 2,5% para cada lado do gráfico de distribuição, portanto 0.025 no ppf\n",
    "z = stats.norm.ppf(0.025, loc=mi, scale=sigma/n**(1/2))\n",
    "\n",
    "# QUESTÕES IMPORTANTES\n",
    "\n",
    "# Qual deve ser a região de valores de médias amostrais que contemplam X% das possíveis médias amostrais mais próximas de mi?\n",
    "#(sendo X=90%)\n",
    "ponto1 = stats.norm.ppf(0.95, loc=mi, scale=sigma/n**(1/2))\n",
    "ponto2 = stats.norm.ppf(0.5, loc=mi, scale=sigma/n**(1/2))\n",
    "# ponto 1 ao ponto 2 = região\n",
    "\n",
    "# ou \n",
    "stats.norm.interval(0.90, loc=mi, scale=sigma/n**(1/2)) \n",
    "# retornará ambos os valores seguidos (menor-maior)\n",
    "\n"
   ]
  },
  {
   "cell_type": "markdown",
   "id": "c1f139e9",
   "metadata": {},
   "source": [
    "--> AULA 22: Tomada de Decisões_Teste de Hipótese"
   ]
  },
  {
   "cell_type": "code",
   "execution_count": null,
   "id": "1ecf19cd",
   "metadata": {},
   "outputs": [],
   "source": [
    "# Definindo:\n",
    "# 1º Qual a variável aleatória de interesse? X--> variável sendo analisada \n",
    "# 2º Qual o parâmetro de interesse? mi --> média na população\n",
    "# 3º Qual a dúvida dos especialistas?\n",
    "\n",
    "# Hipóteses: afirmações sobre alguma característica da população por meio de uma variável de interesse X\n",
    "# Não são afirmações sobre a a amostra!!!\n",
    "\n",
    "# Hipóteses em relação ao parâmetro mi\n",
    "# Hipótese com igualdade (>=, <=, =) --> HIPÓTESE NULA\n",
    "# Hipótese sem igualdade (>, <, !=) --> HIPÓTESE ALTERNATIVA \n",
    "#(Ideia é tomar decisão em relação a hipótese nula)\n",
    "\n",
    "# Para descobrir se xbarra leva a rejeição da hipótese nula\n",
    "# distribuição de Xbarra: \n",
    "# Se X segue distribuição Normal --> normal de forma exata\n",
    "# Se X não segue distribuição Normal --> TLC, n suficientemente grande\n",
    "\n",
    "# Método consiste em rejeitar ou não a hipótese nula\n",
    "\n",
    "\n",
    "# Métodos para a tomada de decisões:\n",
    "# alpha --> nível de significância: probabilidade de erro (associado a decisão)\n",
    "# construção de uma região crítica : nível de significância\n",
    "# Como achar a região crítica?\n",
    "# Região crítica: \n",
    "\n",
    "COMO SABER QUAL O TIPO DE REGIÃO CRÍTICA?\n",
    "# sendo mi --> da amostra\n",
    "# sendo mi0 --> hipótese nula\n",
    "\n",
    "- DIREITA \n",
    "# Xcrítico estará a direita \n",
    "# H0___mi<=mi0\n",
    "# HA___mi>mi0\n",
    "rc = stats.norm.ppf(1-alpha, loc=mi0, scale=sigma/n**(1/2))\n",
    "\n",
    "- ESQUERDA\n",
    "# Xcrítico estará a esquerda\n",
    "# H0___mi>=mi0\n",
    "# HA___mi<mi0\n",
    "rc = stats.norm.ppf(alpha, loc=mi0, scale=sigma/n**(1/2))\n",
    "\n",
    "-BICAUDAL\n",
    "# Xcrítico em ambos os lados (alpha/2 --> para cada lado)\n",
    "# H0___mi=mi0\n",
    "# HA___mi!=mi0\n",
    "\n",
    "rc = stats.norm.ppf(alpha/2, loc=mi0, scale=sigma/n**(1/2))\n",
    "rc2 = stats.norm.ppf(1-(alpha/2), loc=mi0, scale=sigma/n**(1/2))\n",
    "\n",
    "# Quando ainda não temos mi (média amostral) --> considerar 1-aplha\n",
    "\n",
    "# Tipos de erros: rejeitar H0 quando H0 é verdadeira ou não rejeitar H0 quando H0 é falsa\n",
    "\n",
    "\n",
    "VALOR P\n",
    "# parte-se da ideia de que a hipótese nula é verdadeira\n",
    "# p --> é a probabilidade de obter um resultado igual ao da amostra ou masi externo \n",
    "\n",
    "CASOS UNILATERAIS (se média observada é muito maior ou muito menor do que mi da H0)\n",
    "\n",
    "P -> Esquerda (muito menor)\n",
    "# HA sinal menor \n",
    "p = stats.norm.cdf(xobservado, loc=mi0, scale=sigma/n**(1/2))\n",
    "\n",
    "P -> Direita (muito maior)\n",
    "# HA sinal maior\n",
    "p = 1- stats.norm.cdf(xobservado, loc =mi0, scale=sigma/n**(1/2))\n",
    "# p < alpha: rejeita-se H0\n",
    "# p> alpha: não rejeita-se H0\n",
    "\n",
    " CASOS BILATERAIS\n",
    "# HA sinal diferente\n",
    "# valor_p = 2p \n",
    "\n",
    "# xobservado > mi0\n",
    "p= 1-stats.norm.cdf(xobs, loc=mi0, scale=sigma/n**(1/2))\n",
    "\n",
    "# xobservado < mi0\n",
    "p = stats.norm.cdf(xobs, loc=mi0, scale=sigma/n**(1/2))\n",
    "\n",
    "\n",
    "\n",
    "\n",
    "\n",
    "# c --> ponto de corte (valor crítico)\n",
    "\n",
    "# quase sempre --> TEMOS MÉDIA DA AMOSTRA E QUEREMOS DESCOBRIR A DA POPULAÇÃO\n"
   ]
  },
  {
   "cell_type": "markdown",
   "id": "de65299e",
   "metadata": {},
   "source": [
    "1) Identificar a variável e o parâmetro de interesse\n",
    "\n",
    "2) Estabelecer as hipóteses sobre os valores do parâmetro.\n",
    "\n",
    "3) Identificar um estimador para o parâmetro de interesse e sua\n",
    "    distribuição de probabilidades quando 𝐻0 for verdadeira.\n",
    "\n",
    "4) Construir, baseado no estimador, a regra de decisão. Definir a\n",
    "    região crítica, a partir de um nível de significância préestabelecido (para     isso admitimos H0 verdadeira)\n",
    "\n",
    "5) Obter a estimativa do parâmetro e aplicar a regra de decisão.\n",
    "    Caso a estimativa pertença à região crítica, dizemos que,\n",
    "    como o nível de significância pré-estabelecido, há evidências\n",
    "    para rejeitar H0\n",
    "    Caso contrário, dizemos que não existem\n",
    "    evidências para a rejeição de"
   ]
  },
  {
   "cell_type": "markdown",
   "id": "4abb7666",
   "metadata": {},
   "source": [
    "--> AULA 23/24: TESTE DE HIPÓTESE (sigma conhecido)"
   ]
  },
  {
   "cell_type": "markdown",
   "id": "5e43e5da",
   "metadata": {},
   "source": [
    "Passo 1\n",
    "Definir a variável de interesse e o parâmetro de interesse de acordo com o problema.\n",
    "\n",
    "Passo 2\n",
    "Fixar a hipótese nula,  𝐻0  a ser testada e a hipótese alternativa ( 𝐻𝐴 )\n",
    "\n",
    "Em geral a hipótese alternativa denota algo notável ou efeito anômalo que se queira testar (por exemplo resistores fora de conformidade)\n",
    "\n",
    "Passo 3\n",
    "Defina qual estatística será usada para julgar a hipótese  𝐻0 .\n",
    "\n",
    "Lembre-se:\n",
    "\n",
    "Estatística é calculada na amostra\n",
    "A hipótese diz respeito à população de onde veio a amostra\n",
    "Importante: usar  𝑥⎯⎯⎯  (valor estimado na amostra) e a distribuição de  𝑋⎯⎯⎯⎯⎯  (distribuição de médias amostrais) para inferir (tomar decisão) algo sobre  𝜇  (média populacional).\n",
    "\n",
    "Passo 4\n",
    "Decida qual  𝛼  utilizar e defina a Região Crítica (RC) segundo  𝐻0 .\n",
    "\n",
    "Sobre  𝛼 :\n",
    "\n",
    "𝛼  é a probabilidade de rejeitar  𝐻0  mesmo que ela seja verdadeira.\n",
    "𝛼  é chamado de nível de significância.\n",
    "Tipicamente  𝛼  é fixado em  1% ,  5%  ou  10% \n",
    "1−𝛼  é chamado de nível de confiança (ou coeficiente de confiança).\n",
    "\n",
    "Passo 5\n",
    "Calcule a estatística da amostra. Por exemplo  𝑥⎯⎯⎯ .\n",
    "\n",
    "Se o valor da estatística estiver na região crítica, rejeite  𝐻0 ; caso contrário, não rejeite (nunca aceite)  𝐻0 ."
   ]
  },
  {
   "cell_type": "code",
   "execution_count": null,
   "id": "4b1ff08d",
   "metadata": {},
   "outputs": [],
   "source": [
    "# em termos de contas/ códigos --> tem alguma diferença entre distribuição normal exata e distribuição normal via TLC?\n",
    "\n",
    "# distribuição normal --> Xbarra\n",
    "# X --> variável de interesse (para cada um) se isso se comporta como uma normal --> Xbarra (normal exata)\n",
    "# Variável de interesse X normal--> XBARRA normal exata \n",
    "\n",
    "\n",
    "# Xbarra --> média gerada"
   ]
  },
  {
   "cell_type": "code",
   "execution_count": null,
   "id": "b8e0f5ce",
   "metadata": {},
   "outputs": [],
   "source": [
    "# VALOR P : CDF\n",
    "# REGIÃO CRÍTICA: PPF \n",
    "# ALPHA --> NÍVEL DE SIGNIFICÃNCIA\n",
    "\n",
    "# valor p < alpha --> rejeita-se H_0\n",
    "\n",
    "# verificar se valor p < alpha --> rejeição H_0\n",
    "# vantagem do valor p:\n",
    "    #- \n",
    "\n",
    "# Valor c --> ponto crítico \n",
    "\n",
    "# Valor -->\n",
    "\n",
    "# IMPORTANTE:\n",
    "\n",
    "#NÍVEL DE CONFIANÇA OU COEFICIENTE DE CONFIANÇA = 1-alpha\n"
   ]
  },
  {
   "cell_type": "code",
   "execution_count": null,
   "id": "ea8c2764",
   "metadata": {},
   "outputs": [],
   "source": [
    "Podemos tirar conclusões em relação a H_0 e H_A -> via região crítica ou valor-p "
   ]
  },
  {
   "cell_type": "markdown",
   "id": "5138fea7",
   "metadata": {},
   "source": [
    "--> AULA 25: TESTE DE HIPÓTESE SIGMA DESCONHECIDO"
   ]
  },
  {
   "cell_type": "code",
   "execution_count": null,
   "id": "c1c4872f",
   "metadata": {},
   "outputs": [],
   "source": [
    "# quando desconhecemos a variância populacional (sigma²) e, pois, o desvio padrão (sigma) NÃO FAZEMOS USO DO TLC\n",
    "\n",
    "# apenas variáveis de interesse com distribuição normal\n",
    "\n",
    "# S : desvio padrão da amostra (CÁLCULADO A PARTIR DA AMOSTRA)\n",
    "# sigma : desvio padeão da população (DESCONHECIDO)\n",
    "\n",
    "# estatística observada sobre H_0\n",
    "Tobservado:\n",
    "# t = (Xbarra -mi0)/ (S/(n**(1/2))\n",
    "tobs = (xbarra-mi0)/(s/(n)**(1/2))\n",
    "\n",
    "# REGIÃO CRÍTICA\n",
    "tc = stats.t.ppf(alpha, df=n-1)\n",
    "# rejeitar H0 ao nível de significância alpha, SE Tobs < Tcrítica\n",
    "\n",
    "# VALOR-P \n",
    "vp = stats.t.cdf(Tobs, df =n-1)\n",
    "\n",
    "CASO UNILATERAL A DIREITA\n",
    "# --> H0 mi <= mi0\n",
    "# --> HA mi > mi0\n",
    "\n",
    "# Região Crítica\n",
    "rc = stats.t.ppf (1-alpha, df=n-1)\n",
    "# rejeitar H0___ Tobs > rc\n",
    "\n",
    "# Valor-p\n",
    "vp = 1-(stats.t.cdf(tobs, df=n-1))\n",
    "\n",
    "CASO UNILATERAL A ESQUERDA\n",
    "# --> H0 mi >= mi0\n",
    "# --> HA mi < mi0\n",
    "\n",
    "# Região Crítica\n",
    "rc = stats.t.ppf(alpha, df=n-1)\n",
    "\n",
    "# Valor-p\n",
    "vp = stats.t.cdf(tobs, df=n-1)\n",
    "\n",
    "CASO BILATERAL \n",
    "# --> H0 mi = mi0\n",
    "# --> HA mi != mi0\n",
    "\n",
    "# Região Crítica\n",
    "rc = stats.t.ppf (1-(alpha/2), df=n-1)\n",
    "# rejeitar H0___ Tobs > Tc\n",
    "\n",
    "# Valor-p\n",
    "vp = 2*p\n",
    "\n",
    "# Xbarra < mi0\n",
    "p = stats.t.cdf(Tobs, df=n-1)\n",
    "\n",
    "# Xbarra > mi0\n",
    "p = 1-(stats.t.cdf(Tobs, df=n-1))\n",
    "\n",
    "# PASSOS\n",
    "# 1º: HA e H0\n",
    "# 2º: estatística de teste \n",
    "# 3º: região crítica e valor-p (para rejeitar ou aceitar H0)"
   ]
  },
  {
   "cell_type": "markdown",
   "id": "3ae39c69",
   "metadata": {},
   "source": [
    "--> AULA 26: REGRESSÃO LINEAR"
   ]
  },
  {
   "cell_type": "code",
   "execution_count": null,
   "id": "8e405a58",
   "metadata": {},
   "outputs": [],
   "source": []
  }
 ],
 "metadata": {
  "kernelspec": {
   "display_name": "Python 3 (ipykernel)",
   "language": "python",
   "name": "python3"
  },
  "language_info": {
   "codemirror_mode": {
    "name": "ipython",
    "version": 3
   },
   "file_extension": ".py",
   "mimetype": "text/x-python",
   "name": "python",
   "nbconvert_exporter": "python",
   "pygments_lexer": "ipython3",
   "version": "3.9.7"
  }
 },
 "nbformat": 4,
 "nbformat_minor": 5
}

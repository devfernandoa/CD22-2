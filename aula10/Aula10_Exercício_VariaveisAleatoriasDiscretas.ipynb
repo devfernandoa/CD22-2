{
 "cells": [
  {
   "cell_type": "markdown",
   "metadata": {},
   "source": [
    "___\n",
    "# Exercício: Variáveis aleatórias discretas\n",
    "___\n",
    "\n",
    "## Aula 10"
   ]
  },
  {
   "cell_type": "markdown",
   "metadata": {},
   "source": [
    "<div id=\"indice\"></div>\n",
    "\n",
    "## Índice\n",
    "\n",
    "  - [Exercício 1](#ex1) **- APS5 disponível no Blackboard**\n",
    "  - [Exercício 2](#ex2)\n",
    "  - [Exercício 3](#ex3) **- APS5 disponível no Blackboard**"
   ]
  },
  {
   "cell_type": "markdown",
   "metadata": {},
   "source": [
    "___\n",
    "<div id=\"ex1\"></div>\n",
    "\n",
    "### EXERCÍCIO 1\n",
    "\n",
    "Um rapaz está pensando em convidar sua namorada para sair. O problema é que as despesas correm por sua conta. \n",
    "\n",
    "Eles podem ir ao cinema ou ao teatro. 70% das vezes ela prefere ir ao cinema, nesse caso, ele gasta 70.00 com os ingressos. \n",
    "Quando eles vão ao teatro, o gasto fica em 190.00. \n",
    "\n",
    "Se eles forem ao cinema, ele sabe que em 80% das vezes ela pede para ir jantar, a despesa adicional do jantar fica em 130.00; 20% das vezes, eles vão direto para casa. \n",
    "\n",
    "Levando a namorada ao teatro, em 40% das vezes ela pede para ir jantar e 60% das vezes eles vão direto para casa. \n",
    "\n",
    "a) Qual a distribuição de probabilidades do gasto que o rapaz tem com a namorada? Use a letra $G$ para variável gasto do rapaz com a namorada."
   ]
  },
  {
   "cell_type": "code",
   "execution_count": 1,
   "metadata": {},
   "outputs": [],
   "source": [
    "# ESCREVA SEU CÓDIGO AQUI\n",
    "G1 = 200 # 0.56\n",
    "G2 = 70 # 0.14\n",
    "G3 = 190 # 0.12\n",
    "G4 = 320 # 0.18"
   ]
  },
  {
   "cell_type": "code",
   "execution_count": null,
   "metadata": {},
   "outputs": [],
   "source": []
  },
  {
   "cell_type": "markdown",
   "metadata": {},
   "source": [
    "b) Qual o gasto médio? E o seu desvio-padrão?\n",
    "\n",
    "*Resposta esperada para média e desvio padrão respectivamente: 194.4 ; 63.87988728856681*"
   ]
  },
  {
   "cell_type": "code",
   "execution_count": 8,
   "metadata": {},
   "outputs": [
    {
     "name": "stdout",
     "output_type": "stream",
     "text": [
      "194.4\n"
     ]
    },
    {
     "data": {
      "text/plain": [
       "63.879887288566806"
      ]
     },
     "execution_count": 8,
     "metadata": {},
     "output_type": "execute_result"
    }
   ],
   "source": [
    "# ESCREVA SEU CÓDIGO AQUI\n",
    "import numpy as np\n",
    "from math import *\n",
    "lis = np.array([200*0.56, 70*0.14, 190*0.18, 320*0.12])\n",
    "gastomed = sum(lis)\n",
    "\n",
    "gastomed2 = 200**2*0.56 + 70**2*0.14 + 190**2*0.18 + 320**2*0.12\n",
    "\n",
    "var = gastomed2- gastomed**2\n",
    "\n",
    "desvpad = sqrt(var)\n",
    "print(gastomed)\n",
    "desvpad"
   ]
  },
  {
   "cell_type": "markdown",
   "metadata": {},
   "source": [
    "c) Com a inflação deste ano, o gasto total aumentou até agora 9.00, mas com a crise geral, o casal resolveu reduzir esse novo gasto total em 15%. Calcule o novo gasto médio e respectivo desvio padrão. Chame o novo gasto de $Y$.\n"
   ]
  },
  {
   "cell_type": "code",
   "execution_count": 20,
   "metadata": {},
   "outputs": [
    {
     "name": "stdout",
     "output_type": "stream",
     "text": [
      "172.89\n",
      "54.29790419528185\n"
     ]
    }
   ],
   "source": [
    "# ESCREVA SEU CÓDIGO AQUI\n",
    "v1 = 209\n",
    "v2 = 79\n",
    "v3 = 199\n",
    "v4 = 329\n",
    "\n",
    "v1 -= v1*0.15\n",
    "v2 -= v2*0.15\n",
    "v3 -= v3*0.15\n",
    "v4 -= v4*0.15\n",
    "\n",
    "Y = v1 * 0.56 + v2 * 0.14 + v3 * 0.18 + v4 * 0.12\n",
    "Y2 = v1**2 * 0.56 + v2**2 * 0.14 + v3**2 * 0.18 + v4**2 * 0.12\n",
    "\n",
    "var2 = Y2 - Y**2\n",
    "dp = sqrt(var2)\n",
    "print(Y)\n",
    "print(dp)"
   ]
  },
  {
   "cell_type": "markdown",
   "metadata": {},
   "source": [
    "___\n",
    "<div id=\"ex2\"></div>\n",
    "\n",
    "### EXERCÍCIO 2 - extraído de Montgomery e Runger\n",
    "\n",
    "*Exercício 3-33*\n",
    "\n",
    "Um arranjo consiste em três componentes mecânicos.\n",
    "\n",
    "Suponha que as probabilidades de o primeiro, o segundo e o terceiro componentes satisfazerem as especificações sejam iguais a 0,95; 0,98 e 0,99.\n",
    "\n",
    "Considere que os componentes sejam independentes.\n",
    "\n",
    "Construa a distribuição de probabilidades do número de componentes no arranjo que satisfazem as especificações.\n"
   ]
  },
  {
   "cell_type": "code",
   "execution_count": null,
   "metadata": {},
   "outputs": [],
   "source": [
    "# ESCREVA SEU CÓDIGO AQUI"
   ]
  },
  {
   "cell_type": "markdown",
   "metadata": {},
   "source": [
    "___\n",
    "<div id=\"ex3\"></div>\n",
    "\n",
    "### EXERCÍCIO 3 - extraído de Montgomery e Runger\n",
    "\n",
    "*Exercício 3-67*\n",
    "\n",
    "O sistema de controle aéreo, chamado PASS (Primary Avionics Software Set), do ônibus espacial usa quatro computadores independentes trabalhando em paralelo. \n",
    "\n",
    "Em cada etapa crítica, os computadores “votam” para determinar a etapa apropriada. A probabilidade de o computador pedir para manobrar para a esquerda quando uma manobra para a direita seria apropriada é de 0,0001. \n",
    "\n",
    "Seja X o número de computadores que votam em uma manobra para a esquerda quando uma manobra para a direita seria apropriada. \n",
    "\n",
    "Construa a distribuição de probabilidades de X. Calcule média e desvio padrão.\n"
   ]
  },
  {
   "cell_type": "markdown",
   "metadata": {},
   "source": [
    "Qual média de X? E o seu desvio-padrão?"
   ]
  },
  {
   "cell_type": "code",
   "execution_count": 31,
   "metadata": {},
   "outputs": [
    {
     "name": "stdout",
     "output_type": "stream",
     "text": [
      "9.997300369982\n",
      "8.36391734641814\n"
     ]
    }
   ],
   "source": [
    "# ESCREVA SEU CÓDIGO AQUI\n",
    "x0 = 0.0001 ** 4\n",
    "x1 = 0.0001 ** 3 + (1-0.0001)\n",
    "x2 = 0.0001 ** 2 + (1-0.0001) ** 2\n",
    "x3 = 0.0001 + (1-0.0001) ** 3\n",
    "x4 = (1-0.0001) ** 4\n",
    "\n",
    "v0 = 0\n",
    "v1 = 1\n",
    "v2 = 2\n",
    "v3 = 3\n",
    "v4 = 4\n",
    "\n",
    "Y = v0 * x0 + v1 * x1 + v2 * x2 + v3 * x3 + v4 * x4\n",
    "Y2 = v0 ** 2 + x0 + v1**2 * x1 + v2**2 * x2 + v3**2 * x3 + v4**2 * x4\n",
    "\n",
    "var2 = abs(Y2 - Y**2)\n",
    "dp = sqrt(var2)\n",
    "print(Y)\n",
    "print(dp)"
   ]
  },
  {
   "cell_type": "code",
   "execution_count": 20,
   "metadata": {},
   "outputs": [
    {
     "name": "stdout",
     "output_type": "stream",
     "text": [
      "[0.0, 9.999999700003337e-29, 7.998400079990203e-40, 5.9991000300008196e-52, 4.000000000000004e-64]\n",
      "9.999999700163305e-29\n",
      "5.476394919098512\n"
     ]
    }
   ],
   "source": [
    "from scipy import stats\n",
    "\n",
    "x0 = 0.0001 ** 4\n",
    "x1 = 0.0001 ** 3 + (1-0.0001)\n",
    "x2 = 0.0001 ** 2 + (1-0.0001) ** 2\n",
    "x3 = 0.0001 + (1-0.0001) ** 3\n",
    "x4 = (1-0.0001) ** 4\n",
    "\n",
    "xl = [x0,x1,x2,x3,x4]\n",
    "\n",
    "xc0 = 1 - x0\n",
    "xc1 = 1 - x1\n",
    "xc2 = 1 - x2\n",
    "xc3 = 1 - x3\n",
    "xc4 = 1 - x4\n",
    "xcl = [xc0,xc1,xc2,xc3,xc4]\n",
    "\n",
    "Y = []\n",
    "for i in range(5):\n",
    "    Y.append(i * xl[0]**i * xcl[i]**(4-i))\n",
    "\n",
    "print(Y)\n",
    "\n",
    "YY = 0\n",
    "\n",
    "for i in range(5):\n",
    "    YY += i * Y[i]\n",
    "    \n",
    "Y2 = v0 ** 2 + x0 + v1**2 * x1 + v2**2 * x2 + v3**2 * x3 + v4**2 * x4\n",
    "var2 = Y2 - YY**2\n",
    "dp = sqrt(var2)\n",
    "print(YY)\n",
    "print(dp)"
   ]
  },
  {
   "cell_type": "code",
   "execution_count": null,
   "metadata": {},
   "outputs": [],
   "source": []
  }
 ],
 "metadata": {
  "kernelspec": {
   "display_name": "Python 3 (ipykernel)",
   "language": "python",
   "name": "python3"
  },
  "language_info": {
   "codemirror_mode": {
    "name": "ipython",
    "version": 3
   },
   "file_extension": ".py",
   "mimetype": "text/x-python",
   "name": "python",
   "nbconvert_exporter": "python",
   "pygments_lexer": "ipython3",
   "version": "3.9.7"
  }
 },
 "nbformat": 4,
 "nbformat_minor": 4
}

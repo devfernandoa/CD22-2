{
 "cells": [
  {
   "cell_type": "markdown",
   "metadata": {},
   "source": [
    "# AF - Avaliação Final de Ciência dos dados \n",
    "\n",
    "## 2022 - 2o. semestre \n",
    "\n",
    "___\n"
   ]
  },
  {
   "cell_type": "markdown",
   "metadata": {},
   "source": [
    "# NOME: Fernando Alzueta"
   ]
  },
  {
   "cell_type": "markdown",
   "metadata": {},
   "source": [
    "___\n",
    "## Instruções\n",
    "\n",
    "**Leia atentamente as instruções desta avaliação. Essas devem ser seguidas rigorosamente!**\n",
    "\n",
    "**Prezado(a) Aluno(a),**\n",
    "\n",
    "Dia da prova **dia 08/12** das 13h30min às 16h00.\n",
    "\n",
    "Esta avaliação terá as seguintes etapas:\n",
    "\n",
    "**13h30 às 13h40**\n",
    "       \n",
    " * **(10 minutos) - PROCTORIO:** Entre no Blackboard e inicie o teste em `Conteúdos/Avaliações/Avaliação Final/AF (Proctorio e Arquivos)`. Caso não ative esse teste em até 10 minutos do início da prova (ou seja, até às 13h40), não terá mais direito de entregar essa prova, obtendo falta na mesma.\n",
    "\n",
    "\n",
    "**13h40 às 15h40**  \n",
    "\n",
    " * **(120 minutos) - Desenvolvimento da prova:** Concentre-se em resolver o notebook.\n",
    " * ATENÇÃO: administre esse tempo da maneira que julgar mais adequada para você. **NÃO utilize o cronômetro do Proctorio como referência, mas sim o tempo 120 minutos de prova para realização da prova.**\n",
    "\n",
    "\n",
    "**15h40 às 15h50**  \n",
    " * **(10 minutos) - Entrega via Blackboard - Notebook:** O arquivo `.ipynb` deve ser entregue em `Conteúdos/Avaliações/Avaliação Final/Entrega da prova`. \n",
    " * ATENÇÃO: **finalize o proctorio APENAS após anexar a avaliação no Blackboard.**\n",
    "\n",
    "\n",
    "<br>\n",
    "\n",
    "Leia atentamente as instruções a seguir e as questões da prova antes de começar a resolvê-la."
   ]
  },
  {
   "cell_type": "markdown",
   "metadata": {},
   "source": [
    "#### Avisos GERAIS: \n",
    "\n",
    "1. Identifique-se no cabeçalho deste arquivo. Essa prova é INDIVIDUAL.\n",
    "1. Você terá 120 minutos a partir do início oficial da prova para concluir esta avaliação, administre bem o seu tempo. Leia atentamente as instruções a seguir e as questões da prova antes de começar a resolvê-la. \n",
    "\n",
    "1. Esta avaliação:\n",
    "  * **PERMITE consulta de material do Blackboard e material on-line (usar navegador para pesquisas no Google, por exemplo)**. \n",
    "  * **NÃO PERMITE consulta de caderno ou qualquer outro material físico.**\n",
    "  * **NÃO PERMITE consulta a colegas (presencial ou remotamente), ou seja, não é permitido ter alguém ao seu lado assim como não é permitido conversar pelo WhatsApp, enviar e-mail ou qualquer outro formato em que converse com outra pessoa**. \n",
    "  * **PERMITE UTILIZAR APENAS UM COMPUTADOR NO QUAL ESTARÁ REALIZANDO A PROVA.**\n",
    "  * **NÃO PERMITE utilizar CELULAR, TABLET, SEGUNDO COMPUTADOR (ou NOTEBOOK) ou qualquer outro aparelho eletrônico no momento da prova.**\n",
    "  * **O desrespeito as essas regras constituirá violação ao Código de Ética e de Conduta e acarretará sanções nele previstas. Faça o seu trabalho de maneira ética!** \n",
    "\n",
    "1. Sua prova utilizará o sistema de Proctoring.  Para instalar a extensão, acesse o site https://getproctorio.com/ pelo Google Chrome e siga os passos indicados. Caso tenha dúvidas ou dificuldades, avise seu professor pelo chat e entre em contato com o Help Desk por meio de abertura de chamado ou pelo telefone (11) 4504-2550.\n",
    "Para realizar a prova será necessário:\n",
    "  *\tUm desktop ou um notebook com qualquer sistema operacional (dispositivos móveis não serão aceitos)\n",
    "  *\tNavegador Google Chrome (o sistema funciona somente nele)\n",
    "  *\tExtensão da plataforma instalada (sem ela o sistema não funcionará)\n",
    "\n",
    "1. **É proibido o uso de fones de ouvido durante toda a prova. Não leia as questões em voz alta. Não ouvir música.**\n",
    "1. **ENTREGA DO ARQUIVO**: Antes de sair da prova, garanta que entregou a prova no link indicado. Verifique se o arquivo das questões resolvidas teve seu upload concluído e que fechou o teste ao final. Você é o responsável pela entrega adequada de todas as questões de sua prova. Avaliações entregues fora do prazo não serão aceitas para correção.\n",
    "1. Caso precise se ausentar da prova para ir ao banheiro, comunique o(a) professor(a). Lembre-se de ser rápido e retornar prontamente à prova."
   ]
  },
  {
   "cell_type": "markdown",
   "metadata": {},
   "source": [
    "#### Avisos sobre desenvolvimento da prova:\n",
    "\n",
    "1. Esta Avaliação consiste em responder um arquivo Jupyter que será anexado ao Blackboard ao final da prova.\n",
    "1. Leia atentamente as **Precauções de segurança** abaixo para evitar ter sua prova anulada.\n",
    "1. Você não pode compartilhar material com seus colegas durante a prova.\n",
    "1. Em caso de dúvida sobre alguma questão desta avaliação, redija um texto em uma nova célula deste Jupyter notebook explicitando-a para que o professor avalie a pertinência durante a correção.  \n",
    "1. Leia atentamente cada questão e responda o que for pedido. Erros conceituais serão penalizados, mesmo que o conceito não se relacione com o que foi pedido na questão.\n",
    "1. Caso em algum item você necessite do resultado de um item anterior que você não conseguiu fazer, admita um valor razoável para esse resultado e faça o item normalmente. Indique na questão, caso isso aconteça.\n",
    "1. Todos os resultados devem ser justificados. Números que apareçam sem uma explicação de como foram encontrados serão ignorados na correção.\n",
    "1. **A qualidade do código na resolução em cada item também será levada em consideração, ou seja, códigos complicados para soluções que podem ser simples serão penalizados.**\n",
    "1. Esta avaliação requer **entrega via Blackboard**. **Não serão consideradas entregas por outros meios** (ex: e-mail, MS Teams, etc.)."
   ]
  },
  {
   "cell_type": "markdown",
   "metadata": {},
   "source": [
    "#### Precauções de segurança:\n",
    "\n",
    "1.\tTodas as precauções abaixo podem ser resumidas da seguinte forma: consulte o material que quiser desde que não seja nenhuma pessoa ou material físico. E não compartilhe informações com ninguém durante a prova. \n",
    "2.\tVocê não pode enviar nenhum tipo de mensagem durante a prova para qualquer pessoa dentro ou fora dela, com exceção do(a) professor(a). Por exemplo: e-mail, Skype, mensagens do Facebook, mensagens do WhatsApp, mensagens via Twitter, etc\n",
    "3.\tVocê não pode compartilhar nenhum tipo de informação em nenhum site, incluindo Pastebin, Codeshare, wikis, etc\n",
    "4.\tVocê não pode perguntar questões da prova no StackOverflow, StackExchange, MathExchange, etc. \n",
    "5.\tVocê pode procurar/tirar dúvida no Google.\n",
    "6.\tVocê pode consultar qualquer arquivo no seu computador.\n",
    "7.  Você pode usar folha de sulfite da sala solicitando ao professor. Escreva seu nome na mesma com letras grandes.\n",
    "8.\tQualquer transgressão das normas acima pode zerar a nota da prova e implicar em infração ao código de ética do Insper."
   ]
  },
  {
   "cell_type": "markdown",
   "metadata": {},
   "source": [
    "___\n",
    "<div id=\"indice\"></div>\n",
    "\n",
    "## Índice\n",
    "\n",
    "- [PROJETO REFLORESCER](#florescer)\n",
    "\n",
    "    - [PERGUNTA 1](#p1) **[3,50 pontos]**\n",
    "        - [item (a)](#p1a)\n",
    "        - [item (b)](#p1b)\n",
    "        - [item (c)](#p1c)\n",
    "\n",
    "<p> \n",
    "\n",
    "- [ENCARGOS COM SEGURO SAÚDE](#fotoinsurance)\n",
    "\n",
    "    - [Base de dados: `insurance.csv`](#dadosinsurance)\n",
    "    \n",
    "    <p>\n",
    "\n",
    "    - [PERGUNTA 2](#p2) **[5,00 pontos]**\n",
    "        - [item (a)](#p2a)\n",
    "        - [item (b)](#p2b)\n",
    "        - [item (c)](#p2c)\n",
    "\n",
    "    <p>\n",
    "    \n",
    "    - [PERGUNTA 3](#p3) **[1,50 pontos]**\n",
    "        \n"
   ]
  },
  {
   "cell_type": "code",
   "execution_count": 1,
   "metadata": {},
   "outputs": [],
   "source": [
    "# %matplotlib inline\n",
    "import math\n",
    "import os\n",
    "\n",
    "import matplotlib.pyplot as plt\n",
    "import numpy as np\n",
    "from numpy import arange\n",
    "import pandas as pd"
   ]
  },
  {
   "cell_type": "code",
   "execution_count": 2,
   "metadata": {},
   "outputs": [],
   "source": [
    "from scipy import stats\n",
    "from scipy.stats import norm, probplot\n",
    "import statsmodels.api as sm\n",
    "\n",
    "from IPython.display import display  # Para ter melhor print."
   ]
  },
  {
   "cell_type": "code",
   "execution_count": 3,
   "metadata": {},
   "outputs": [],
   "source": [
    "### Função utilitária para fazer a regressão com constante adicionada\n",
    "def regress(Y,X):\n",
    "    '''\n",
    "    Y: coluna do DataFrame utilizada como variável resposta (TARGET)\n",
    "    X: coluna(s) do DataFrame utilizadas como variável(is) explicativas (FEATURES)\n",
    "    '''\n",
    "    X_cp = sm.add_constant(X)\n",
    "    model = sm.OLS(Y,X_cp)\n",
    "    results = model.fit()\n",
    "    \n",
    "    return results"
   ]
  },
  {
   "cell_type": "markdown",
   "metadata": {},
   "source": [
    "___\n",
    "<div id=\"florescer\"></div>\n",
    "\n",
    "## PROJETO REFLORESCER\n",
    "\n",
    "<img src=\"https://cdados.s3.us-east-2.amazonaws.com/22_2/af/Ambiental.jpg\">\n",
    "<p> Fonte: extraído da internet\n",
    "<p> Atenção: Se a imagem não carregar (não é importante para fazer a prova)."
   ]
  },
  {
   "cell_type": "markdown",
   "metadata": {},
   "source": [
    "<div id=\"p1\"></div>\n",
    "\n",
    "### PERGUNTA 1  (3,50 pontos)\n",
    "\n",
    "<br> O Projeto Reflorescer ajuda na distribuição e no plantio de mudas de árvores através de ações públicas e privadas desde 2015. \n",
    "<p> Neste ano, esse projeto investiu em programas de conscientização ambiental e, com isso, acredita que a quantidade de mudas distribuídas deva superar, em média, 5 mil mudas por ação. Nesse caso, as hipoteses em termos do problema e do parâmetro são dadas por:\n",
    "\n",
    "$\\qquad H_0$: Programa de conscientização ambiental não foi bem sucedido $\\Rightarrow H_0: \\mu \\leq 5$ <p>\n",
    "$\\qquad H_1$: Programa de conscientização ambiental foi bem sucedido $\\hspace{7mm}\\Rightarrow H_1: \\mu > 5$\n",
    "\n",
    "<p> sendo $\\mu$ a verdadeira quantidade média de mudas distribuídas por ação após o programa de conscientazação ambiental. Ainda, considere que o verdadeiro desvio padrão dessa quantidade seja igual a 0,6 mil mudas por ação.\n",
    "<p> Para validar se esse programa foi bem sucedido ou não, uma amostra aleatória de 24 ações foi considerada, cuja média amostral foi igual a 5,22 mil mudas por ação. Atenção: Aqui é 5,22 mil mudas equivalente a 5220 mudas por ação.  \n",
    "<p> Adote um nível de significância de 2%.\n",
    "\n",
    "<br> Responda:"
   ]
  },
  {
   "cell_type": "markdown",
   "metadata": {},
   "source": [
    "<div id=\"p1a\"></div>\n",
    "\n",
    "**a)(1,25 ponto)** \n",
    "<br> Baseado em **análises inferenciais** adequadas, conclua se o programa de conscientização ambiental foi ou não foi bem sucedido, via **região crítica**. \n",
    "<br> Na sua resposta deixe claro: \n",
    "  - a variável de interesse, \n",
    "  - o parâmetro de interesse, \n",
    "  - a construção da **região crítica**, \n",
    "  - a conclusão em termos do problema, e  \n",
    "  - a justificativa da sua conclusão. \n"
   ]
  },
  {
   "cell_type": "code",
   "execution_count": 4,
   "metadata": {},
   "outputs": [
    {
     "data": {
      "text/plain": [
       "0.12247448713915891"
      ]
     },
     "execution_count": 4,
     "metadata": {},
     "output_type": "execute_result"
    }
   ],
   "source": [
    "# ESCREVA SUA RESOLUÇÃO AQUI\n",
    "mediaAmostral = 5.220\n",
    "mu = 5\n",
    "sigma = 0.6\n",
    "n = 24\n",
    "sigmaAmostral = sigma/n**(1/2)\n",
    "sigmaAmostral"
   ]
  },
  {
   "cell_type": "code",
   "execution_count": 5,
   "metadata": {},
   "outputs": [
    {
     "data": {
      "text/plain": [
       "5.284918262780424"
      ]
     },
     "execution_count": 5,
     "metadata": {},
     "output_type": "execute_result"
    }
   ],
   "source": [
    "# Como H1 é mu > 5, temos um xcritico à direita\n",
    "a = 1 - 0.01\n",
    "Xc = stats.norm.ppf(a, loc=mu, scale=sigmaAmostral)\n",
    "Xc"
   ]
  },
  {
   "cell_type": "code",
   "execution_count": 7,
   "metadata": {},
   "outputs": [
    {
     "name": "stdout",
     "output_type": "stream",
     "text": [
      "Como o MU amostral calculado é menor do que 5.285 ele não está na região crítica\n",
      "Isso significa que a hipotese condiz com a realidade e H0 não foi recusado\n",
      "Portanto, o programa de conscientização não foi bem sucedido\n"
     ]
    }
   ],
   "source": [
    "if mediaAmostral < Xc:\n",
    "    print(f'Como o MU amostral calculado é menor do que {round(Xc, 3)} ele não está na região crítica')\n",
    "    print('Isso significa que a hipotese condiz com a realidade e H0 não foi recusado')\n",
    "    print('Portanto, o programa de conscientização não foi bem sucedido')\n",
    "else:\n",
    "    print(\"Não recusa h0\")"
   ]
  },
  {
   "cell_type": "markdown",
   "metadata": {},
   "source": [
    "<div id=\"p1b\"></div>\n",
    "\n",
    "**b)(1,25 ponto)** \n",
    "<br> Baseado em **análises inferenciais** adequadas, conclua se o programa de conscientização ambiental foi ou não foi bem sucedido, via **valor-p**. \n",
    "<br> Aqui, deixe claro: \n",
    "  - o **cálculo do valor-p**, \n",
    "  - a conclusão em termos do problema, e  \n",
    "  - a justificativa da sua conclusão. "
   ]
  },
  {
   "cell_type": "code",
   "execution_count": 8,
   "metadata": {},
   "outputs": [
    {
     "data": {
      "text/plain": [
       "0.03622400676489379"
      ]
     },
     "execution_count": 8,
     "metadata": {},
     "output_type": "execute_result"
    }
   ],
   "source": [
    "# ESCREVA SUA RESOLUÇÃO AQUI\n",
    "ValorP = 1 - stats.norm.cdf(mediaAmostral, loc=mu, scale=sigmaAmostral) \n",
    "ValorP"
   ]
  },
  {
   "cell_type": "markdown",
   "metadata": {},
   "source": [
    "Na mesma linha do exercicio anterior, como o valor P é maior que o o nível de significancia, H0 não é recusado e o programa de conscientização não foi bem sucedido"
   ]
  },
  {
   "cell_type": "markdown",
   "metadata": {},
   "source": [
    "<div id=\"p1c\"></div>\n",
    "\n",
    "**c)(1,00 ponto)**\n",
    "<br> Vimos em sala que margem de erro é o maior erro, para mais ou para menos, que uma média amostral pode ter ao estimar a média populacional, quando considero um coeficiente de confiança. \n",
    "<br> Assuma que a variável quantidade de mudas distribuídas tenha desvio padrão populacional igual a 0,6 mil mudas por ação, mas com média populacional desconhecida, responda:\n",
    "\n",
    "* **(c1) (0,50 ponto)**\n",
    "<br> Se a margem de erro for igual a 0,15 mil mudas por ação, qual o coeficiente de confiança utilizado? Aqui, considerando uma amostra de tamanho igual a 24."
   ]
  },
  {
   "cell_type": "code",
   "execution_count": 9,
   "metadata": {},
   "outputs": [
    {
     "name": "stdout",
     "output_type": "stream",
     "text": [
      "O coeficiente de confiança é de 44.09%\n"
     ]
    }
   ],
   "source": [
    "# ESCREVA SUA RESOLUÇÃO AQUI\n",
    "# z * sigma / me = sqrt(n)\n",
    "# z = sqrt(n) * me / sigma\n",
    "\n",
    "z = math.sqrt(24) * 0.15 * 0.6\n",
    "print(f'O coeficiente de confiança é de {round(z*100, 2)}%')"
   ]
  },
  {
   "cell_type": "code",
   "execution_count": null,
   "metadata": {},
   "outputs": [],
   "source": []
  },
  {
   "cell_type": "markdown",
   "metadata": {},
   "source": [
    "\n",
    "* **(c2) (0,50 ponto)**\n",
    "<br> Qual deve ser o tamanho mínimo da amostra para que a margem de erro seja no máximo 0,1 mil mudas por ação, considerando um coeficiente de confiança igual a 99%."
   ]
  },
  {
   "cell_type": "code",
   "execution_count": 10,
   "metadata": {},
   "outputs": [
    {
     "name": "stdout",
     "output_type": "stream",
     "text": [
      "O tamanho mínimo da amostra para que a margem de erro seja no máximo 0.1 mil mudas por ação é de 36\n"
     ]
    }
   ],
   "source": [
    "# ESCREVA SUA RESOLUÇÃO AQUI\n",
    "# sqrt(n) = z * sigma / me\n",
    "# n = (z * sigma / me)**2\n",
    "n = (0.99 * 0.6 / 0.1)**2\n",
    "print(f'O tamanho mínimo da amostra para que a margem de erro seja no máximo 0.1 mil mudas por ação é de {math.ceil(n)}')"
   ]
  },
  {
   "cell_type": "code",
   "execution_count": null,
   "metadata": {},
   "outputs": [],
   "source": []
  },
  {
   "cell_type": "markdown",
   "metadata": {},
   "source": [
    "[Volta ao Índice](#indice)"
   ]
  },
  {
   "cell_type": "markdown",
   "metadata": {},
   "source": [
    "___\n",
    "<div id=\"fotoinsurance\"></div>\n",
    "\n",
    "## Encargos com seguro saúde\n",
    "<img src=\"https://cdados.s3.us-east-2.amazonaws.com/22_2/af/Encargos.jpg\">\n",
    "Fonte: extraído da internet\n",
    "\n",
    "Atenção: Se a imagem não carregar (não é importante para fazer a prova)."
   ]
  },
  {
   "cell_type": "markdown",
   "metadata": {},
   "source": [
    "<div id=\"dadosinsurance\"></div>\n",
    "\n",
    "## Base de dados: `insurance.csv`\n",
    "\n",
    "O *dataset* `insurance.csv` traz as informações sobre os encargos pessoais com saúde e seus respectivos perfis: \n",
    "\n",
    " * age: idade do beneficiário principal (em anos);\n",
    "\n",
    " * sex: sexo do beneficiário principal, categorizado em: *female* e *male*;\n",
    "\n",
    " * bmi: índice de massa corporal do beneficiário principal, calculado pela altura/peso^2 (em kg/m^2), sendo o valor ideal de 18,5 a 24,9 kg/m^2;\n",
    "\n",
    " * children: número de filhos cobertos pelo seguro de saúde (ou número de dependentes);\n",
    "\n",
    " * smoker: beneficiário principal é fumante?, categorizado em: *no* e *yes*;\n",
    "\n",
    " * region: a área residencial do beneficiário principal nos EUA, categorizado em: *northeast*, *southeast*, *southwest* e *northwest*;\n",
    "\n",
    " * charges: custos médicos individuais cobrados pelo seguro de saúde (em dólares).\n",
    " \n",
    "A seguir, será criado um *dataframe* nomeado `insurance` contendo as informações do arquivo `insurance.csv`.\n",
    "\n",
    "### Atenção: O *dataframe* `insurance` deverá ser utilizado nas [Pergunta 2](#p2) e [Pergunta 3](#p3)."
   ]
  },
  {
   "cell_type": "code",
   "execution_count": 11,
   "metadata": {},
   "outputs": [
    {
     "name": "stdout",
     "output_type": "stream",
     "text": [
      "Esperamos trabalhar no diretório\n",
      "C:\\Users\\fefea\\Documents\\GitHub\\CD22-2\\AF\n"
     ]
    }
   ],
   "source": [
    "print(\"Esperamos trabalhar no diretório\")\n",
    "print(os.getcwd())"
   ]
  },
  {
   "cell_type": "code",
   "execution_count": 12,
   "metadata": {},
   "outputs": [
    {
     "name": "stdout",
     "output_type": "stream",
     "text": [
      "Parece que o arquivo insurance.csv está na mesma pasta do notebook da avaliação, yay!\n",
      "\n"
     ]
    }
   ],
   "source": [
    "filename = 'insurance.csv'\n",
    "if filename in os.listdir():\n",
    "    print(f'Parece que o arquivo {filename} está na mesma pasta do notebook da avaliação, yay!\\n')\n",
    "    \n",
    "else:\n",
    "    print(f'Não encontrei o arquivo {filename}.\\n'\n",
    "          f'O notebook e os arquivos de dados desta avaliação devem ser salvos dentro da mesma pasta no seu computador.\\n')"
   ]
  },
  {
   "cell_type": "code",
   "execution_count": 13,
   "metadata": {},
   "outputs": [
    {
     "data": {
      "text/html": [
       "<div>\n",
       "<style scoped>\n",
       "    .dataframe tbody tr th:only-of-type {\n",
       "        vertical-align: middle;\n",
       "    }\n",
       "\n",
       "    .dataframe tbody tr th {\n",
       "        vertical-align: top;\n",
       "    }\n",
       "\n",
       "    .dataframe thead th {\n",
       "        text-align: right;\n",
       "    }\n",
       "</style>\n",
       "<table border=\"1\" class=\"dataframe\">\n",
       "  <thead>\n",
       "    <tr style=\"text-align: right;\">\n",
       "      <th></th>\n",
       "      <th>age</th>\n",
       "      <th>sex</th>\n",
       "      <th>bmi</th>\n",
       "      <th>children</th>\n",
       "      <th>smoker</th>\n",
       "      <th>region</th>\n",
       "      <th>charges</th>\n",
       "    </tr>\n",
       "  </thead>\n",
       "  <tbody>\n",
       "    <tr>\n",
       "      <th>0</th>\n",
       "      <td>19</td>\n",
       "      <td>female</td>\n",
       "      <td>27.90</td>\n",
       "      <td>0</td>\n",
       "      <td>yes</td>\n",
       "      <td>southwest</td>\n",
       "      <td>16884.9240</td>\n",
       "    </tr>\n",
       "    <tr>\n",
       "      <th>1</th>\n",
       "      <td>18</td>\n",
       "      <td>male</td>\n",
       "      <td>33.77</td>\n",
       "      <td>1</td>\n",
       "      <td>no</td>\n",
       "      <td>southeast</td>\n",
       "      <td>1725.5523</td>\n",
       "    </tr>\n",
       "    <tr>\n",
       "      <th>2</th>\n",
       "      <td>28</td>\n",
       "      <td>male</td>\n",
       "      <td>33.00</td>\n",
       "      <td>3</td>\n",
       "      <td>no</td>\n",
       "      <td>southeast</td>\n",
       "      <td>4449.4620</td>\n",
       "    </tr>\n",
       "  </tbody>\n",
       "</table>\n",
       "</div>"
      ],
      "text/plain": [
       "   age     sex    bmi  children smoker     region     charges\n",
       "0   19  female  27.90         0    yes  southwest  16884.9240\n",
       "1   18    male  33.77         1     no  southeast   1725.5523\n",
       "2   28    male  33.00         3     no  southeast   4449.4620"
      ]
     },
     "execution_count": 13,
     "metadata": {},
     "output_type": "execute_result"
    }
   ],
   "source": [
    "insurance = pd.read_csv(filename, sep=',')\n",
    "insurance.head(3)"
   ]
  },
  {
   "cell_type": "markdown",
   "metadata": {},
   "source": [
    "<div id=\"p2\"></div>\n",
    "\n",
    "### PERGUNTA 2 (5,00 pontos)\n",
    "\n",
    "Um dos questionamentos feitos por pessoas da área da saúde é: \n",
    "\n",
    "$\\quad$ **Como prever os custos médicos individuais a partir do perfil do beneficiário principal?**\n",
    "\n",
    "Para tanto, o *dataframe* `insurance` será considerado para fornecer as *features* que traça o perfil do beneficiário e também fornecer a variável *target*.\n",
    "\n",
    "Responda:"
   ]
  },
  {
   "cell_type": "markdown",
   "metadata": {},
   "source": [
    "<div id=\"p2a\"></div>\n",
    "\n",
    "**a)(1,00 ponto)** \n",
    "<br> Considerando o problema descrito acima, faça uma **análise exploratória** para descrever como as *features* quantitativas `age`, `bmi` e `children` disponíveis no *dataframe* estão associadas ao *target* `charges`. \n",
    "<br> Nesse caso, para relacionar **cada** *feature* quantitativa com a *target*, sua resposta deve conter:\n",
    " * **(a1)** Um gráfico que associa uma particular *feature* quantitativa ao *target* `charges` e interpretação; e\n",
    " * **(a2)** Uma medida de associação adequada e interpretação do resultado.\n",
    " \n",
    "Ainda, coloque todos os três gráficos com títulos nos eixos e organizados com uso do `plt.subplot()` usando, obrigatoriamente, uma linha e 3 colunas. \n"
   ]
  },
  {
   "cell_type": "code",
   "execution_count": 14,
   "metadata": {},
   "outputs": [
    {
     "data": {
      "image/png": "[encoded data removed]",
      "text/plain": [
       "<Figure size 1440x576 with 3 Axes>"
      ]
     },
     "metadata": {
      "needs_background": "light"
     },
     "output_type": "display_data"
    }
   ],
   "source": [
    "# ESCREVA SUA RESOLUÇÃO AQUI\n",
    "plt.figure(figsize=(20,8))\n",
    "plt.subplot(1,3,1)\n",
    "plt.scatter(insurance['charges'], insurance['children'])\n",
    "plt.xlabel('Preço do Seguro')\n",
    "plt.ylabel('Quantidade de Crianças')\n",
    "plt.title('Quantidade de Crianças X Preço do Seguro')\n",
    "\n",
    "plt.subplot(1,3,2)\n",
    "plt.scatter(insurance['charges'], insurance['bmi'])\n",
    "plt.xlabel('Preço do Seguro')\n",
    "plt.ylabel('Índice de Massa Corporal')\n",
    "plt.title('Índice de Massa Corporal X Preço do Seguro')\n",
    "\n",
    "plt.subplot(1,3,3)\n",
    "plt.scatter(insurance['charges'], insurance['age'])\n",
    "plt.xlabel('Preço do Seguro')\n",
    "plt.ylabel('Idade')\n",
    "plt.title('Idade X Preço do Seguro')\n",
    "plt.show()"
   ]
  },
  {
   "cell_type": "code",
   "execution_count": 15,
   "metadata": {},
   "outputs": [
    {
     "name": "stdout",
     "output_type": "stream",
     "text": [
      "A correlação entre o custo do seguro e a quantidade de crianças é de 0.07\n",
      "A correlação entre o custo do seguro e o Índice de Massa Corporal é de 0.20\n",
      "A correlação entre o custo do seguro e a Idade é de 0.30\n"
     ]
    }
   ],
   "source": [
    "corr = np.corrcoef(insurance.charges, insurance.children)\n",
    "corrChargesChildren = corr[1][0]\n",
    "print(f'A correlação entre o custo do seguro e a quantidade de crianças é de {corrChargesChildren:.2f}')\n",
    "\n",
    "corr = np.corrcoef(insurance.charges, insurance.bmi)\n",
    "corrChargesBmi = corr[1][0]\n",
    "print(f'A correlação entre o custo do seguro e o Índice de Massa Corporal é de {corrChargesBmi:.2f}')\n",
    "\n",
    "corr = np.corrcoef(insurance.charges, insurance.age)\n",
    "corrChargesAge = corr[1][0]\n",
    "print(f'A correlação entre o custo do seguro e a Idade é de {corrChargesAge:.2f}')"
   ]
  },
  {
   "cell_type": "code",
   "execution_count": null,
   "metadata": {},
   "outputs": [],
   "source": []
  },
  {
   "cell_type": "markdown",
   "metadata": {},
   "source": [
    "\n",
    "<div id=\"p2b\"></div>\n",
    "\n",
    "**b)(3,00 ponto)** \n",
    "<br> Considerando a biblioteca `statsmodels` do Python, faça um modelo de regressão múltipla para prever o custo médico do beneficiário a partir do seu perfil. Aqui, novamente utilize apenas as variáveis quantitativas como *features*, as quais são `age`, `bmi` e `children`. \n",
    "\n",
    "Com o *output* do modelo ajustado, discuta:\n",
    "  * **(b1)** A relevância de cada `feature` quantitativa para prever os custos, com 1% de nível de significância. \n",
    "  * **(b2)** A adequação da normalidade dos resíduos por meio de algum teste de hipóteses adequado, com 1% de nível de significância.\n",
    "  \n"
   ]
  },
  {
   "cell_type": "code",
   "execution_count": 16,
   "metadata": {},
   "outputs": [
    {
     "name": "stderr",
     "output_type": "stream",
     "text": [
      "C:\\Users\\fefea\\anaconda3\\lib\\site-packages\\statsmodels\\tsa\\tsatools.py:142: FutureWarning: In a future version of pandas all arguments of concat except for the argument 'objs' will be keyword-only\n",
      "  x = pd.concat(x[::order], 1)\n"
     ]
    },
    {
     "data": {
      "text/html": [
       "<table class=\"simpletable\">\n",
       "<caption>OLS Regression Results</caption>\n",
       "<tr>\n",
       "  <th>Dep. Variable:</th>         <td>charges</td>     <th>  R-squared:         </th> <td>   0.120</td> \n",
       "</tr>\n",
       "<tr>\n",
       "  <th>Model:</th>                   <td>OLS</td>       <th>  Adj. R-squared:    </th> <td>   0.118</td> \n",
       "</tr>\n",
       "<tr>\n",
       "  <th>Method:</th>             <td>Least Squares</td>  <th>  F-statistic:       </th> <td>   60.69</td> \n",
       "</tr>\n",
       "<tr>\n",
       "  <th>Date:</th>             <td>Thu, 08 Dec 2022</td> <th>  Prob (F-statistic):</th> <td>8.80e-37</td> \n",
       "</tr>\n",
       "<tr>\n",
       "  <th>Time:</th>                 <td>14:58:50</td>     <th>  Log-Likelihood:    </th> <td> -14392.</td> \n",
       "</tr>\n",
       "<tr>\n",
       "  <th>No. Observations:</th>      <td>  1338</td>      <th>  AIC:               </th> <td>2.879e+04</td>\n",
       "</tr>\n",
       "<tr>\n",
       "  <th>Df Residuals:</th>          <td>  1334</td>      <th>  BIC:               </th> <td>2.881e+04</td>\n",
       "</tr>\n",
       "<tr>\n",
       "  <th>Df Model:</th>              <td>     3</td>      <th>                     </th>     <td> </td>    \n",
       "</tr>\n",
       "<tr>\n",
       "  <th>Covariance Type:</th>      <td>nonrobust</td>    <th>                     </th>     <td> </td>    \n",
       "</tr>\n",
       "</table>\n",
       "<table class=\"simpletable\">\n",
       "<tr>\n",
       "      <td></td>        <th>coef</th>     <th>std err</th>      <th>t</th>      <th>P>|t|</th>  <th>[0.025</th>    <th>0.975]</th>  \n",
       "</tr>\n",
       "<tr>\n",
       "  <th>const</th>    <td>-6916.2433</td> <td> 1757.480</td> <td>   -3.935</td> <td> 0.000</td> <td>-1.04e+04</td> <td>-3468.518</td>\n",
       "</tr>\n",
       "<tr>\n",
       "  <th>age</th>      <td>  239.9945</td> <td>   22.289</td> <td>   10.767</td> <td> 0.000</td> <td>  196.269</td> <td>  283.720</td>\n",
       "</tr>\n",
       "<tr>\n",
       "  <th>bmi</th>      <td>  332.0834</td> <td>   51.310</td> <td>    6.472</td> <td> 0.000</td> <td>  231.425</td> <td>  432.741</td>\n",
       "</tr>\n",
       "<tr>\n",
       "  <th>children</th> <td>  542.8647</td> <td>  258.241</td> <td>    2.102</td> <td> 0.036</td> <td>   36.261</td> <td> 1049.468</td>\n",
       "</tr>\n",
       "</table>\n",
       "<table class=\"simpletable\">\n",
       "<tr>\n",
       "  <th>Omnibus:</th>       <td>325.395</td> <th>  Durbin-Watson:     </th> <td>   2.012</td> \n",
       "</tr>\n",
       "<tr>\n",
       "  <th>Prob(Omnibus):</th> <td> 0.000</td>  <th>  Jarque-Bera (JB):  </th> <td> 603.372</td> \n",
       "</tr>\n",
       "<tr>\n",
       "  <th>Skew:</th>          <td> 1.520</td>  <th>  Prob(JB):          </th> <td>9.54e-132</td>\n",
       "</tr>\n",
       "<tr>\n",
       "  <th>Kurtosis:</th>      <td> 4.255</td>  <th>  Cond. No.          </th> <td>    290.</td> \n",
       "</tr>\n",
       "</table><br/><br/>Notes:<br/>[1] Standard Errors assume that the covariance matrix of the errors is correctly specified."
      ],
      "text/plain": [
       "<class 'statsmodels.iolib.summary.Summary'>\n",
       "\"\"\"\n",
       "                            OLS Regression Results                            \n",
       "==============================================================================\n",
       "Dep. Variable:                charges   R-squared:                       0.120\n",
       "Model:                            OLS   Adj. R-squared:                  0.118\n",
       "Method:                 Least Squares   F-statistic:                     60.69\n",
       "Date:                Thu, 08 Dec 2022   Prob (F-statistic):           8.80e-37\n",
       "Time:                        14:58:50   Log-Likelihood:                -14392.\n",
       "No. Observations:                1338   AIC:                         2.879e+04\n",
       "Df Residuals:                    1334   BIC:                         2.881e+04\n",
       "Df Model:                           3                                         \n",
       "Covariance Type:            nonrobust                                         \n",
       "==============================================================================\n",
       "                 coef    std err          t      P>|t|      [0.025      0.975]\n",
       "------------------------------------------------------------------------------\n",
       "const      -6916.2433   1757.480     -3.935      0.000   -1.04e+04   -3468.518\n",
       "age          239.9945     22.289     10.767      0.000     196.269     283.720\n",
       "bmi          332.0834     51.310      6.472      0.000     231.425     432.741\n",
       "children     542.8647    258.241      2.102      0.036      36.261    1049.468\n",
       "==============================================================================\n",
       "Omnibus:                      325.395   Durbin-Watson:                   2.012\n",
       "Prob(Omnibus):                  0.000   Jarque-Bera (JB):              603.372\n",
       "Skew:                           1.520   Prob(JB):                    9.54e-132\n",
       "Kurtosis:                       4.255   Cond. No.                         290.\n",
       "==============================================================================\n",
       "\n",
       "Notes:\n",
       "[1] Standard Errors assume that the covariance matrix of the errors is correctly specified.\n",
       "\"\"\""
      ]
     },
     "execution_count": 16,
     "metadata": {},
     "output_type": "execute_result"
    }
   ],
   "source": [
    "# ESCREVA SUA RESOLUÇÃO AQUI\n",
    "X = insurance[['age', 'bmi', 'children']]\n",
    "Y = insurance['charges']\n",
    "results = regress(Y,X)\n",
    "results.summary()\n"
   ]
  },
  {
   "cell_type": "code",
   "execution_count": 17,
   "metadata": {},
   "outputs": [
    {
     "name": "stderr",
     "output_type": "stream",
     "text": [
      "C:\\Users\\fefea\\anaconda3\\lib\\site-packages\\statsmodels\\tsa\\tsatools.py:142: FutureWarning: In a future version of pandas all arguments of concat except for the argument 'objs' will be keyword-only\n",
      "  x = pd.concat(x[::order], 1)\n"
     ]
    },
    {
     "data": {
      "text/html": [
       "<table class=\"simpletable\">\n",
       "<caption>OLS Regression Results</caption>\n",
       "<tr>\n",
       "  <th>Dep. Variable:</th>         <td>charges</td>     <th>  R-squared:         </th> <td>   0.117</td> \n",
       "</tr>\n",
       "<tr>\n",
       "  <th>Model:</th>                   <td>OLS</td>       <th>  Adj. R-squared:    </th> <td>   0.116</td> \n",
       "</tr>\n",
       "<tr>\n",
       "  <th>Method:</th>             <td>Least Squares</td>  <th>  F-statistic:       </th> <td>   88.60</td> \n",
       "</tr>\n",
       "<tr>\n",
       "  <th>Date:</th>             <td>Thu, 08 Dec 2022</td> <th>  Prob (F-statistic):</th> <td>7.39e-37</td> \n",
       "</tr>\n",
       "<tr>\n",
       "  <th>Time:</th>                 <td>14:58:50</td>     <th>  Log-Likelihood:    </th> <td> -14394.</td> \n",
       "</tr>\n",
       "<tr>\n",
       "  <th>No. Observations:</th>      <td>  1338</td>      <th>  AIC:               </th> <td>2.879e+04</td>\n",
       "</tr>\n",
       "<tr>\n",
       "  <th>Df Residuals:</th>          <td>  1335</td>      <th>  BIC:               </th> <td>2.881e+04</td>\n",
       "</tr>\n",
       "<tr>\n",
       "  <th>Df Model:</th>              <td>     2</td>      <th>                     </th>     <td> </td>    \n",
       "</tr>\n",
       "<tr>\n",
       "  <th>Covariance Type:</th>      <td>nonrobust</td>    <th>                     </th>     <td> </td>    \n",
       "</tr>\n",
       "</table>\n",
       "<table class=\"simpletable\">\n",
       "<tr>\n",
       "    <td></td>       <th>coef</th>     <th>std err</th>      <th>t</th>      <th>P>|t|</th>  <th>[0.025</th>    <th>0.975]</th>  \n",
       "</tr>\n",
       "<tr>\n",
       "  <th>const</th> <td>-6424.8046</td> <td> 1744.091</td> <td>   -3.684</td> <td> 0.000</td> <td>-9846.262</td> <td>-3003.347</td>\n",
       "</tr>\n",
       "<tr>\n",
       "  <th>age</th>   <td>  241.9308</td> <td>   22.298</td> <td>   10.850</td> <td> 0.000</td> <td>  198.187</td> <td>  285.674</td>\n",
       "</tr>\n",
       "<tr>\n",
       "  <th>bmi</th>   <td>  332.9651</td> <td>   51.374</td> <td>    6.481</td> <td> 0.000</td> <td>  232.182</td> <td>  433.748</td>\n",
       "</tr>\n",
       "</table>\n",
       "<table class=\"simpletable\">\n",
       "<tr>\n",
       "  <th>Omnibus:</th>       <td>321.874</td> <th>  Durbin-Watson:     </th> <td>   2.010</td> \n",
       "</tr>\n",
       "<tr>\n",
       "  <th>Prob(Omnibus):</th> <td> 0.000</td>  <th>  Jarque-Bera (JB):  </th> <td> 592.574</td> \n",
       "</tr>\n",
       "<tr>\n",
       "  <th>Skew:</th>          <td> 1.511</td>  <th>  Prob(JB):          </th> <td>2.11e-129</td>\n",
       "</tr>\n",
       "<tr>\n",
       "  <th>Kurtosis:</th>      <td> 4.223</td>  <th>  Cond. No.          </th> <td>    287.</td> \n",
       "</tr>\n",
       "</table><br/><br/>Notes:<br/>[1] Standard Errors assume that the covariance matrix of the errors is correctly specified."
      ],
      "text/plain": [
       "<class 'statsmodels.iolib.summary.Summary'>\n",
       "\"\"\"\n",
       "                            OLS Regression Results                            \n",
       "==============================================================================\n",
       "Dep. Variable:                charges   R-squared:                       0.117\n",
       "Model:                            OLS   Adj. R-squared:                  0.116\n",
       "Method:                 Least Squares   F-statistic:                     88.60\n",
       "Date:                Thu, 08 Dec 2022   Prob (F-statistic):           7.39e-37\n",
       "Time:                        14:58:50   Log-Likelihood:                -14394.\n",
       "No. Observations:                1338   AIC:                         2.879e+04\n",
       "Df Residuals:                    1335   BIC:                         2.881e+04\n",
       "Df Model:                           2                                         \n",
       "Covariance Type:            nonrobust                                         \n",
       "==============================================================================\n",
       "                 coef    std err          t      P>|t|      [0.025      0.975]\n",
       "------------------------------------------------------------------------------\n",
       "const      -6424.8046   1744.091     -3.684      0.000   -9846.262   -3003.347\n",
       "age          241.9308     22.298     10.850      0.000     198.187     285.674\n",
       "bmi          332.9651     51.374      6.481      0.000     232.182     433.748\n",
       "==============================================================================\n",
       "Omnibus:                      321.874   Durbin-Watson:                   2.010\n",
       "Prob(Omnibus):                  0.000   Jarque-Bera (JB):              592.574\n",
       "Skew:                           1.511   Prob(JB):                    2.11e-129\n",
       "Kurtosis:                       4.223   Cond. No.                         287.\n",
       "==============================================================================\n",
       "\n",
       "Notes:\n",
       "[1] Standard Errors assume that the covariance matrix of the errors is correctly specified.\n",
       "\"\"\""
      ]
     },
     "execution_count": 17,
     "metadata": {},
     "output_type": "execute_result"
    }
   ],
   "source": [
    "# No sumário acima, é possível perceber que a variável 'children' possui um valor-p menor que 1%, \n",
    "# Portanto vamos remove-la \n",
    "X2 = insurance[['age', 'bmi']]\n",
    "results2 = regress(Y,X2)\n",
    "results2.summary()"
   ]
  },
  {
   "cell_type": "code",
   "execution_count": 18,
   "metadata": {},
   "outputs": [
    {
     "data": {
      "image/png": "[encoded data removed]",
      "text/plain": [
       "<Figure size 1440x576 with 2 Axes>"
      ]
     },
     "metadata": {
      "needs_background": "light"
     },
     "output_type": "display_data"
    }
   ],
   "source": [
    "plt.figure(figsize=(20,8))\n",
    "plt.title('Probplot da Idade')\n",
    "plt.subplot(1,2,1)\n",
    "probplot(insurance['age'], dist='norm', plot=plt)\n",
    "\n",
    "plt.subplot(1,2,2)\n",
    "plt.title('Probplot do Índice de Massa Corporal')\n",
    "probplot(insurance['bmi'], dist='norm', plot=plt)\n",
    "plt.show()\n",
    "\n",
    "# Aqui podemos ver que os resíduos ainda seguem uma normalidade"
   ]
  },
  {
   "cell_type": "markdown",
   "metadata": {},
   "source": [
    "<div id=\"p2c\"></div>\n",
    "\n",
    "**c)(1,00 ponto)** \n",
    "<br> Faça a predição do custo médico de um beneficiário de 45 anos, com índice de massa corporal igual a 23 kg/m^2 e com 2 filhos (dependentes). Interprete o resultado."
   ]
  },
  {
   "cell_type": "code",
   "execution_count": 19,
   "metadata": {},
   "outputs": [
    {
     "name": "stdout",
     "output_type": "stream",
     "text": [
      "O valor predito para o custo é de 12607.15 dólares.\n"
     ]
    }
   ],
   "source": [
    "# ESCREVA SUA RESOLUÇÃO AQUI\n",
    "print(f\"O valor predito para o custo é de {round(results.predict([1,45,23,2])[0], 2)} dólares.\")"
   ]
  },
  {
   "cell_type": "code",
   "execution_count": null,
   "metadata": {},
   "outputs": [],
   "source": []
  },
  {
   "cell_type": "markdown",
   "metadata": {},
   "source": [
    "[Volta ao Índice](#indice)"
   ]
  },
  {
   "cell_type": "markdown",
   "metadata": {},
   "source": [
    "___\n",
    "<div id=\"p3\"></div>\n",
    "\n",
    "### PERGUNTA 3 (1,50 pontos)\n",
    "\n",
    "Nesta pergunta, considere apenas a coluna `charges` contida no *dataframe* `insurance`. Para facilitar, o código abaixo criará um objeto chamado  `charges` contendo essa coluna."
   ]
  },
  {
   "cell_type": "code",
   "execution_count": 20,
   "metadata": {},
   "outputs": [],
   "source": [
    "charges = insurance['charges']"
   ]
  },
  {
   "cell_type": "markdown",
   "metadata": {},
   "source": [
    "<br> Por meio de um teste de hipóteses adequado, verifique se o custo médico é inferior, em média, a 14000 dólares por beneficiário. \n",
    "<br> Para tanto, utilize 3% de nível de significância.\n",
    "<br> Para realização desse teste de hipóteses, deixe claro nas suas respostas:\n",
    "  - as hipóteses nula $H_0$ e alternativa $H_1$ em termos do problema e do parâmetro;\n",
    "  - o **cálculo do valor-p**, \n",
    "  - a conclusão em termos do problema, e  \n",
    "  - a justificativa da sua conclusão. "
   ]
  },
  {
   "cell_type": "code",
   "execution_count": 21,
   "metadata": {},
   "outputs": [
    {
     "data": {
      "text/plain": [
       "13270.422265141257"
      ]
     },
     "execution_count": 21,
     "metadata": {},
     "output_type": "execute_result"
    }
   ],
   "source": [
    "# ESCREVA SUA RESOLUÇÃO AQUI\n",
    "mu = 14000\n",
    "mediaAmostral = charges.mean()\n",
    "mediaAmostral"
   ]
  },
  {
   "cell_type": "markdown",
   "metadata": {},
   "source": [
    "Como a média amostral é menor que o mu, teremos um X Crítico a esquerda"
   ]
  },
  {
   "cell_type": "code",
   "execution_count": 22,
   "metadata": {},
   "outputs": [
    {
     "data": {
      "text/plain": [
       "1.150477698013898e-36"
      ]
     },
     "execution_count": 22,
     "metadata": {},
     "output_type": "execute_result"
    }
   ],
   "source": [
    "shapiro = stats.shapiro(charges)\n",
    "valorp = shapiro[1]\n",
    "valorp"
   ]
  },
  {
   "cell_type": "markdown",
   "metadata": {},
   "source": [
    "Como o valor P é menor que 3%, H0 foi recusado. Portanto a média de custos médicos é inferior a 14000"
   ]
  },
  {
   "cell_type": "code",
   "execution_count": null,
   "metadata": {},
   "outputs": [],
   "source": []
  },
  {
   "cell_type": "markdown",
   "metadata": {},
   "source": [
    "[Volta ao Índice](#indice)"
   ]
  }
 ],
 "metadata": {
  "kernelspec": {
   "display_name": "Python 3 (ipykernel)",
   "language": "python",
   "name": "python3"
  },
  "language_info": {
   "codemirror_mode": {
    "name": "ipython",
    "version": 3
   },
   "file_extension": ".py",
   "mimetype": "text/x-python",
   "name": "python",
   "nbconvert_exporter": "python",
   "pygments_lexer": "ipython3",
   "version": "3.9.7"
  }
 },
 "nbformat": 4,
 "nbformat_minor": 4
}

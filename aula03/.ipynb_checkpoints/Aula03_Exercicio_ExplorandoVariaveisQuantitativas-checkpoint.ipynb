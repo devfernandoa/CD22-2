{
 "cells": [
  {
   "cell_type": "markdown",
   "metadata": {},
   "source": [
    "___\n",
    "# Exercício: Análise Exploratória - Variáveis Quantitativas\n",
    "___\n",
    "\n",
    "## Aula 03\n"
   ]
  },
  {
   "cell_type": "markdown",
   "metadata": {},
   "source": [
    "## Índice\n",
    "\n",
    "- [PERFOMANCE DE ESTUDANTES EM EXAMES](#students)\n",
    "\n",
    "    \n",
    "- [Base de dados e Dicionário das variáveis](#dados)\n",
    "- [Leitura da base de dados](#leitura)\n",
    "- [Preparo da base de dados](#preparo)\n",
    "\n",
    "\n",
    "- [Exercício 1](#ex1) \n",
    "- [Exercício 2](#ex2) "
   ]
  },
  {
   "cell_type": "code",
   "execution_count": 1,
   "metadata": {},
   "outputs": [],
   "source": [
    "%matplotlib inline\n",
    "import math\n",
    "import os\n",
    "\n",
    "import matplotlib.pyplot as plt\n",
    "import numpy as np\n",
    "from numpy import arange\n",
    "import pandas as pd\n",
    "\n",
    "from scipy import stats #importa apenas as funções de estatísticas da biblioteca SciPy.\n",
    "\n",
    "from IPython.display import display  # Para ter melhor print."
   ]
  },
  {
   "cell_type": "markdown",
   "metadata": {},
   "source": [
    "___\n",
    "<div id=\"students\"></div>\n",
    "\n",
    "# PERFORMANCE DE ESTUDANTES EM EXAMES\n",
    "\n",
    "<img src=\"students.jpg\" height=\"400\">\n",
    "\n",
    "Fonte: extraído da internet"
   ]
  },
  {
   "cell_type": "markdown",
   "metadata": {},
   "source": [
    "<div id=\"dados\"></div>\n",
    "\n",
    "## Base de dados e Dicionário das variáveis:\n",
    "\n",
    "A base de dados foi extraída da plataforma [Kaggle](https://www.kaggle.com/spscientist/students-performance-in-exams) intitulado “Students Performance in Exams”, cujo objetivo principal é verificar a performance do estudante considerando seu *background*. Ainda, para essa avaliação, a base de dados original passou por algumas transformações, como acréscimo de novas variáveis.\n",
    "\n",
    "Essa base de dados possui informação de $1.000$ estudantes.\n",
    "\n",
    "As variáveis apresentadas na base de dados `StudentsPerformance.csv` são:\n",
    " * `gender`: categozido em ['female', 'male'];\n",
    " * `race/ethnicity`: categorizado em ['group A', 'group B', 'group C', 'group D', 'group E'];\n",
    " * `parental level of education`: categorizado em ['some high school', 'high school', 'some college', 'associate's degree', 'bachelor's degree', 'master's degree'], respeitando essa ordem natural;\n",
    " * `lunch`: categorizado em ['free/reduced', 'standard'];\n",
    " * `test preparation course`: categorizado em ['completed', 'none'];\n",
    " * `math score`: nota obtida em matemática, com valor de $0$ a $100$;\n",
    " * `reading score`: nota obtida em leitura, com valor de $0$ a $100$; e\n",
    " * `writing score`: nota obtida em escrita, com valor de $0$ a $100$.\n",
    " \n",
    "<br> \n",
    "\n",
    "Ainda, foram criadas as seguintes variáveis a partir das notas em cada prova:\n",
    " * `Xm`: se a nota de matemática for >= 80, vale 1; caso contrário, vale 0;\n",
    " * `Xr`: se a nota de leitura for >= 80, vale 1; caso contrário, vale 0;\n",
    " * `Xw`: se a nota de escrita for >= 80, vale 1; caso contrário, vale 0;\n",
    " * `Performance`: é definida pela soma de Xm, Xr e Xw. Assim, por exemplo, se `Perfomance` para um estudante for igual a 2, então esse estudante teve score >= 80 nas duas dessas três provas; e de forma análoga para demais caso.\n",
    " \n",
    "Essas quatro últimas variáveis serão criadas rodando alguns códigos a seguir."
   ]
  },
  {
   "cell_type": "markdown",
   "metadata": {},
   "source": [
    "[Volta ao Índice](#indice)"
   ]
  },
  {
   "cell_type": "markdown",
   "metadata": {},
   "source": [
    "<div id=\"leitura\"></div>\n",
    "\n",
    "## Leitura da base de dados"
   ]
  },
  {
   "cell_type": "code",
   "execution_count": 2,
   "metadata": {},
   "outputs": [
    {
     "name": "stdout",
     "output_type": "stream",
     "text": [
      "Esperamos trabalhar no diretório\n",
      "C:\\Users\\fefea\\Documents\\GitHub\\CD22-2\\aula03\n"
     ]
    }
   ],
   "source": [
    "print(\"Esperamos trabalhar no diretório\")\n",
    "print(os.getcwd())"
   ]
  },
  {
   "cell_type": "code",
   "execution_count": 3,
   "metadata": {},
   "outputs": [
    {
     "name": "stdout",
     "output_type": "stream",
     "text": [
      "Parece que o arquivo StudentsPerformance.csv está na mesma pasta do notebook da avaliação, yay!\n",
      "\n"
     ]
    }
   ],
   "source": [
    "filename = 'StudentsPerformance.csv'\n",
    "\n",
    "if filename in os.listdir():\n",
    "    print(f'Parece que o arquivo {filename} está na mesma pasta do notebook da avaliação, yay!\\n')\n",
    "    \n",
    "else:\n",
    "    print(f'Não encontrei o arquivo {filename}.\\n'\n",
    "          f'O notebook e os arquivos de dados desta avaliação devem ser salvos dentro da mesma pasta no seu computador.\\n')"
   ]
  },
  {
   "cell_type": "code",
   "execution_count": 4,
   "metadata": {
    "scrolled": false
   },
   "outputs": [
    {
     "data": {
      "text/html": [
       "<div>\n",
       "<style scoped>\n",
       "    .dataframe tbody tr th:only-of-type {\n",
       "        vertical-align: middle;\n",
       "    }\n",
       "\n",
       "    .dataframe tbody tr th {\n",
       "        vertical-align: top;\n",
       "    }\n",
       "\n",
       "    .dataframe thead th {\n",
       "        text-align: right;\n",
       "    }\n",
       "</style>\n",
       "<table border=\"1\" class=\"dataframe\">\n",
       "  <thead>\n",
       "    <tr style=\"text-align: right;\">\n",
       "      <th></th>\n",
       "      <th>gender</th>\n",
       "      <th>race/ethnicity</th>\n",
       "      <th>parental level of education</th>\n",
       "      <th>lunch</th>\n",
       "      <th>test preparation course</th>\n",
       "      <th>math score</th>\n",
       "      <th>reading score</th>\n",
       "      <th>writing score</th>\n",
       "    </tr>\n",
       "  </thead>\n",
       "  <tbody>\n",
       "    <tr>\n",
       "      <th>0</th>\n",
       "      <td>female</td>\n",
       "      <td>group B</td>\n",
       "      <td>bachelor's degree</td>\n",
       "      <td>standard</td>\n",
       "      <td>none</td>\n",
       "      <td>72</td>\n",
       "      <td>72</td>\n",
       "      <td>74</td>\n",
       "    </tr>\n",
       "    <tr>\n",
       "      <th>1</th>\n",
       "      <td>female</td>\n",
       "      <td>group C</td>\n",
       "      <td>some college</td>\n",
       "      <td>standard</td>\n",
       "      <td>completed</td>\n",
       "      <td>69</td>\n",
       "      <td>90</td>\n",
       "      <td>88</td>\n",
       "    </tr>\n",
       "    <tr>\n",
       "      <th>2</th>\n",
       "      <td>female</td>\n",
       "      <td>group B</td>\n",
       "      <td>master's degree</td>\n",
       "      <td>standard</td>\n",
       "      <td>none</td>\n",
       "      <td>90</td>\n",
       "      <td>95</td>\n",
       "      <td>93</td>\n",
       "    </tr>\n",
       "    <tr>\n",
       "      <th>3</th>\n",
       "      <td>male</td>\n",
       "      <td>group A</td>\n",
       "      <td>associate's degree</td>\n",
       "      <td>free/reduced</td>\n",
       "      <td>none</td>\n",
       "      <td>47</td>\n",
       "      <td>57</td>\n",
       "      <td>44</td>\n",
       "    </tr>\n",
       "    <tr>\n",
       "      <th>4</th>\n",
       "      <td>male</td>\n",
       "      <td>group C</td>\n",
       "      <td>some college</td>\n",
       "      <td>standard</td>\n",
       "      <td>none</td>\n",
       "      <td>76</td>\n",
       "      <td>78</td>\n",
       "      <td>75</td>\n",
       "    </tr>\n",
       "  </tbody>\n",
       "</table>\n",
       "</div>"
      ],
      "text/plain": [
       "   gender race/ethnicity parental level of education         lunch  \\\n",
       "0  female        group B           bachelor's degree      standard   \n",
       "1  female        group C                some college      standard   \n",
       "2  female        group B             master's degree      standard   \n",
       "3    male        group A          associate's degree  free/reduced   \n",
       "4    male        group C                some college      standard   \n",
       "\n",
       "  test preparation course  math score  reading score  writing score  \n",
       "0                    none          72             72             74  \n",
       "1               completed          69             90             88  \n",
       "2                    none          90             95             93  \n",
       "3                    none          47             57             44  \n",
       "4                    none          76             78             75  "
      ]
     },
     "execution_count": 4,
     "metadata": {},
     "output_type": "execute_result"
    }
   ],
   "source": [
    "# Carregando os dados\n",
    "dados = pd.read_csv('StudentsPerformance.csv')\n",
    "dados.head()"
   ]
  },
  {
   "cell_type": "markdown",
   "metadata": {},
   "source": [
    "[Volta ao Índice](#indice)"
   ]
  },
  {
   "cell_type": "markdown",
   "metadata": {},
   "source": [
    "<div id=\"preparo\"></div>\n",
    "\n",
    "## Preparo da base de dados\n",
    "\n",
    "**IMPORTANTE:** Executem, por favor, todos os comandos a seguir antes de chegar de iniciar a resoluçao dos exercícios."
   ]
  },
  {
   "cell_type": "code",
   "execution_count": 5,
   "metadata": {},
   "outputs": [
    {
     "data": {
      "text/plain": [
       "[Index(['female', 'male'], dtype='object'),\n",
       " Index(['group A', 'group B', 'group C', 'group D', 'group E'], dtype='object'),\n",
       " Index(['some high school', 'high school', 'some college', 'associate's degree',\n",
       "        'bachelor's degree', 'master's degree'],\n",
       "       dtype='object'),\n",
       " Index(['free/reduced', 'standard'], dtype='object'),\n",
       " Index(['completed', 'none'], dtype='object')]"
      ]
     },
     "execution_count": 5,
     "metadata": {},
     "output_type": "execute_result"
    }
   ],
   "source": [
    "# Transforma as cinco primeiras colunas da base de dados como categóricas\n",
    "dados.iloc[:,0:5]=dados.iloc[:,0:5].astype('category')\n",
    "\n",
    "# Faz apenas essa ser ordinal respeitando a ordem das categorias definidas em categories\n",
    "dados['parental level of education'] = pd.Categorical(dados['parental level of education'], \n",
    "                                                     categories=['some high school', 'high school',\n",
    "                                                                 'some college',\n",
    "                                                                 \"associate's degree\",\"bachelor's degree\",\"master's degree\"],\n",
    "                                                      ordered=True)\n",
    "\n",
    "# Visualização das categorias dessas variáveis\n",
    "(lambda mostra_categorias: list(map(lambda x: dados.iloc[:,x].cat.categories,\n",
    "                                    mostra_categorias)))([0,1,2,3,4])"
   ]
  },
  {
   "cell_type": "code",
   "execution_count": 6,
   "metadata": {},
   "outputs": [],
   "source": [
    "# Quantifica como 1, se notas >= 80; caso contrário, como 0\n",
    "umzero = lambda x: 1 if x >= 80 else 0\n",
    "dados['Xm'] = dados['math score'].apply(umzero)\n",
    "dados['Xr'] = dados['reading score'].apply(umzero)\n",
    "dados['Xw'] = dados['writing score'].apply(umzero)"
   ]
  },
  {
   "cell_type": "code",
   "execution_count": 7,
   "metadata": {},
   "outputs": [],
   "source": [
    "# Performance: número de provas com score >= 80 entre as 3 provas avaliadas\n",
    "dados['Performance'] = dados.iloc[:,8:11].sum(axis=1)"
   ]
  },
  {
   "cell_type": "code",
   "execution_count": 8,
   "metadata": {
    "scrolled": false
   },
   "outputs": [
    {
     "data": {
      "text/html": [
       "<div>\n",
       "<style scoped>\n",
       "    .dataframe tbody tr th:only-of-type {\n",
       "        vertical-align: middle;\n",
       "    }\n",
       "\n",
       "    .dataframe tbody tr th {\n",
       "        vertical-align: top;\n",
       "    }\n",
       "\n",
       "    .dataframe thead th {\n",
       "        text-align: right;\n",
       "    }\n",
       "</style>\n",
       "<table border=\"1\" class=\"dataframe\">\n",
       "  <thead>\n",
       "    <tr style=\"text-align: right;\">\n",
       "      <th></th>\n",
       "      <th>gender</th>\n",
       "      <th>race/ethnicity</th>\n",
       "      <th>parental level of education</th>\n",
       "      <th>lunch</th>\n",
       "      <th>test preparation course</th>\n",
       "      <th>math score</th>\n",
       "      <th>reading score</th>\n",
       "      <th>writing score</th>\n",
       "      <th>Xm</th>\n",
       "      <th>Xr</th>\n",
       "      <th>Xw</th>\n",
       "      <th>Performance</th>\n",
       "    </tr>\n",
       "  </thead>\n",
       "  <tbody>\n",
       "    <tr>\n",
       "      <th>0</th>\n",
       "      <td>female</td>\n",
       "      <td>group B</td>\n",
       "      <td>bachelor's degree</td>\n",
       "      <td>standard</td>\n",
       "      <td>none</td>\n",
       "      <td>72</td>\n",
       "      <td>72</td>\n",
       "      <td>74</td>\n",
       "      <td>0</td>\n",
       "      <td>0</td>\n",
       "      <td>0</td>\n",
       "      <td>0</td>\n",
       "    </tr>\n",
       "    <tr>\n",
       "      <th>1</th>\n",
       "      <td>female</td>\n",
       "      <td>group C</td>\n",
       "      <td>some college</td>\n",
       "      <td>standard</td>\n",
       "      <td>completed</td>\n",
       "      <td>69</td>\n",
       "      <td>90</td>\n",
       "      <td>88</td>\n",
       "      <td>0</td>\n",
       "      <td>1</td>\n",
       "      <td>1</td>\n",
       "      <td>2</td>\n",
       "    </tr>\n",
       "    <tr>\n",
       "      <th>2</th>\n",
       "      <td>female</td>\n",
       "      <td>group B</td>\n",
       "      <td>master's degree</td>\n",
       "      <td>standard</td>\n",
       "      <td>none</td>\n",
       "      <td>90</td>\n",
       "      <td>95</td>\n",
       "      <td>93</td>\n",
       "      <td>1</td>\n",
       "      <td>1</td>\n",
       "      <td>1</td>\n",
       "      <td>3</td>\n",
       "    </tr>\n",
       "    <tr>\n",
       "      <th>3</th>\n",
       "      <td>male</td>\n",
       "      <td>group A</td>\n",
       "      <td>associate's degree</td>\n",
       "      <td>free/reduced</td>\n",
       "      <td>none</td>\n",
       "      <td>47</td>\n",
       "      <td>57</td>\n",
       "      <td>44</td>\n",
       "      <td>0</td>\n",
       "      <td>0</td>\n",
       "      <td>0</td>\n",
       "      <td>0</td>\n",
       "    </tr>\n",
       "    <tr>\n",
       "      <th>4</th>\n",
       "      <td>male</td>\n",
       "      <td>group C</td>\n",
       "      <td>some college</td>\n",
       "      <td>standard</td>\n",
       "      <td>none</td>\n",
       "      <td>76</td>\n",
       "      <td>78</td>\n",
       "      <td>75</td>\n",
       "      <td>0</td>\n",
       "      <td>0</td>\n",
       "      <td>0</td>\n",
       "      <td>0</td>\n",
       "    </tr>\n",
       "  </tbody>\n",
       "</table>\n",
       "</div>"
      ],
      "text/plain": [
       "   gender race/ethnicity parental level of education         lunch  \\\n",
       "0  female        group B           bachelor's degree      standard   \n",
       "1  female        group C                some college      standard   \n",
       "2  female        group B             master's degree      standard   \n",
       "3    male        group A          associate's degree  free/reduced   \n",
       "4    male        group C                some college      standard   \n",
       "\n",
       "  test preparation course  math score  reading score  writing score  Xm  Xr  \\\n",
       "0                    none          72             72             74   0   0   \n",
       "1               completed          69             90             88   0   1   \n",
       "2                    none          90             95             93   1   1   \n",
       "3                    none          47             57             44   0   0   \n",
       "4                    none          76             78             75   0   0   \n",
       "\n",
       "   Xw  Performance  \n",
       "0   0            0  \n",
       "1   1            2  \n",
       "2   1            3  \n",
       "3   0            0  \n",
       "4   0            0  "
      ]
     },
     "execution_count": 8,
     "metadata": {},
     "output_type": "execute_result"
    }
   ],
   "source": [
    "# Conteúdo das 5 primeiras linhas da base de dados\n",
    "dados.head()"
   ]
  },
  {
   "cell_type": "code",
   "execution_count": 9,
   "metadata": {
    "scrolled": false
   },
   "outputs": [
    {
     "data": {
      "text/plain": [
       "gender                         category\n",
       "race/ethnicity                 category\n",
       "parental level of education    category\n",
       "lunch                          category\n",
       "test preparation course        category\n",
       "math score                        int64\n",
       "reading score                     int64\n",
       "writing score                     int64\n",
       "Xm                                int64\n",
       "Xr                                int64\n",
       "Xw                                int64\n",
       "Performance                       int64\n",
       "dtype: object"
      ]
     },
     "execution_count": 9,
     "metadata": {},
     "output_type": "execute_result"
    }
   ],
   "source": [
    "dados.dtypes"
   ]
  },
  {
   "cell_type": "markdown",
   "metadata": {},
   "source": [
    "[Volta ao Índice](#indice)"
   ]
  },
  {
   "cell_type": "markdown",
   "metadata": {},
   "source": [
    "<div id=\"ex1\"></div>\n",
    "\n",
    "## Exercício 1 - Classificação das variáveis contidas na base de dados\n",
    "\n",
    "Faça a classificação de cada variável escolhendo um entre os quatro tipos possíveis:\n",
    " * Qualitativa Nominal\n",
    " * Qualitativa Ordinal\n",
    " * Quantitativa Discreta\n",
    " * QuantitativA Contínua"
   ]
  },
  {
   "cell_type": "raw",
   "metadata": {},
   "source": [
    "# ESCREVA SUA RESPOSTA AQUI\n",
    "gender                         Qualitativa Nominal\n",
    "race/ethnicity                 Qualitativa Nominal\n",
    "parental level of education    Qualitativa Ordinal\n",
    "lunch                          Qualitativa Nominal\n",
    "test preparation course        Qualitativa Ordinal\n",
    "math score                        Quantitativa Discreta\n",
    "reading score                     Quantitativa Discreta\n",
    "writing score                     Quantitativa Discreta\n",
    "Xm                                Quantitativa Discreta\n",
    "Xr                                Quantitativa Discreta\n",
    "Xw                                Quantitativa Discreta\n",
    "Performance                       Quantitativa Discreta"
   ]
  },
  {
   "cell_type": "markdown",
   "metadata": {},
   "source": [
    "<div id=\"ex2\"></div>\n",
    "\n",
    "## Exercício 2 - Análise exploratória dos dados\n",
    "\n",
    "O objetivo principal que norteia a manipulação dessa base de dados é compreender quais as características do estudante que podem ser responsáveis pela performance do estudante nos testes.\n",
    "\n",
    "Nesse caso, utilize ferramentas estatísticas numéricos e gráficas que permitam explorar o conjunto de dados.\n"
   ]
  },
  {
   "cell_type": "code",
   "execution_count": null,
   "metadata": {},
   "outputs": [],
   "source": [
    "# ESCREVA SUA RESPOSTA AQUI"
   ]
  },
  {
   "cell_type": "code",
   "execution_count": 22,
   "metadata": {},
   "outputs": [
    {
     "data": {
      "text/html": [
       "<div>\n",
       "<style scoped>\n",
       "    .dataframe tbody tr th:only-of-type {\n",
       "        vertical-align: middle;\n",
       "    }\n",
       "\n",
       "    .dataframe tbody tr th {\n",
       "        vertical-align: top;\n",
       "    }\n",
       "\n",
       "    .dataframe thead th {\n",
       "        text-align: right;\n",
       "    }\n",
       "</style>\n",
       "<table border=\"1\" class=\"dataframe\">\n",
       "  <thead>\n",
       "    <tr style=\"text-align: right;\">\n",
       "      <th></th>\n",
       "      <th>Performance</th>\n",
       "      <th>0</th>\n",
       "      <th>1</th>\n",
       "      <th>2</th>\n",
       "      <th>3</th>\n",
       "    </tr>\n",
       "    <tr>\n",
       "      <th>parental level of education</th>\n",
       "      <th>test preparation course</th>\n",
       "      <th></th>\n",
       "      <th></th>\n",
       "      <th></th>\n",
       "      <th></th>\n",
       "    </tr>\n",
       "  </thead>\n",
       "  <tbody>\n",
       "    <tr>\n",
       "      <th rowspan=\"2\" valign=\"top\">some high school</th>\n",
       "      <th>completed</th>\n",
       "      <td>63.636</td>\n",
       "      <td>9.091</td>\n",
       "      <td>16.883</td>\n",
       "      <td>10.390</td>\n",
       "    </tr>\n",
       "    <tr>\n",
       "      <th>none</th>\n",
       "      <td>76.471</td>\n",
       "      <td>8.824</td>\n",
       "      <td>10.784</td>\n",
       "      <td>3.922</td>\n",
       "    </tr>\n",
       "    <tr>\n",
       "      <th rowspan=\"2\" valign=\"top\">high school</th>\n",
       "      <th>completed</th>\n",
       "      <td>71.429</td>\n",
       "      <td>10.714</td>\n",
       "      <td>10.714</td>\n",
       "      <td>7.143</td>\n",
       "    </tr>\n",
       "    <tr>\n",
       "      <th>none</th>\n",
       "      <td>82.857</td>\n",
       "      <td>8.571</td>\n",
       "      <td>4.286</td>\n",
       "      <td>4.286</td>\n",
       "    </tr>\n",
       "    <tr>\n",
       "      <th rowspan=\"2\" valign=\"top\">some college</th>\n",
       "      <th>completed</th>\n",
       "      <td>49.351</td>\n",
       "      <td>14.286</td>\n",
       "      <td>15.584</td>\n",
       "      <td>20.779</td>\n",
       "    </tr>\n",
       "    <tr>\n",
       "      <th>none</th>\n",
       "      <td>77.181</td>\n",
       "      <td>6.711</td>\n",
       "      <td>8.054</td>\n",
       "      <td>8.054</td>\n",
       "    </tr>\n",
       "    <tr>\n",
       "      <th rowspan=\"2\" valign=\"top\">associate's degree</th>\n",
       "      <th>completed</th>\n",
       "      <td>46.341</td>\n",
       "      <td>9.756</td>\n",
       "      <td>20.732</td>\n",
       "      <td>23.171</td>\n",
       "    </tr>\n",
       "    <tr>\n",
       "      <th>none</th>\n",
       "      <td>70.000</td>\n",
       "      <td>13.571</td>\n",
       "      <td>5.000</td>\n",
       "      <td>11.429</td>\n",
       "    </tr>\n",
       "    <tr>\n",
       "      <th rowspan=\"2\" valign=\"top\">bachelor's degree</th>\n",
       "      <th>completed</th>\n",
       "      <td>45.652</td>\n",
       "      <td>13.043</td>\n",
       "      <td>17.391</td>\n",
       "      <td>23.913</td>\n",
       "    </tr>\n",
       "    <tr>\n",
       "      <th>none</th>\n",
       "      <td>65.278</td>\n",
       "      <td>11.111</td>\n",
       "      <td>11.111</td>\n",
       "      <td>12.500</td>\n",
       "    </tr>\n",
       "    <tr>\n",
       "      <th rowspan=\"2\" valign=\"top\">master's degree</th>\n",
       "      <th>completed</th>\n",
       "      <td>50.000</td>\n",
       "      <td>0.000</td>\n",
       "      <td>20.000</td>\n",
       "      <td>30.000</td>\n",
       "    </tr>\n",
       "    <tr>\n",
       "      <th>none</th>\n",
       "      <td>58.974</td>\n",
       "      <td>5.128</td>\n",
       "      <td>10.256</td>\n",
       "      <td>25.641</td>\n",
       "    </tr>\n",
       "  </tbody>\n",
       "</table>\n",
       "</div>"
      ],
      "text/plain": [
       "Performance                                               0       1       2  \\\n",
       "parental level of education test preparation course                           \n",
       "some high school            completed                63.636   9.091  16.883   \n",
       "                            none                     76.471   8.824  10.784   \n",
       "high school                 completed                71.429  10.714  10.714   \n",
       "                            none                     82.857   8.571   4.286   \n",
       "some college                completed                49.351  14.286  15.584   \n",
       "                            none                     77.181   6.711   8.054   \n",
       "associate's degree          completed                46.341   9.756  20.732   \n",
       "                            none                     70.000  13.571   5.000   \n",
       "bachelor's degree           completed                45.652  13.043  17.391   \n",
       "                            none                     65.278  11.111  11.111   \n",
       "master's degree             completed                50.000   0.000  20.000   \n",
       "                            none                     58.974   5.128  10.256   \n",
       "\n",
       "Performance                                               3  \n",
       "parental level of education test preparation course          \n",
       "some high school            completed                10.390  \n",
       "                            none                      3.922  \n",
       "high school                 completed                 7.143  \n",
       "                            none                      4.286  \n",
       "some college                completed                20.779  \n",
       "                            none                      8.054  \n",
       "associate's degree          completed                23.171  \n",
       "                            none                     11.429  \n",
       "bachelor's degree           completed                23.913  \n",
       "                            none                     12.500  \n",
       "master's degree             completed                30.000  \n",
       "                            none                     25.641  "
      ]
     },
     "metadata": {},
     "output_type": "display_data"
    },
    {
     "data": {
      "text/html": [
       "<div>\n",
       "<style scoped>\n",
       "    .dataframe tbody tr th:only-of-type {\n",
       "        vertical-align: middle;\n",
       "    }\n",
       "\n",
       "    .dataframe tbody tr th {\n",
       "        vertical-align: top;\n",
       "    }\n",
       "\n",
       "    .dataframe thead th {\n",
       "        text-align: right;\n",
       "    }\n",
       "</style>\n",
       "<table border=\"1\" class=\"dataframe\">\n",
       "  <thead>\n",
       "    <tr style=\"text-align: right;\">\n",
       "      <th></th>\n",
       "      <th>Performance</th>\n",
       "      <th>0</th>\n",
       "      <th>1</th>\n",
       "      <th>2</th>\n",
       "      <th>3</th>\n",
       "    </tr>\n",
       "    <tr>\n",
       "      <th>race/ethnicity</th>\n",
       "      <th>gender</th>\n",
       "      <th></th>\n",
       "      <th></th>\n",
       "      <th></th>\n",
       "      <th></th>\n",
       "    </tr>\n",
       "  </thead>\n",
       "  <tbody>\n",
       "    <tr>\n",
       "      <th rowspan=\"2\" valign=\"top\">group A</th>\n",
       "      <th>female</th>\n",
       "      <td>66.667</td>\n",
       "      <td>13.889</td>\n",
       "      <td>11.111</td>\n",
       "      <td>8.333</td>\n",
       "    </tr>\n",
       "    <tr>\n",
       "      <th>male</th>\n",
       "      <td>83.019</td>\n",
       "      <td>3.774</td>\n",
       "      <td>5.660</td>\n",
       "      <td>7.547</td>\n",
       "    </tr>\n",
       "    <tr>\n",
       "      <th rowspan=\"2\" valign=\"top\">group B</th>\n",
       "      <th>female</th>\n",
       "      <td>64.423</td>\n",
       "      <td>9.615</td>\n",
       "      <td>16.346</td>\n",
       "      <td>9.615</td>\n",
       "    </tr>\n",
       "    <tr>\n",
       "      <th>male</th>\n",
       "      <td>77.907</td>\n",
       "      <td>4.651</td>\n",
       "      <td>9.302</td>\n",
       "      <td>8.140</td>\n",
       "    </tr>\n",
       "    <tr>\n",
       "      <th rowspan=\"2\" valign=\"top\">group C</th>\n",
       "      <th>female</th>\n",
       "      <td>64.444</td>\n",
       "      <td>8.889</td>\n",
       "      <td>15.000</td>\n",
       "      <td>11.667</td>\n",
       "    </tr>\n",
       "    <tr>\n",
       "      <th>male</th>\n",
       "      <td>77.698</td>\n",
       "      <td>9.353</td>\n",
       "      <td>2.158</td>\n",
       "      <td>10.791</td>\n",
       "    </tr>\n",
       "    <tr>\n",
       "      <th rowspan=\"2\" valign=\"top\">group D</th>\n",
       "      <th>female</th>\n",
       "      <td>60.465</td>\n",
       "      <td>8.527</td>\n",
       "      <td>17.829</td>\n",
       "      <td>13.178</td>\n",
       "    </tr>\n",
       "    <tr>\n",
       "      <th>male</th>\n",
       "      <td>70.677</td>\n",
       "      <td>13.534</td>\n",
       "      <td>6.015</td>\n",
       "      <td>9.774</td>\n",
       "    </tr>\n",
       "    <tr>\n",
       "      <th rowspan=\"2\" valign=\"top\">group E</th>\n",
       "      <th>female</th>\n",
       "      <td>56.522</td>\n",
       "      <td>7.246</td>\n",
       "      <td>5.797</td>\n",
       "      <td>30.435</td>\n",
       "    </tr>\n",
       "    <tr>\n",
       "      <th>male</th>\n",
       "      <td>50.704</td>\n",
       "      <td>19.718</td>\n",
       "      <td>15.493</td>\n",
       "      <td>14.085</td>\n",
       "    </tr>\n",
       "  </tbody>\n",
       "</table>\n",
       "</div>"
      ],
      "text/plain": [
       "Performance                 0       1       2       3\n",
       "race/ethnicity gender                                \n",
       "group A        female  66.667  13.889  11.111   8.333\n",
       "               male    83.019   3.774   5.660   7.547\n",
       "group B        female  64.423   9.615  16.346   9.615\n",
       "               male    77.907   4.651   9.302   8.140\n",
       "group C        female  64.444   8.889  15.000  11.667\n",
       "               male    77.698   9.353   2.158  10.791\n",
       "group D        female  60.465   8.527  17.829  13.178\n",
       "               male    70.677  13.534   6.015   9.774\n",
       "group E        female  56.522   7.246   5.797  30.435\n",
       "               male    50.704  19.718  15.493  14.085"
      ]
     },
     "metadata": {},
     "output_type": "display_data"
    }
   ],
   "source": [
    "crossedu = pd.crosstab([dados['parental level of education'], dados['test preparation course']], dados.Performance, normalize='index').round(5) * 100\n",
    "display(crossedu)\n",
    "crossracial = pd.crosstab([dados['race/ethnicity'], dados['gender']], dados.Performance, normalize='index').round(5) * 100\n",
    "display(crossracial)"
   ]
  },
  {
   "cell_type": "code",
   "execution_count": 26,
   "metadata": {},
   "outputs": [
    {
     "data": {
      "image/png": "[encoded data removed]",
      "text/plain": [
       "<Figure size 432x288 with 1 Axes>"
      ]
     },
     "metadata": {
      "needs_background": "light"
     },
     "output_type": "display_data"
    }
   ],
   "source": [
    "cores = ['red','orange', 'yellow', 'green']\n",
    "\n",
    "crossedu.plot.bar(color = cores, stacked=True)\n",
    "plt.ylabel('Frequência relativa (em %)')\n",
    "plt.legend(loc='center')\n",
    "plt.legend(bbox_to_anchor=(0.95, 0.95)); # Coloca legenda para fora da janela gráfica\n",
    "plt.show()"
   ]
  },
  {
   "cell_type": "code",
   "execution_count": 27,
   "metadata": {},
   "outputs": [
    {
     "data": {
      "image/png": "[encoded data removed]",
      "text/plain": [
       "<Figure size 432x288 with 1 Axes>"
      ]
     },
     "metadata": {
      "needs_background": "light"
     },
     "output_type": "display_data"
    }
   ],
   "source": [
    "cores = ['red','orange', 'yellow', 'green']\n",
    "\n",
    "crossracial.plot.bar(color = cores, stacked=True)\n",
    "plt.ylabel('Frequência relativa (em %)')\n",
    "plt.legend(loc='center')\n",
    "plt.legend(bbox_to_anchor=(0.95, 0.95)); # Coloca legenda para fora da janela gráfica\n",
    "plt.show()"
   ]
  },
  {
   "cell_type": "code",
   "execution_count": null,
   "metadata": {},
   "outputs": [],
   "source": []
  }
 ],
 "metadata": {
  "kernelspec": {
   "display_name": "Python 3 (ipykernel)",
   "language": "python",
   "name": "python3"
  },
  "language_info": {
   "codemirror_mode": {
    "name": "ipython",
    "version": 3
   },
   "file_extension": ".py",
   "mimetype": "text/x-python",
   "name": "python",
   "nbconvert_exporter": "python",
   "pygments_lexer": "ipython3",
   "version": "3.9.7"
  }
 },
 "nbformat": 4,
 "nbformat_minor": 4
}

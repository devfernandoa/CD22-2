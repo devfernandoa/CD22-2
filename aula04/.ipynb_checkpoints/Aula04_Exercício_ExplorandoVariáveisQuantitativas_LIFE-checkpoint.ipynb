{
 "cells": [
  {
   "cell_type": "markdown",
   "metadata": {},
   "source": [
    "___\n",
    "# Exercício: Análise Exploratória - Variáveis Quantitativas\n",
    "___\n",
    "\n",
    "## Aula 04"
   ]
  },
  {
   "cell_type": "markdown",
   "metadata": {},
   "source": [
    "##### <div id=\"indice\"></div>\n",
    "\n",
    "## Índice\n",
    "\n",
    "- [Expectativa de vida](#life)\n",
    "    - [Exercício 1](#ex1)\n",
    "    - [Exercício 2](#ex2)\n",
    "    - [Exercício 3](#ex3)\n",
    "    - [Exercício 4](#ex4)\n",
    "    - [Exercício 5](#ex5)    \n"
   ]
  },
  {
   "cell_type": "code",
   "execution_count": 1,
   "metadata": {},
   "outputs": [],
   "source": [
    "%matplotlib inline\n",
    "\n",
    "import pandas as pd\n",
    "import matplotlib.pyplot as plt\n",
    "import os\n",
    "\n",
    "from numpy import arange\n"
   ]
  },
  {
   "cell_type": "code",
   "execution_count": 2,
   "metadata": {},
   "outputs": [
    {
     "name": "stdout",
     "output_type": "stream",
     "text": [
      "Esperamos trabalhar no diretório\n",
      "C:\\Users\\fefea\\Documents\\GitHub\\CD22-2\\aula04\n"
     ]
    }
   ],
   "source": [
    "print('Esperamos trabalhar no diretório')\n",
    "print(os.getcwd())"
   ]
  },
  {
   "cell_type": "markdown",
   "metadata": {},
   "source": [
    "___\n",
    "<div id=\"life\"></div>\n",
    "\n",
    "# Expectativa de vida\n",
    "\n",
    "<img src=\"expectativavida.png\" height=\"200\">\n",
    "\n",
    "\n",
    "Fonte: extraído da internet"
   ]
  },
  {
   "cell_type": "markdown",
   "metadata": {},
   "source": [
    "O Banco Mundial (http://data.worldbank.org/brazilian-portuguese) disponibiliza bases de dados estatísticos para um pouco mais de 200 países do mundo desde o ano 1800, as quais consideram uma seleção abrangente de indicadores econômicos, sociais e ambientais. Um desses indicadores é a expectativa de vida (em anos) de cada país.\n",
    "\n",
    "O arquivo `Life.xlsx` contém a expectativa de vida de vários países para os anos 1800, 1926 e 2000."
   ]
  },
  {
   "cell_type": "code",
   "execution_count": 3,
   "metadata": {},
   "outputs": [
    {
     "data": {
      "text/html": [
       "<div>\n",
       "<style scoped>\n",
       "    .dataframe tbody tr th:only-of-type {\n",
       "        vertical-align: middle;\n",
       "    }\n",
       "\n",
       "    .dataframe tbody tr th {\n",
       "        vertical-align: top;\n",
       "    }\n",
       "\n",
       "    .dataframe thead th {\n",
       "        text-align: right;\n",
       "    }\n",
       "</style>\n",
       "<table border=\"1\" class=\"dataframe\">\n",
       "  <thead>\n",
       "    <tr style=\"text-align: right;\">\n",
       "      <th></th>\n",
       "      <th>Pais</th>\n",
       "      <th>L1800</th>\n",
       "      <th>L1926</th>\n",
       "      <th>L2000</th>\n",
       "    </tr>\n",
       "  </thead>\n",
       "  <tbody>\n",
       "    <tr>\n",
       "      <th>0</th>\n",
       "      <td>Afghanistan</td>\n",
       "      <td>28.2110</td>\n",
       "      <td>26.919920</td>\n",
       "      <td>51.0</td>\n",
       "    </tr>\n",
       "    <tr>\n",
       "      <th>1</th>\n",
       "      <td>Albania</td>\n",
       "      <td>35.4000</td>\n",
       "      <td>35.400000</td>\n",
       "      <td>74.2</td>\n",
       "    </tr>\n",
       "    <tr>\n",
       "      <th>2</th>\n",
       "      <td>Algeria</td>\n",
       "      <td>28.8224</td>\n",
       "      <td>30.968000</td>\n",
       "      <td>73.2</td>\n",
       "    </tr>\n",
       "    <tr>\n",
       "      <th>3</th>\n",
       "      <td>Angola</td>\n",
       "      <td>26.9800</td>\n",
       "      <td>26.980000</td>\n",
       "      <td>52.6</td>\n",
       "    </tr>\n",
       "    <tr>\n",
       "      <th>4</th>\n",
       "      <td>Antigua and Barbuda</td>\n",
       "      <td>33.5360</td>\n",
       "      <td>37.673931</td>\n",
       "      <td>73.9</td>\n",
       "    </tr>\n",
       "  </tbody>\n",
       "</table>\n",
       "</div>"
      ],
      "text/plain": [
       "                  Pais    L1800      L1926  L2000\n",
       "0          Afghanistan  28.2110  26.919920   51.0\n",
       "1              Albania  35.4000  35.400000   74.2\n",
       "2              Algeria  28.8224  30.968000   73.2\n",
       "3               Angola  26.9800  26.980000   52.6\n",
       "4  Antigua and Barbuda  33.5360  37.673931   73.9"
      ]
     },
     "execution_count": 3,
     "metadata": {},
     "output_type": "execute_result"
    }
   ],
   "source": [
    "dados = pd.read_excel('Life.xlsx')\n",
    "dados.head()"
   ]
  },
  {
   "cell_type": "markdown",
   "metadata": {},
   "source": [
    "[Volta ao Índice](#indice)"
   ]
  },
  {
   "cell_type": "markdown",
   "metadata": {},
   "source": [
    "___\n",
    "<div id=\"ex1\"></div>\n",
    "\n",
    "### EXERCÍCIO 1\n",
    "\n",
    "Calcule algumas medidas resumo para expectativa de vida para cada ano e interprete.\n",
    "\n",
    "Explore a evolução dessa medida ao longo do tempo usando essas informações numéricas."
   ]
  },
  {
   "cell_type": "code",
   "execution_count": 6,
   "metadata": {},
   "outputs": [
    {
     "data": {
      "text/html": [
       "<div>\n",
       "<style scoped>\n",
       "    .dataframe tbody tr th:only-of-type {\n",
       "        vertical-align: middle;\n",
       "    }\n",
       "\n",
       "    .dataframe tbody tr th {\n",
       "        vertical-align: top;\n",
       "    }\n",
       "\n",
       "    .dataframe thead th {\n",
       "        text-align: right;\n",
       "    }\n",
       "</style>\n",
       "<table border=\"1\" class=\"dataframe\">\n",
       "  <thead>\n",
       "    <tr style=\"text-align: right;\">\n",
       "      <th></th>\n",
       "      <th>count</th>\n",
       "      <th>mean</th>\n",
       "      <th>std</th>\n",
       "      <th>min</th>\n",
       "      <th>25%</th>\n",
       "      <th>50%</th>\n",
       "      <th>75%</th>\n",
       "      <th>max</th>\n",
       "    </tr>\n",
       "  </thead>\n",
       "  <tbody>\n",
       "    <tr>\n",
       "      <th>L1800</th>\n",
       "      <td>201.0</td>\n",
       "      <td>31.485800</td>\n",
       "      <td>3.763625</td>\n",
       "      <td>23.387</td>\n",
       "      <td>29.0</td>\n",
       "      <td>31.8</td>\n",
       "      <td>33.90</td>\n",
       "      <td>42.845599</td>\n",
       "    </tr>\n",
       "    <tr>\n",
       "      <th>L1926</th>\n",
       "      <td>201.0</td>\n",
       "      <td>36.353496</td>\n",
       "      <td>9.590987</td>\n",
       "      <td>23.387</td>\n",
       "      <td>30.4</td>\n",
       "      <td>32.8</td>\n",
       "      <td>39.36</td>\n",
       "      <td>63.260000</td>\n",
       "    </tr>\n",
       "    <tr>\n",
       "      <th>L2000</th>\n",
       "      <td>201.0</td>\n",
       "      <td>68.012856</td>\n",
       "      <td>9.211812</td>\n",
       "      <td>45.700</td>\n",
       "      <td>61.4</td>\n",
       "      <td>71.2</td>\n",
       "      <td>75.00</td>\n",
       "      <td>81.100000</td>\n",
       "    </tr>\n",
       "  </tbody>\n",
       "</table>\n",
       "</div>"
      ],
      "text/plain": [
       "       count       mean       std     min   25%   50%    75%        max\n",
       "L1800  201.0  31.485800  3.763625  23.387  29.0  31.8  33.90  42.845599\n",
       "L1926  201.0  36.353496  9.590987  23.387  30.4  32.8  39.36  63.260000\n",
       "L2000  201.0  68.012856  9.211812  45.700  61.4  71.2  75.00  81.100000"
      ]
     },
     "metadata": {},
     "output_type": "display_data"
    }
   ],
   "source": [
    "# Escreva seu código aqui\n",
    "display(dados.describe().transpose())"
   ]
  },
  {
   "cell_type": "markdown",
   "metadata": {},
   "source": [
    "[Volta ao Índice](#indice)"
   ]
  },
  {
   "cell_type": "markdown",
   "metadata": {},
   "source": [
    "___\n",
    "<div id=\"ex2\"></div>\n",
    "\n",
    "### EXERCÍCIO 2\n",
    "\n",
    "Construa um histograma para cada ano e interprete os gráficos. Compare-os.\n",
    "\n",
    "IMPORTANTE: lembre-se que o intuito aqui não é só saber como era a expectativa de vida em um particular ano, mas TAMBÉM compará-las ao longo tempo. Assim sendo, faça histogramas que permita que essa comparação também seja feita.\n"
   ]
  },
  {
   "cell_type": "code",
   "execution_count": 10,
   "metadata": {},
   "outputs": [
    {
     "name": "stdout",
     "output_type": "stream",
     "text": [
      "Amplitude dos dados da expectativa de vida em 1800: 19.459\n",
      "Amplitude dos dados da expectativa de vida em 1926: 39.873\n",
      "Amplitude dos dados da expectativa de vida em 2000: 35.400\n",
      "\n",
      "\n",
      "Amplitude de cada faixa no ano 1800: 3.2\n",
      "Amplitude de cada faixa no ano 1926: 6.6\n",
      "Amplitude de cada faixa no ano 2000: 5.9\n"
     ]
    }
   ],
   "source": [
    "# Escreva seu código aqui\n",
    "amplitude_dados_1800 = dados.L1800.max()-dados.L1800.min()\n",
    "print(f'Amplitude dos dados da expectativa de vida em 1800: {amplitude_dados_1800:.3f}')\n",
    "\n",
    "amplitude_dados_1926 = dados.L1926.max()-dados.L1926.min()\n",
    "print(f'Amplitude dos dados da expectativa de vida em 1926: {amplitude_dados_1926:.3f}')\n",
    "\n",
    "amplitude_dados_2000 = dados.L2000.max()-dados.L2000.min()\n",
    "print(f'Amplitude dos dados da expectativa de vida em 2000: {amplitude_dados_2000:.3f}')\n",
    "\n",
    "print('\\n')\n",
    "\n",
    "amplitude_faixa_1800 = amplitude_dados_1800 / 6\n",
    "print(f'Amplitude de cada faixa no ano 1800: {amplitude_faixa_1800:.1f}')\n",
    "\n",
    "amplitude_faixa_1926 = amplitude_dados_1926 / 6\n",
    "print(f'Amplitude de cada faixa no ano 1926: {amplitude_faixa_1926:.1f}')\n",
    "\n",
    "amplitude_faixa_2000 = amplitude_dados_2000 / 6\n",
    "print(f'Amplitude de cada faixa no ano 2000: {amplitude_faixa_2000:.1f}')"
   ]
  },
  {
   "cell_type": "code",
   "execution_count": 29,
   "metadata": {},
   "outputs": [
    {
     "data": {
      "image/png": "[encoded data removed]",
      "text/plain": [
       "<Figure size 936x648 with 3 Axes>"
      ]
     },
     "metadata": {
      "needs_background": "light"
     },
     "output_type": "display_data"
    }
   ],
   "source": [
    "# faixas de AMPLITUDES IGUAIS\n",
    "faixa = arange(22.5, 80, 3.5)\n",
    "\n",
    "plt.figure(figsize=(13, 9))\n",
    "\n",
    "plt.subplot(221)\n",
    "plt.hist(dados.L1800, bins=faixa, color='darkcyan', edgecolor='white', density=True)\n",
    "plt.title('Densidade (eixo y) e Expectativa de Vida no ano 1800')\n",
    "plt.ylabel('Densidade')\n",
    "\n",
    "plt.subplot(222)\n",
    "plt.hist(dados.L1926, bins=faixa, color='darkviolet', edgecolor='white', density=True)\n",
    "plt.title('Densidade (eixo y) e Expectativa de Vida no ano 1926')\n",
    "plt.ylabel('Densidade')\n",
    "\n",
    "plt.subplot(223)\n",
    "plt.hist(dados.L2000, bins=faixa, color='darkred', edgecolor='white', density=True)\n",
    "plt.title('Densidade (eixo y) e Expectativa de Vida no ano 2000')\n",
    "plt.ylabel('Densidade')\n",
    "\n",
    "plt.show()"
   ]
  },
  {
   "cell_type": "markdown",
   "metadata": {},
   "source": [
    "[Volta ao Índice](#indice)"
   ]
  },
  {
   "cell_type": "markdown",
   "metadata": {},
   "source": [
    "___\n",
    "<div id=\"ex3\"></div>\n",
    "\n",
    "### EXERCÍCIO 3\n",
    "\n",
    "De acordo com o formato de um histograma, é possível classificar a distribuição dos dados como sendo: simétrica, assimétrica positiva (ou a direita) ou assimétrica negativa (ou a esquerda). Veja figura a seguir (fonte: extraída da internet) \n",
    "![AssimSim](AssimSim.jpg)\n",
    "\n",
    "\n",
    "Observe novamente o formato de cada um dos três histogramas construídos para expectativa de vida no [Exercício 2](#ex2).\n",
    "\n",
    "Para cada ano, classifique os histogramas como sendo simétrico, assimétrico positivo ou assimétrico negativo. Argumente claramente o motivo de sua classificação. \n"
   ]
  },
  {
   "cell_type": "code",
   "execution_count": null,
   "metadata": {},
   "outputs": [],
   "source": [
    "# Coloque sua interpretação aqui.\n",
    "em1800 = 'Simetrico'\n",
    "em1926 = 'Assimetrico a direita'\n",
    "em2000 = 'Assimetrico a esquerda'"
   ]
  },
  {
   "cell_type": "markdown",
   "metadata": {},
   "source": [
    "[Volta ao Índice](#indice)"
   ]
  },
  {
   "cell_type": "markdown",
   "metadata": {},
   "source": [
    "___\n",
    "<div id=\"ex4\"></div>\n",
    "\n",
    "### EXERCÍCIO 4\n",
    "\n",
    "Observe novamente os valores de média e mediana calculados no [Exercício 1](#ex1).\n",
    "\n",
    "Para cada um dos três anos, ordene os valores dessas medidas de posição.\n",
    "Verifique se ordem dessas medidas de posição é um mero acaso ou pode ser consequência do formato dos dados. Argumente claramente sua resposta."
   ]
  },
  {
   "cell_type": "code",
   "execution_count": 19,
   "metadata": {},
   "outputs": [
    {
     "data": {
      "text/html": [
       "<div>\n",
       "<style scoped>\n",
       "    .dataframe tbody tr th:only-of-type {\n",
       "        vertical-align: middle;\n",
       "    }\n",
       "\n",
       "    .dataframe tbody tr th {\n",
       "        vertical-align: top;\n",
       "    }\n",
       "\n",
       "    .dataframe thead th {\n",
       "        text-align: right;\n",
       "    }\n",
       "</style>\n",
       "<table border=\"1\" class=\"dataframe\">\n",
       "  <thead>\n",
       "    <tr style=\"text-align: right;\">\n",
       "      <th></th>\n",
       "      <th>count</th>\n",
       "      <th>mean</th>\n",
       "      <th>std</th>\n",
       "      <th>min</th>\n",
       "      <th>25%</th>\n",
       "      <th>50%</th>\n",
       "      <th>75%</th>\n",
       "      <th>max</th>\n",
       "    </tr>\n",
       "  </thead>\n",
       "  <tbody>\n",
       "    <tr>\n",
       "      <th>L1800</th>\n",
       "      <td>201.0</td>\n",
       "      <td>31.485800</td>\n",
       "      <td>3.763625</td>\n",
       "      <td>23.387</td>\n",
       "      <td>29.0</td>\n",
       "      <td>31.8</td>\n",
       "      <td>33.90</td>\n",
       "      <td>42.845599</td>\n",
       "    </tr>\n",
       "    <tr>\n",
       "      <th>L1926</th>\n",
       "      <td>201.0</td>\n",
       "      <td>36.353496</td>\n",
       "      <td>9.590987</td>\n",
       "      <td>23.387</td>\n",
       "      <td>30.4</td>\n",
       "      <td>32.8</td>\n",
       "      <td>39.36</td>\n",
       "      <td>63.260000</td>\n",
       "    </tr>\n",
       "    <tr>\n",
       "      <th>L2000</th>\n",
       "      <td>201.0</td>\n",
       "      <td>68.012856</td>\n",
       "      <td>9.211812</td>\n",
       "      <td>45.700</td>\n",
       "      <td>61.4</td>\n",
       "      <td>71.2</td>\n",
       "      <td>75.00</td>\n",
       "      <td>81.100000</td>\n",
       "    </tr>\n",
       "  </tbody>\n",
       "</table>\n",
       "</div>"
      ],
      "text/plain": [
       "       count       mean       std     min   25%   50%    75%        max\n",
       "L1800  201.0  31.485800  3.763625  23.387  29.0  31.8  33.90  42.845599\n",
       "L1926  201.0  36.353496  9.590987  23.387  30.4  32.8  39.36  63.260000\n",
       "L2000  201.0  68.012856  9.211812  45.700  61.4  71.2  75.00  81.100000"
      ]
     },
     "execution_count": 19,
     "metadata": {},
     "output_type": "execute_result"
    }
   ],
   "source": [
    "# Escreva seu código aqui\n",
    "dados.describe().transpose()\n",
    "'''\n",
    "no gráfico simétrico a média está mais perto da mediana\n",
    "'''"
   ]
  },
  {
   "cell_type": "markdown",
   "metadata": {},
   "source": [
    "[Volta ao Índice](#indice)"
   ]
  },
  {
   "cell_type": "markdown",
   "metadata": {},
   "source": [
    "___\n",
    "<div id=\"ex5\"></div>\n",
    "\n",
    "### EXERCÍCIO 5\n",
    "\n",
    "Faça um boxplot da expectativa de vida de cada ano, todos na mesma janela gráfica.\n",
    "\n",
    "Interprete-o em termos do problema. As conclusões obtidas com o histograma se verificam no boxplot? Justifique sua resposta.\n"
   ]
  },
  {
   "cell_type": "code",
   "execution_count": 25,
   "metadata": {},
   "outputs": [
    {
     "data": {
      "text/plain": [
       "Text(0, 0.5, 'Anos')"
      ]
     },
     "execution_count": 25,
     "metadata": {},
     "output_type": "execute_result"
    },
    {
     "data": {
      "image/png": "[encoded data removed]",
      "text/plain": [
       "<Figure size 2520x576 with 1 Axes>"
      ]
     },
     "metadata": {
      "needs_background": "light"
     },
     "output_type": "display_data"
    }
   ],
   "source": [
    "# Escreva seu código aqui\n",
    "plt.figure(figsize=(35,8))\n",
    "plt.subplot(1,2,1)\n",
    "plt.boxplot([dados.L1800, dados.L1926, dados.L2000], labels = ['Expectativa de vida em 1800', 'Expectativa de vida em 1926', 'Expectativa de vida em 2000'],  \n",
    "            boxprops=dict(color='blue'),\n",
    "            medianprops=dict(color='deeppink'),\n",
    "            capprops=dict(color='springgreen'),\n",
    "            whiskerprops=dict(color='red'),\n",
    "            flierprops=dict(color='yellow', markeredgecolor='cyan')\n",
    "            )\n",
    "plt.title('Expectativa de vida em 1800, 1926 e 2000')\n",
    "plt.ylabel('Anos')"
   ]
  },
  {
   "cell_type": "markdown",
   "metadata": {},
   "source": [
    "[Volta ao Índice](#indice)"
   ]
  }
 ],
 "metadata": {
  "anaconda-cloud": {},
  "kernelspec": {
   "display_name": "Python 3 (ipykernel)",
   "language": "python",
   "name": "python3"
  },
  "language_info": {
   "codemirror_mode": {
    "name": "ipython",
    "version": 3
   },
   "file_extension": ".py",
   "mimetype": "text/x-python",
   "name": "python",
   "nbconvert_exporter": "python",
   "pygments_lexer": "ipython3",
   "version": "3.9.7"
  }
 },
 "nbformat": 4,
 "nbformat_minor": 4
}

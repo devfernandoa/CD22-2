{
 "cells": [
  {
   "cell_type": "markdown",
   "metadata": {},
   "source": [
    "___\n",
    "# Exemplo: Distribuição Normal\n",
    "___\n",
    "\n",
    "## Aula 17\n"
   ]
  },
  {
   "cell_type": "markdown",
   "metadata": {},
   "source": [
    "## Lista de comandos:\n",
    "\n",
    "### Distribuição Normal\n",
    "\n",
    "Comandos quando $X\\sim N(\\mu, \\sigma^2)$ a partir da biblioteca `from scipy import stats`:\n",
    "\n",
    "* $f(x)$: `stats.norm.pdf(x, loc=mu, scale=sigma)`\n",
    "\n",
    "* $P(X\\leq x)$: `stats.norm.cdf(x, loc=mu, scale=sigma)`\n",
    "\n",
    "* $x$ tal que $p=P(X\\leq x)$: `stats.norm.ppf(p, loc=mu, scale=sigma)`\n",
    "\n",
    "* $E(X)$: `stats.norm.mean(loc=mu, scale=sigma)`\n",
    "\n",
    "* $Var(X)$: `stats.norm.var(loc=mu, scale=sigma)`\n",
    "\n",
    "* $DP(X)$: `stats.norm.std(loc=mu, scale=sigma)`\n",
    "\n",
    "\n",
    "Link: https://docs.scipy.org/doc/scipy/reference/generated/scipy.stats.norm.html"
   ]
  },
  {
   "cell_type": "code",
   "execution_count": 1,
   "metadata": {},
   "outputs": [],
   "source": [
    "from scipy import stats\n",
    "import numpy as np\n",
    "import matplotlib.pyplot as plt\n",
    "%matplotlib inline"
   ]
  },
  {
   "cell_type": "markdown",
   "metadata": {},
   "source": [
    "___\n",
    "\n",
    "# Exemplo 1:\n",
    "\n",
    "Assuma que a variável de interesse $X$ represente notas de alunos, cuja média vale 5 e o desvio padrão, 1,5. Ainda, considere que essa variável seja modelada por uma normal. Ou seja, $X\\sim N(5; 1,5^2)$. \n",
    "\n",
    "**Responda:**"
   ]
  },
  {
   "cell_type": "code",
   "execution_count": null,
   "metadata": {},
   "outputs": [],
   "source": []
  },
  {
   "cell_type": "markdown",
   "metadata": {},
   "source": [
    "### Item a\n",
    "\n",
    "Qual a probabilidade de encontrar um aluno com nota abaixo de 6,5?\n",
    "\n",
    "*Resposta esperada: 0.8413447460685429*"
   ]
  },
  {
   "cell_type": "code",
   "execution_count": 2,
   "metadata": {},
   "outputs": [
    {
     "name": "stdout",
     "output_type": "stream",
     "text": [
      "P(X < 6.5) = 0.8413447460685429\n"
     ]
    }
   ],
   "source": [
    "# ESCREVA SUA RESPOSTA AQUI\n",
    "mu = 5\n",
    "sigma = 1.5\n",
    "# P(X < 6,5) = P (X < mu + 1*sigma) = ?\n",
    "item_a = stats.norm.cdf(6.5, mu, sigma)\n",
    "\n",
    "print(f'P(X < 6.5) = {item_a}')"
   ]
  },
  {
   "cell_type": "markdown",
   "metadata": {},
   "source": [
    "### Item b\n",
    "\n",
    "Qual a probabilidade de encontrar um aluno nota acima de 8?\n",
    "\n",
    "*Resposta esperada: 0.02275013194817921*"
   ]
  },
  {
   "cell_type": "code",
   "execution_count": 3,
   "metadata": {
    "scrolled": true
   },
   "outputs": [
    {
     "name": "stdout",
     "output_type": "stream",
     "text": [
      "P(X > 8) = 0.02275013194817921\n"
     ]
    }
   ],
   "source": [
    "# ESCREVA SUA RESPOSTA AQUI\n",
    "\n",
    "# P(X > 8) = P (X > mu + 2*sigma) = ?\n",
    "item_b = 1 - stats.norm.cdf(8, mu, sigma)\n",
    "\n",
    "print(f'P(X > 8) = {item_b}')"
   ]
  },
  {
   "cell_type": "markdown",
   "metadata": {},
   "source": [
    "### Item c\n",
    "\n",
    "E da nota ser superior a 9?\n",
    "\n",
    "*Resposta esperada: 0.003830380567589775*"
   ]
  },
  {
   "cell_type": "code",
   "execution_count": 4,
   "metadata": {},
   "outputs": [
    {
     "name": "stdout",
     "output_type": "stream",
     "text": [
      "P(X > 9) = 0.003830380567589775\n"
     ]
    }
   ],
   "source": [
    "# ESCREVA SUA RESPOSTA AQUI\n",
    "item_c = 1 - stats.norm.cdf(9, mu, sigma)\n",
    "\n",
    "print(f'P(X > 9) = {item_c}')"
   ]
  },
  {
   "cell_type": "code",
   "execution_count": null,
   "metadata": {},
   "outputs": [],
   "source": []
  },
  {
   "cell_type": "markdown",
   "metadata": {},
   "source": [
    "### Item d\n",
    "\n",
    "Qual a maior nota dos 20% piores alunos? E a pior nota dos 20% melhores alunos?\n",
    "\n",
    "*Resposta esperada: 3.737568149640629 e 6.262431850359372*"
   ]
  },
  {
   "cell_type": "code",
   "execution_count": 5,
   "metadata": {},
   "outputs": [
    {
     "name": "stdout",
     "output_type": "stream",
     "text": [
      "piores 20% = 3.737568149640629 e melhores 20% = 6.262431850359372\n"
     ]
    }
   ],
   "source": [
    "# ESCREVA SUA RESPOSTA AQUI\n",
    "item_d = stats.norm.ppf(0.2, mu, sigma)\n",
    "item_d2 = stats.norm.ppf(0.8, mu, sigma)\n",
    "\n",
    "print(f'piores 20% = {item_d} e melhores 20% = {item_d2}')"
   ]
  },
  {
   "cell_type": "code",
   "execution_count": null,
   "metadata": {},
   "outputs": [],
   "source": []
  },
  {
   "cell_type": "markdown",
   "metadata": {},
   "source": [
    "### Item e\n",
    "\n",
    "Considerando alunos que tiraram acima de 5, qual a probabilidade de ser abaixo de 7?\n",
    "\n",
    "*Resposta esperada: 0.8175775605482642*"
   ]
  },
  {
   "cell_type": "code",
   "execution_count": 6,
   "metadata": {},
   "outputs": [],
   "source": [
    "# ESCREVA SUA RESPOSTA AQUI"
   ]
  },
  {
   "cell_type": "code",
   "execution_count": 7,
   "metadata": {},
   "outputs": [
    {
     "name": "stdout",
     "output_type": "stream",
     "text": [
      "P(X < 7|X > 5) = 0.8175775605482642\n"
     ]
    }
   ],
   "source": [
    "pmaiorque5 = 1 - stats.norm.cdf(5, mu, sigma)\n",
    "pmenorque7 = stats.norm.cdf(7, mu, sigma)\n",
    "inter = pmenorque7 - pmaiorque5 \n",
    "item_e = inter/pmaiorque5\n",
    "\n",
    "print(f'P(X < 7|X > 5) = {item_e}')"
   ]
  },
  {
   "cell_type": "code",
   "execution_count": null,
   "metadata": {},
   "outputs": [],
   "source": []
  },
  {
   "cell_type": "markdown",
   "metadata": {},
   "source": [
    "### Item f\n",
    "\n",
    "Construa o gráfico da distribuição normal que modela as notas.\n",
    "\n",
    "*Resposta esperada: 0.02275013194817921*"
   ]
  },
  {
   "cell_type": "code",
   "execution_count": 8,
   "metadata": {},
   "outputs": [],
   "source": [
    "# ESCREVA SUA RESPOSTA AQUI"
   ]
  },
  {
   "cell_type": "code",
   "execution_count": 9,
   "metadata": {},
   "outputs": [
    {
     "data": {
      "image/png": "[encoded data removed]",
      "text/plain": [
       "<Figure size 432x288 with 1 Axes>"
      ]
     },
     "metadata": {
      "needs_background": "light"
     },
     "output_type": "display_data"
    }
   ],
   "source": [
    "x_axis = np.arange(0, 10, 0.01)\n",
    "plt.plot(x_axis, stats.norm.pdf(x_axis, mu, sigma))\n",
    "plt.show()"
   ]
  },
  {
   "cell_type": "code",
   "execution_count": null,
   "metadata": {},
   "outputs": [],
   "source": []
  },
  {
   "cell_type": "markdown",
   "metadata": {},
   "source": [
    "___\n",
    "# Exemplo 2: Relação entre P(X ≤ x) e P(Z ≤ z) \n",
    "\n",
    "Assuma que $X \\sim N(\\mu, \\sigma^2)$ e que $Z \\sim N(0, 1)$.\n",
    "\n",
    "Considere que Assuma que $X$: diâmetro de uma peça (em polegadas), em que $X \\sim N(2; 0,02^2)$.\n",
    "\n",
    "**SEM considerar a distribuição de $X$ diretamente e sim a distribuição da Normal Padrão $Z$, responda os itens abaixo.**\n",
    "\n",
    "**Responda:**"
   ]
  },
  {
   "cell_type": "markdown",
   "metadata": {},
   "source": [
    "a) P(X < 2,02) = ?\n",
    "\n",
    "*Resposta esperada: 0.8413447460685431*"
   ]
  },
  {
   "cell_type": "code",
   "execution_count": 17,
   "metadata": {},
   "outputs": [
    {
     "name": "stdout",
     "output_type": "stream",
     "text": [
      "P(X < 6.5) = 0.8413447460685431\n",
      "0.8413447460685431\n"
     ]
    }
   ],
   "source": [
    "# ESCREVA SUA RESPOSTA AQUI\n",
    "mu2 = 2\n",
    "sigma2 = 0.02\n",
    "\n",
    "item_a2 = stats.norm.cdf(2.02, mu2, sigma2)\n",
    "\n",
    "print(f'P(X < 6.5) = {item_a2}')\n",
    "\n",
    "# OU\n",
    "\n",
    "Z = (2.02-2)/0.02\n",
    "print(stats.norm.cdf(Z))"
   ]
  },
  {
   "cell_type": "code",
   "execution_count": null,
   "metadata": {},
   "outputs": [],
   "source": []
  },
  {
   "cell_type": "markdown",
   "metadata": {},
   "source": [
    "b) P(X < 2,0325) = ?\n",
    "\n",
    "*Resposta esperada: 0.9479187205847815*"
   ]
  },
  {
   "cell_type": "code",
   "execution_count": 28,
   "metadata": {},
   "outputs": [
    {
     "name": "stdout",
     "output_type": "stream",
     "text": [
      "P(X < 6.5) = 0.9479187205847815\n"
     ]
    }
   ],
   "source": [
    "# ESCREVA SUA RESPOSTA AQUI\n",
    "item_b2 = stats.norm.cdf(2.0325, mu2, sigma2)\n",
    "\n",
    "print(f'P(X < 6.5) = {item_b2}')"
   ]
  },
  {
   "cell_type": "code",
   "execution_count": null,
   "metadata": {},
   "outputs": [],
   "source": []
  },
  {
   "cell_type": "markdown",
   "metadata": {},
   "source": [
    "c) 1% das peças são descartadas por possuírem medida muito pequena ou muito grande para o diâmetro dessa peça. Que medidas extremas são essas, assumindo que estão equidistante da média populacional.\n",
    "\n",
    "*Resposta esperada: 1.948483413929022  e  2.051516586070978*"
   ]
  },
  {
   "cell_type": "code",
   "execution_count": 20,
   "metadata": {},
   "outputs": [
    {
     "name": "stdout",
     "output_type": "stream",
     "text": [
      "P(X < 6.5) = 1.948483413929022\n",
      "P(X < 6.5) = 2.051516586070978\n"
     ]
    }
   ],
   "source": [
    "item_c2 = stats.norm.ppf(0.005, mu2, sigma2)\n",
    "\n",
    "print(f'P(X < 6.5) = {item_c2}')\n",
    "\n",
    "item_c22 = stats.norm.ppf(0.995, mu2, sigma2)\n",
    "\n",
    "print(f'P(X < 6.5) = {item_c22}')"
   ]
  },
  {
   "cell_type": "code",
   "execution_count": null,
   "metadata": {},
   "outputs": [],
   "source": []
  },
  {
   "cell_type": "code",
   "execution_count": null,
   "metadata": {},
   "outputs": [],
   "source": []
  }
 ],
 "metadata": {
  "kernelspec": {
   "display_name": "Python 3 (ipykernel)",
   "language": "python",
   "name": "python3"
  },
  "language_info": {
   "codemirror_mode": {
    "name": "ipython",
    "version": 3
   },
   "file_extension": ".py",
   "mimetype": "text/x-python",
   "name": "python",
   "nbconvert_exporter": "python",
   "pygments_lexer": "ipython3",
   "version": "3.9.7"
  }
 },
 "nbformat": 4,
 "nbformat_minor": 2
}

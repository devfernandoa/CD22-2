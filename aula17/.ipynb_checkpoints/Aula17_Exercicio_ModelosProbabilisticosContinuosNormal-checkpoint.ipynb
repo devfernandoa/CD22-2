{
 "cells": [
  {
   "cell_type": "markdown",
   "metadata": {},
   "source": [
    "___\n",
    "# Exercício: Modelos probabilísticos contínuos\n",
    "___\n",
    "\n",
    "## Aula 17\n"
   ]
  },
  {
   "cell_type": "markdown",
   "metadata": {},
   "source": [
    "___\n",
    "<div id=\"indice\"></div>\n",
    "\n",
    "## Índice\n",
    "\n",
    "  - [Exercício 1](#ex1)\n",
    "  - [Exercício 2](#ex2)\n",
    "  - [Exercício 3](#ex3)\n",
    "  - [Exercício 4](#ex4)\n",
    "  - [Exercício 5](#ex5) **- APS7 disponível no Blackboard**\n",
    "___"
   ]
  },
  {
   "cell_type": "code",
   "execution_count": 1,
   "metadata": {},
   "outputs": [],
   "source": [
    "from scipy import stats #importa apenas as funções de estatísticas da biblioteca SciPy.\n",
    "import numpy as np\n",
    "import matplotlib.pyplot as plt"
   ]
  },
  {
   "cell_type": "markdown",
   "metadata": {},
   "source": [
    "<div id=\"ex1\"></div>\n",
    "\n",
    "### EXERCÍCIO 1\n",
    "\n",
    "Para X ~ N(90, 100), calcular:\n",
    "\n",
    "a) $P(X \\leq 115)$\n",
    "\n",
    "b) $P(X \\geq 80 | X < 100)$\n",
    "\n",
    "c) O número $c$ tal que $P(X < c) = 0,975$\n",
    "\n",
    "d) O número $d$ tal que $P(X > d) = 0,95$\n",
    "\n",
    "e) O valor de $e$ tal que $P(90 - e \\leq X \\leq 90 + e) = 0,99$\n",
    "\n",
    "*Respostas esperadas: (a)0.9937903346742238  (b)0.8114265826549397  (c)109.59963984540053 (d)73.55146373048528 (e)25.758293035489004*\n"
   ]
  },
  {
   "cell_type": "code",
   "execution_count": null,
   "metadata": {},
   "outputs": [],
   "source": [
    "# ESCREVA SEU CÓDIGO AQUI"
   ]
  },
  {
   "cell_type": "code",
   "execution_count": 83,
   "metadata": {},
   "outputs": [
    {
     "name": "stdout",
     "output_type": "stream",
     "text": [
      "P(X <= 115) = 0.9937903346742238\n",
      "P(X >= 80|X < 100) = 0.8114265826549397\n",
      "P(X < c) = 109.59963984540053\n",
      "P(X > d) = 73.55146373048527\n",
      "P(e) = 25.758293035489004\n"
     ]
    }
   ],
   "source": [
    "mu = 90\n",
    "sigma = 10\n",
    "item_a = stats.norm.cdf(115, mu, sigma)\n",
    "\n",
    "print(f'P(X <= 115) = {item_a}')\n",
    "\n",
    "pmenor100 = stats.norm.cdf(100, mu, sigma)\n",
    "pmaior80 = stats.norm.cdf(80, mu, sigma)\n",
    "inter = pmenor100 - pmaior80 \n",
    "item_b = inter/pmenor100\n",
    "\n",
    "print(f'P(X >= 80|X < 100) = {item_b}')\n",
    "\n",
    "item_c = stats.norm.ppf(0.975, mu, sigma)\n",
    "\n",
    "print(f'P(X < c) = {item_c}')\n",
    "\n",
    "item_d = stats.norm.ppf(0.05, mu, sigma)\n",
    "\n",
    "print(f'P(X > d) = {item_d}')\n",
    "\n",
    "p99 = stats.norm.ppf(0.005, mu, sigma)\n",
    "item_e = 90 - p99\n",
    "\n",
    "print(f'P(e) = {item_e}')"
   ]
  },
  {
   "cell_type": "markdown",
   "metadata": {},
   "source": [
    "<div id=\"ex2\"></div>\n",
    "\n",
    "### EXERCÍCIO 2\n",
    "\n",
    "As notas no quiz final de Ciência dos Dados distribuem-se segundo uma variável aleatória normal com média 6,5 e desvio padrão 1,6. O professor deseja dividir a classe em 3 categorias, da seguinte forma: os 30% que tiveram as maiores notas serão aprovados, os 50% com notas intermediárias ficarão de exame e os 20% que tiveram as menores notas serão reprovados. \n",
    "\n",
    "a) Quais os limites de nota entre cada uma das categorias?\n",
    "\n",
    "b) Caso a nota para aprovação (sem ir para exame) fosse igual a 7,0 e uma turma tivesse 50 alunos, quantos desses seriam aprovados sem ir para o exame? \n",
    "\n",
    "*Respostas esperadas: (a)5.153406026283337 e 7.339040820332865    (b)19*"
   ]
  },
  {
   "cell_type": "code",
   "execution_count": 87,
   "metadata": {},
   "outputs": [
    {
     "name": "stdout",
     "output_type": "stream",
     "text": [
      "limite 30 = 5.153406026283337 e limite 80 = 7.339040820332865\n",
      "P(X <= 7) = 19.0\n"
     ]
    }
   ],
   "source": [
    "# ESCREVA SEU CÓDIGO AQUI\n",
    "mu2 = 6.5\n",
    "sigma2 = 1.6\n",
    "\n",
    "item_a21 = stats.norm.ppf(0.2, mu2, sigma2)\n",
    "item_a22 = stats.norm.ppf(0.7, mu2, sigma2)\n",
    "print(f'limite 30 = {item_a21} e limite 80 = {item_a22}')\n",
    "\n",
    "preprovar = stats.norm.cdf(7, mu2, sigma2)\n",
    "\n",
    "print(f'P(X <= 7) = {round((1 - preprovar) * 50, 0)}')"
   ]
  },
  {
   "cell_type": "code",
   "execution_count": null,
   "metadata": {},
   "outputs": [],
   "source": []
  },
  {
   "cell_type": "markdown",
   "metadata": {},
   "source": [
    "<div id=\"ex3\"></div>\n",
    "\n",
    "### EXERCÍCIO 3\n",
    "\n",
    "Um determinado calçado é vendido em lojas populares e em lojas sofisticadas. De todas as lojas, 70%  são populares e 30%  são sofisticadas. Nas lojas populares seu preço segue uma distribuição normal com média 80 e desvio-padrão 12. Já em lojas sofisticadas, o preço também segue uma distribuição normal de média 160 e desvio-padrão 30. \n",
    "\n",
    "a) Determine maior preço considerando os 25% menores valores na distribuição de preços de uma loja popular.\n",
    "\n",
    "b) Gastou-se mais de $100,00 para comprar o calçado. Qual é a probabilidade da compra ter sido feita numa loja popular?\n",
    "\n",
    "*Respostas esperadas: (a)71.90612299764702    (b)0.10241995600307374*"
   ]
  },
  {
   "cell_type": "code",
   "execution_count": 88,
   "metadata": {},
   "outputs": [
    {
     "name": "stdout",
     "output_type": "stream",
     "text": [
      "71.90612299764702\n"
     ]
    }
   ],
   "source": [
    "# ESCREVA SEU CÓDIGO AQUI\n",
    "mup = 80\n",
    "sigmap = 12\n",
    "mus = 160\n",
    "sigmas = 30\n",
    "\n",
    "item_a3 = stats.norm.ppf(0.25, mup, sigmap)\n",
    "print(item_a3)\n",
    "\n",
    "inter = \n",
    "item_b3 = \n",
    "\n"
   ]
  },
  {
   "cell_type": "code",
   "execution_count": null,
   "metadata": {},
   "outputs": [],
   "source": []
  },
  {
   "cell_type": "markdown",
   "metadata": {},
   "source": [
    "<div id=\"ex4\"></div>\n",
    "\n",
    "### EXERCÍCIO 4\n",
    "\n",
    "Em um processo industrial, o diâmetro de um rolamento é uma parte importante do processo.\n",
    "\n",
    "Sabe-se que a probabilidade de um rolamento ter diâmetro maior do 2,98 cm é de 80%. \n",
    "\n",
    "Sabe-se, também que a probabilidade de que um rolamento tenha diâmetro abaixo de 2,97 cm é de 10%. \n",
    "\n",
    "a) Admitindo que o diâmetro de um rolamento segue uma distribuição normal, determine a média e o desvio-padrão dos diâmetros dos rolamentos que saem da linha de produção.\n",
    "\n",
    "b) Determine a especificação que represente a maior distância da média, para mais ou para menos, contendo 95% dos rolamentos produzidos. \n",
    "\n",
    "*Respostas esperadas: (a) mu=2.9991307844085426 sigma=0.022730871852326348   (b)0.04455169016775473*"
   ]
  },
  {
   "cell_type": "code",
   "execution_count": null,
   "metadata": {},
   "outputs": [],
   "source": [
    "# ESCREVA SEU CÓDIGO AQUI"
   ]
  },
  {
   "cell_type": "code",
   "execution_count": null,
   "metadata": {},
   "outputs": [],
   "source": []
  },
  {
   "cell_type": "code",
   "execution_count": null,
   "metadata": {},
   "outputs": [],
   "source": []
  },
  {
   "cell_type": "markdown",
   "metadata": {},
   "source": [
    "___\n",
    "<div id=\"ex5\"></div>\n",
    "\n",
    "### EXERCÍCIO 5 - Modelagem do Tempo para resolver uma prova de MatVar\n",
    "\n",
    "Um grupo de alunos de cada uma das três turmas que cursam Ciência dos Dados estava discutindo com intuito de modelar o tempo, em horas, que um aluno irá levar para fazer uma prova de Matemática da Variação. \n",
    "\n",
    "Após cada grupo de alunos chegar a um consenso, foi escolhido um modelo probabilístico contínuo diferente para cada turma A, B e C. Dessa forma, os três modelos foram escolhidos com intuito de descrever o comportamento da variável X: tempo, em horas, que um aluno irá levar para entregar uma prova de Matemática da Variação. Lembrando que um aluno tem até duas horas para fazê-la.\n",
    "\n",
    "Esses três modelos são dados por:\n",
    "\n",
    "> * **Turma A:** $X_A$ segue o seguinte modelo:\n",
    "    $ f(x) = \\left\\{ \\begin{array}[ll]\\\\\n",
    "                +0.4-0.8x & \\rm{se }\\hspace{2mm} 0<x<0.5 \\\\\n",
    "                -0.4+0.8x & \\rm{se }\\hspace{2mm} 0.5\\leq x\\leq2 \\\\\n",
    "                0 & \\rm{caso}\\hspace{2mm}\\rm{contrário} \n",
    "             \\end{array} \\right.$\n",
    "\n",
    "> * **Turma B:** $X_B\\sim Normal(1; 0.3^2)$, ou seja, $\\mu=1$ e $\\sigma=0.3$.\n",
    "\n",
    "> * **Turma C:** $X_C\\sim Uniforme(0; 2)$, ou seja, $a=0$ e $b=2$.\n",
    "\n",
    "\n"
   ]
  },
  {
   "cell_type": "markdown",
   "metadata": {},
   "source": [
    "Admitindo que os alunos façam suas provas de forma independente uns dos outros, responda:\n",
    "\t\n",
    "a) Estudando o comportamento da função densidade de probabilidade de cada modelo probabilístico, qual você entende ser o mais adequado para descrever o comportamento da variável X? E qual você entende ser o menos adequado? Justifique suas respostas após estudar o comportamento das fdp’s escolhidas por cada turma. *Nota: a fdp da turma A tem que ser construída usando a f(x) dada e, as demais, usando a função `pdf` do `scipy.stats`.\n",
    "\n",
    "b) Qual a probabilidade de um aluno da turma B demorar mais do que 1 hora e meia para entregar a prova de Matemática da Variação? E na da turma C? \n",
    "\n",
    "c)\tAtualmente, 34% dos alunos estão na turma A, 34% na B e 32% na C. Qual a probabilidade de um aluno qualquer (ou seja, um aluno de qualquer uma dessas três turmas) demorar mais do que uma hora e meia para entregar a prova final dessa disciplina?\n",
    "\n",
    "d) Qual o menor tempo de entrega da prova dentre os últimos 20% de alunos que entregam na sala da turma B? E na da turma C? Interprete os resultados.\n"
   ]
  },
  {
   "cell_type": "code",
   "execution_count": 89,
   "metadata": {},
   "outputs": [
    {
     "data": {
      "image/png": "[encoded data removed]",
      "text/plain": [
       "<Figure size 432x288 with 1 Axes>"
      ]
     },
     "metadata": {
      "needs_background": "light"
     },
     "output_type": "display_data"
    }
   ],
   "source": [
    "# ESCREVA SEU CÓDIGO AQUI\n",
    "tempo = np.arange(0, 2, 0.01)\n",
    "notasa = []\n",
    "for i in tempo:\n",
    "    if i < 0.5:\n",
    "        notasa.append(0.4 - 0.8*i)\n",
    "    else:\n",
    "        notasa.append(-0.4 + 0.8*i)\n",
    "plt.plot(tempo, notasa)\n",
    "plt.show()\n"
   ]
  },
  {
   "cell_type": "code",
   "execution_count": 90,
   "metadata": {},
   "outputs": [
    {
     "data": {
      "image/png": "[encoded data removed]",
      "text/plain": [
       "<Figure size 432x288 with 1 Axes>"
      ]
     },
     "metadata": {
      "needs_background": "light"
     },
     "output_type": "display_data"
    }
   ],
   "source": [
    "mu = 1\n",
    "sigma = 0.3\n",
    "notasb = stats.norm.pdf(tempo, mu, sigma)\n",
    "plt.plot(tempo, notasb)\n",
    "plt.show()"
   ]
  },
  {
   "cell_type": "code",
   "execution_count": 91,
   "metadata": {},
   "outputs": [
    {
     "data": {
      "image/png": "[encoded data removed]",
      "text/plain": [
       "<Figure size 432x288 with 1 Axes>"
      ]
     },
     "metadata": {
      "needs_background": "light"
     },
     "output_type": "display_data"
    }
   ],
   "source": [
    "a = 0\n",
    "b = 2\n",
    "notasc = stats.uniform.pdf(tempo, a, b)\n",
    "plt.plot(tempo, notasc)\n",
    "plt.show()"
   ]
  },
  {
   "cell_type": "code",
   "execution_count": 92,
   "metadata": {},
   "outputs": [
    {
     "name": "stdout",
     "output_type": "stream",
     "text": [
      "0.047790352272814696\n",
      "0.25\n"
     ]
    }
   ],
   "source": [
    "pmais1meiab = 1 - stats.norm.cdf(1.5, mu, sigma)\n",
    "print(pmais1meiab)\n",
    "\n",
    "pmais1meiac = 1 - stats.uniform.cdf(1.5, a, b)\n",
    "print(pmais1meiac)"
   ]
  },
  {
   "cell_type": "code",
   "execution_count": 93,
   "metadata": {},
   "outputs": [
    {
     "data": {
      "text/plain": [
       "0.26624871977275705"
      ]
     },
     "execution_count": 93,
     "metadata": {},
     "output_type": "execute_result"
    }
   ],
   "source": [
    "x15 = -0.4 + 0.8 * 1.5\n",
    "x2 = -0.4 + 0.8 * 2\n",
    "\n",
    "areaquadrado = 0.5 * x15\n",
    "areatriangulo = (x2 - x15) * 0.5 / 2\n",
    "\n",
    "pmais1meiaa = areaquadrado + areatriangulo\n",
    "\n",
    "pmais1meiatotal = pmais1meiaa * 0.34 + pmais1meiab * 0.34 + pmais1meiac * 0.32\n",
    "pmais1meiatotal\n"
   ]
  },
  {
   "cell_type": "code",
   "execution_count": 94,
   "metadata": {},
   "outputs": [
    {
     "name": "stdout",
     "output_type": "stream",
     "text": [
      "1.2524863700718742\n",
      "1.6\n"
     ]
    }
   ],
   "source": [
    "pmenor20b = stats.norm.ppf(0.8, mu, sigma)\n",
    "print(pmenor20b)\n",
    "\n",
    "pmenor20c = stats.uniform.ppf(0.8, a, b)\n",
    "print(pmenor20c)"
   ]
  },
  {
   "cell_type": "code",
   "execution_count": null,
   "metadata": {},
   "outputs": [],
   "source": []
  },
  {
   "cell_type": "code",
   "execution_count": null,
   "metadata": {},
   "outputs": [],
   "source": []
  }
 ],
 "metadata": {
  "anaconda-cloud": {},
  "kernelspec": {
   "display_name": "Python 3 (ipykernel)",
   "language": "python",
   "name": "python3"
  },
  "language_info": {
   "codemirror_mode": {
    "name": "ipython",
    "version": 3
   },
   "file_extension": ".py",
   "mimetype": "text/x-python",
   "name": "python",
   "nbconvert_exporter": "python",
   "pygments_lexer": "ipython3",
   "version": "3.9.7"
  }
 },
 "nbformat": 4,
 "nbformat_minor": 1
}

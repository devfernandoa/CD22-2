{
 "cells": [
  {
   "cell_type": "markdown",
   "metadata": {},
   "source": [
    "___\n",
    "# Atividade: Experimento dos Resistores\n",
    "___\n",
    "## Aula 22"
   ]
  },
  {
   "cell_type": "code",
   "execution_count": 18,
   "metadata": {},
   "outputs": [],
   "source": [
    "%matplotlib inline\n",
    "import matplotlib.pyplot as plt\n",
    "import pandas as pd\n",
    "import numpy as np\n",
    "from scipy import stats\n",
    "\n",
    "from math import *"
   ]
  },
  {
   "cell_type": "markdown",
   "metadata": {},
   "source": [
    "___\n",
    "<div id=\"resistores\"></div>\n",
    "\n",
    "# Comprar ou não comprar um lote de resistores?\n",
    "\n",
    "Sua empresa está desenvolvendo um produto e o seu departamento ficou responsável por indicar um fabricante de resistores para ser utilizado nesse projeto.\n",
    "\n",
    "Serão comprados muitos resistores e ficaria inviável medi-los individualmente para garantir um mínimo de qualidade ao seu produto.\n",
    "\n",
    "Para auxiliar na sua a tomada de decisão sobre a compra ou não de um lote de resistores, o fabricante enviou uma pequena amostra aleatória de $n$ unidades. Assim, você deve utilizar essa amostra para tomar uma decisão sobre o lote todo (contexto populacional).\n",
    "\n",
    "Considere aqui que o desvio padrão populacional seja conhecido e valha $\\sigma=25 k\\Omega$. \n",
    "\n",
    "Ainda, assuma que não está sendo questionada a qualidade do fabricante decorrente à variabilidade das resistências.\n",
    "\n",
    "\n",
    "**Responda:**"
   ]
  },
  {
   "cell_type": "markdown",
   "metadata": {},
   "source": [
    "**a)** Você receberá um envelope com a amostra de resistores. Faça:\n",
    "\n",
    " * mensure a resistência de cada resistor;\n",
    " * guarde esses valores em uma lista; e\n",
    " * calcule a resistência **média amostral** e o **tamanho da amostra**.\n",
    " \n",
    "Trabalhe em dupla neste item."
   ]
  },
  {
   "cell_type": "code",
   "execution_count": 2,
   "metadata": {},
   "outputs": [],
   "source": [
    "# ESCREVA SUA RESPOSTA AQUI\n",
    "resistores = [1.044, 1.057, 1.045, 1.046, 1.010, 0.987, 1.005, 1.061, 1.035, 1.051, 1.050, 1.062, 1.032]"
   ]
  },
  {
   "cell_type": "code",
   "execution_count": 6,
   "metadata": {},
   "outputs": [
    {
     "data": {
      "text/plain": [
       "count    13.000000\n",
       "mean      1.037308\n",
       "std       0.023167\n",
       "min       0.987000\n",
       "25%       1.032000\n",
       "50%       1.045000\n",
       "75%       1.051000\n",
       "max       1.062000\n",
       "dtype: float64"
      ]
     },
     "execution_count": 6,
     "metadata": {},
     "output_type": "execute_result"
    }
   ],
   "source": [
    "serie = pd.Series(resistores)\n",
    "serie.describe()"
   ]
  },
  {
   "cell_type": "code",
   "execution_count": null,
   "metadata": {},
   "outputs": [],
   "source": []
  },
  {
   "cell_type": "markdown",
   "metadata": {},
   "source": [
    "**b)** Considerando o que foi feito no item anterior, descreva:\n",
    "  * Variável de interesse $X$ em termos do problema; e\n",
    "  * Parâmetro de interesse (valor populacional) para ter motivado o cálculo da média amostral."
   ]
  },
  {
   "cell_type": "code",
   "execution_count": null,
   "metadata": {},
   "outputs": [],
   "source": [
    "# ESCREVA SUA RESPOSTA AQUI"
   ]
  },
  {
   "cell_type": "code",
   "execution_count": 7,
   "metadata": {},
   "outputs": [],
   "source": [
    "mu = serie.mean()\n",
    "dp = serie.std()"
   ]
  },
  {
   "cell_type": "code",
   "execution_count": null,
   "metadata": {},
   "outputs": [],
   "source": []
  },
  {
   "cell_type": "markdown",
   "metadata": {},
   "source": [
    "**c)** Seja $\\overline{X}$ a média amostral considerando uma amostra de $n$ resistores selecionados aleatoriamente. Qual é a distribuição de probabilidades de $\\overline{X}$ (qual distribuição e quais os seus respectivos parâmetros)? Aqui foi feito uso do TLC? Justifique porquê."
   ]
  },
  {
   "cell_type": "code",
   "execution_count": null,
   "metadata": {},
   "outputs": [],
   "source": [
    "# ESCREVA SUA RESPOSTA AQUI"
   ]
  },
  {
   "cell_type": "code",
   "execution_count": null,
   "metadata": {},
   "outputs": [],
   "source": []
  },
  {
   "cell_type": "code",
   "execution_count": null,
   "metadata": {},
   "outputs": [],
   "source": []
  },
  {
   "cell_type": "markdown",
   "metadata": {},
   "source": [
    "**d)** Obtenha a margem de erro considerando um coeficiente de confiança igual a $95\\%$.\n",
    "\n",
    "**Dica:** Aqui será necessário fazer uso da Normal Padrão, porém padronização a média amostral, ou seja,\n",
    "$$Z = \\frac{\\overline{X}-\\mu}{\\sigma/\\sqrt{n}} \\sim N(0; 1)$$"
   ]
  },
  {
   "cell_type": "code",
   "execution_count": null,
   "metadata": {},
   "outputs": [],
   "source": [
    "# ESCREVA SEU CÓDIGO AQUI"
   ]
  },
  {
   "cell_type": "code",
   "execution_count": 22,
   "metadata": {},
   "outputs": [
    {
     "data": {
      "text/plain": [
       "0.013589905085234374"
      ]
     },
     "execution_count": 22,
     "metadata": {},
     "output_type": "execute_result"
    }
   ],
   "source": [
    "me = stats.norm.ppf(0.95 + (0.065/2)) * (sigma/sqrt(13))\n",
    "me"
   ]
  },
  {
   "cell_type": "code",
   "execution_count": null,
   "metadata": {},
   "outputs": [],
   "source": []
  },
  {
   "cell_type": "markdown",
   "metadata": {},
   "source": [
    "**e)** Qual deveria ser o tamanho da amostra para se ter uma margem de erro de $3 k\\Omega$, com coeficiente de confiança igual a $95\\%$."
   ]
  },
  {
   "cell_type": "code",
   "execution_count": null,
   "metadata": {},
   "outputs": [],
   "source": [
    "# ESCREVA SEU CÓDIGO AQUI"
   ]
  },
  {
   "cell_type": "code",
   "execution_count": 19,
   "metadata": {},
   "outputs": [
    {
     "data": {
      "text/plain": [
       "267"
      ]
     },
     "execution_count": 19,
     "metadata": {},
     "output_type": "execute_result"
    }
   ],
   "source": [
    "tamanho = ((stats.norm.ppf(0.95 + 0.05/2) * sigma)/0.003)**2\n",
    "ceil(tamanho)"
   ]
  },
  {
   "cell_type": "code",
   "execution_count": null,
   "metadata": {},
   "outputs": [],
   "source": []
  },
  {
   "cell_type": "markdown",
   "metadata": {},
   "source": [
    "**f)** Agora, considerando a estimativa para a média populacional obtida no item (a), você compraria ou não o lote?\n",
    "Faça uma tomada de decisão baseada no cálculo de uma probabilidade. *Dica:* será necessário fazer alguma hipótese sobre o lote do fabricante. "
   ]
  },
  {
   "cell_type": "code",
   "execution_count": null,
   "metadata": {},
   "outputs": [],
   "source": [
    "# ESCREVA SEU CÓDIGO AQUI"
   ]
  },
  {
   "cell_type": "code",
   "execution_count": null,
   "metadata": {},
   "outputs": [],
   "source": [
    "# Assumindo que mu = media calculada\n"
   ]
  },
  {
   "cell_type": "code",
   "execution_count": null,
   "metadata": {},
   "outputs": [],
   "source": []
  },
  {
   "cell_type": "code",
   "execution_count": null,
   "metadata": {},
   "outputs": [],
   "source": []
  }
 ],
 "metadata": {
  "hide_input": false,
  "kernelspec": {
   "display_name": "Python 3 (ipykernel)",
   "language": "python",
   "name": "python3"
  },
  "language_info": {
   "codemirror_mode": {
    "name": "ipython",
    "version": 3
   },
   "file_extension": ".py",
   "mimetype": "text/x-python",
   "name": "python",
   "nbconvert_exporter": "python",
   "pygments_lexer": "ipython3",
   "version": "3.9.7"
  }
 },
 "nbformat": 4,
 "nbformat_minor": 2
}

{
 "cells": [
  {
   "cell_type": "markdown",
   "metadata": {},
   "source": [
    "___\n",
    "# Exercício: Uso da Distribuição Amostral da Média via resultado do TLC\n",
    "___\n",
    "## Aula 20"
   ]
  },
  {
   "cell_type": "markdown",
   "metadata": {},
   "source": [
    "<div id=\"indice\"></div>\n",
    "\n",
    "## Índice\n",
    "\n",
    "- [Exercício 1](#ex1)\n",
    "- [Exercício 2](#ex2)\n",
    "- [Exercício 3](#ex3)\n",
    "___"
   ]
  },
  {
   "cell_type": "code",
   "execution_count": 1,
   "metadata": {},
   "outputs": [],
   "source": [
    "%matplotlib inline\n",
    "%reset -f\n",
    "import matplotlib.pyplot as plt\n",
    "import pandas as pd\n",
    "import numpy as np\n",
    "from scipy import stats\n",
    "from scipy.stats import norm, uniform\n",
    "\n",
    "from math import sqrt"
   ]
  },
  {
   "cell_type": "markdown",
   "metadata": {},
   "source": [
    "___\n",
    "\n",
    "<div id=\"ex1\"></div>\n",
    "\n",
    "### EXERCÍCIO 1\n",
    "\n",
    "(Baseado em Montgomery Exercício 7-12 da Seção 7-2). \n",
    "\n",
    "A quantidade de tempo que um consumidor gasta esperando no balcão de *check-in* de um aeroporto é uma variável aleatória com média $8.2$ minutos e desvio padrão de $1.5$ minutos.\n",
    "\n",
    "Suponha que uma amostra aleatória de $n = 49$ consumidores seja observada.\n",
    "\n",
    "Encontre:\n",
    "\n",
    "a) a probabilidade de que o tempo médio amostral de espera na fila para esses consumidores seja menor do que 9 minutos\n",
    "\n",
    "b) a probabilidade de que o tempo médio amostral de espera na fila para esses consumidores seja entre 8 e 8.5 minutos\n",
    "\n",
    "c) a maior estimativa da média amostral referente aos 5% menores valores (mais difíceis) de acontecerem em uma amostra de 49 consumidores.\n",
    "\n",
    "d) a menor estimativa da média amostral referente aos 5% maiores valores (mais difíceis) de acontecerem em uma amostra de 49 consumidores.\n",
    "\n",
    "*Respostas esperadas: 0.9999055188751956, 0.7439193959139991, 7.847531365653255, 8.552468634346743*"
   ]
  },
  {
   "cell_type": "code",
   "execution_count": 11,
   "metadata": {},
   "outputs": [],
   "source": [
    "# ESCREVA SEU CÓDIGO AQUI\n",
    "mu = 8.2\n",
    "sigma = 1.5\n",
    "dpamostral = sqrt(sigma**2/49)"
   ]
  },
  {
   "cell_type": "code",
   "execution_count": 12,
   "metadata": {},
   "outputs": [
    {
     "data": {
      "text/plain": [
       "0.9999055188751956"
      ]
     },
     "execution_count": 12,
     "metadata": {},
     "output_type": "execute_result"
    }
   ],
   "source": [
    "stats.norm.cdf(9, mu, dpamostral)"
   ]
  },
  {
   "cell_type": "code",
   "execution_count": 14,
   "metadata": {},
   "outputs": [
    {
     "data": {
      "text/plain": [
       "0.7439193959139991"
      ]
     },
     "execution_count": 14,
     "metadata": {},
     "output_type": "execute_result"
    }
   ],
   "source": [
    "pentre8e85 = stats.norm.cdf(8.5, mu, dpamostral) - stats.norm.cdf(8, mu, dpamostral)\n",
    "pentre8e85"
   ]
  },
  {
   "cell_type": "code",
   "execution_count": 16,
   "metadata": {},
   "outputs": [
    {
     "data": {
      "text/plain": [
       "7.847531365653255"
      ]
     },
     "execution_count": 16,
     "metadata": {},
     "output_type": "execute_result"
    }
   ],
   "source": [
    "p5menores = stats.norm.ppf(0.05, mu, dpamostral)\n",
    "p5menores"
   ]
  },
  {
   "cell_type": "code",
   "execution_count": 17,
   "metadata": {},
   "outputs": [
    {
     "data": {
      "text/plain": [
       "8.552468634346743"
      ]
     },
     "execution_count": 17,
     "metadata": {},
     "output_type": "execute_result"
    }
   ],
   "source": [
    "p5maiores = stats.norm.ppf(0.95, mu, dpamostral)\n",
    "p5maiores"
   ]
  },
  {
   "cell_type": "markdown",
   "metadata": {},
   "source": [
    "___\n",
    "\n",
    "<div id=\"ex2\"></div>\n",
    "\n",
    "### EXERCÍCIO 2\n",
    "\n",
    "Suponha que a variável aleatória $X$ tem distribuição contínua Uniforme no intervalo de $[4; 6]$, ou seja, $f(x) = 1/2$, se $4 \\leq x \\leq 6$; e $f(x) = 0$, caso contrário.\n",
    "\n",
    "Apresente a distribuição da média amostral considerando 10 mil amostras aleatórias de tamanho $n = 40$ extraídas de $X$.\n",
    "\n",
    "*Resposta esperada: $ \\overline{X} \\sim Normal(5; 0.008333333333333333)$*"
   ]
  },
  {
   "cell_type": "code",
   "execution_count": 20,
   "metadata": {},
   "outputs": [
    {
     "name": "stdout",
     "output_type": "stream",
     "text": [
      "5.001132907102652\n",
      "0.008120434874393543\n"
     ]
    }
   ],
   "source": [
    "# ESCREVA SEU CÓDIGO AQUI\n",
    "# ESCREVA SEU CÓDIGO AQUI\n",
    "a = 4\n",
    "b = 6\n",
    "def amostra_uniforme(n):\n",
    "    return stats.uniform.rvs(a, b-a, size=n)\n",
    "\n",
    "def media_amostra(amostra):\n",
    "    return(sum(amostra)/len(amostra))\n",
    "\n",
    "def funcao_var(data):\n",
    "    n = len(data)\n",
    "    med = sum(data) / n\n",
    "    desv = [(x - med) ** 2 for x in data]\n",
    "    var = sum(desv) / n\n",
    "    return var\n",
    "\n",
    "lista_amostras = []\n",
    "for i in range(10000):\n",
    "    x = amostra_uniforme(40)\n",
    "    lista_amostras.append(media_amostra(x))\n",
    "    \n",
    "print(media_amostra(lista_amostras))\n",
    "print(funcao_var(lista_amostras))"
   ]
  },
  {
   "cell_type": "code",
   "execution_count": null,
   "metadata": {},
   "outputs": [],
   "source": []
  },
  {
   "cell_type": "markdown",
   "metadata": {},
   "source": [
    "___\n",
    "\n",
    "<div id=\"ex3\"></div>\n",
    "\n",
    "### EXERCÍCIO 3\n",
    "\n",
    "(Montgomery Exercício 7-3 da Seção 7-2). \n",
    "\n",
    "Tubos de PVC têm um diâmetro médio de $1.01 in$ e um desvio padrão de $0.003 in$. Encontre a probabilidade de que uma amostra aleatória de  $n = 9$  seções do tubo tenham um diâmetro médio de amostra maior que $1.009 in$ e menor que $1.012 in$.\n",
    "\n",
    "*Resposta esperada: 0.8185946141203909*"
   ]
  },
  {
   "cell_type": "code",
   "execution_count": 6,
   "metadata": {},
   "outputs": [],
   "source": [
    "# ESCREVA SEU CÓDIGO AQUI"
   ]
  },
  {
   "cell_type": "code",
   "execution_count": 36,
   "metadata": {},
   "outputs": [
    {
     "name": "stdout",
     "output_type": "stream",
     "text": [
      "0.8185946141203909\n"
     ]
    }
   ],
   "source": [
    "mu = 1.01\n",
    "sigma = 0.003\n",
    "n = 9\n",
    "dpamostra = sqrt(sigma**2/n)\n",
    "pmenor1009 = stats.norm.cdf(1.009, mu, dpamostra)\n",
    "pmenor1012 = stats.norm.cdf(1.012, mu, dpamostra)\n",
    "print(pmenor1012 - pmenor1009)"
   ]
  },
  {
   "cell_type": "code",
   "execution_count": null,
   "metadata": {},
   "outputs": [],
   "source": []
  },
  {
   "cell_type": "code",
   "execution_count": null,
   "metadata": {},
   "outputs": [],
   "source": []
  }
 ],
 "metadata": {
  "kernelspec": {
   "display_name": "Python 3 (ipykernel)",
   "language": "python",
   "name": "python3"
  },
  "language_info": {
   "codemirror_mode": {
    "name": "ipython",
    "version": 3
   },
   "file_extension": ".py",
   "mimetype": "text/x-python",
   "name": "python",
   "nbconvert_exporter": "python",
   "pygments_lexer": "ipython3",
   "version": "3.9.7"
  }
 },
 "nbformat": 4,
 "nbformat_minor": 2
}
